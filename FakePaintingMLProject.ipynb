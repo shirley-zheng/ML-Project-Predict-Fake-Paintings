{
 "cells": [
  {
   "cell_type": "markdown",
   "metadata": {},
   "source": [
    "# Predict if a painting purchased at auction is a fake"
   ]
  },
  {
   "cell_type": "markdown",
   "metadata": {},
   "source": [
    "**One of the biggest challenges of an purchasing a painting at an auction is the risk of that the painting might have serious issues that prevent it from being sold to customers. The artist community calls these unfortunate purchases \"fakes\",\"lemons\", \"kicks\" or \"Bad Buys\". Machine Learning experts who can figure out which paintings have a higher risk of being kick can provide real value to auction houses trying to provide the best inventory selection possible to their customers. This challenge is to predict if the painting purchased at the Auction is a bad buy.**"
   ]
  },
  {
   "cell_type": "markdown",
   "metadata": {},
   "source": [
    "** Dataset Description:** \n",
    "* RefID:Unique (sequential) number assigned to paintings\n",
    "* IsBadBuy: Identities if the kicked painting was an avoidable purchase\n",
    "* PurchDate: The Date the painting was Purchased at Auction\n",
    "* Auction: Auction provider at which the painting was purchased\n",
    "* PaintingYear: The year of the painting\n",
    "* PaintingAge: The Years elapsed since the Painting year\n",
    "* Artist: painting Manufacturer\n",
    "* Painting name: painting name. Each painting names may have painting categories embedded like \"T1,T2,etc\".\n",
    "* Trim: painting Trim Level\n",
    "* SubType: painting SubType\n",
    "* Canvas Color: Canvas Color for painting\n",
    "* Market: Market for painting (Commercial, Non-commercial)\n",
    "* FrameTypeID: The type id of the painting frame\n",
    "* FrameType: The painting frame type description (Wood,Metal)\n",
    "* Bids: The total bids on paintings.\n",
    "* Nationality: The artist's country\n",
    "* Size: The size category of the painting\n",
    "* TopThreeNYCName: Identities if the artist is one of the top three NYC artists.\n",
    "* MMRAcquisitionAuctionAveragePrice: Acquisition price for this painting in average condition at time of purchase\n",
    "* MMRAcquisitionAuctionCleanPrice: Acquisition price for this painting in the above Average condition at time of purchase\n",
    "* MMRAcquisitionRetailAveragePrice: Acquisition price for this painting in the retail market in average condition at time of purchase\n",
    "* MMRAcquisitonRetailCleanPrice: Acquisition price for this painting in the retail market in above average condition at time of purchase\n",
    "* MMRCurrentAuctionAveragePrice: Acquisition price for this painting in average condition as of current day\n",
    "* MMRCurrentAuctionCleanPrice: Acquisition price for this painting in the above condition as of current day\n",
    "* MMRCurrentRetailAveragePrice: Acquisition price for this painting in the retail market in average condition as of current day\n",
    "* MMRCurrentRetailCleanPrice: Acquisition price for this painting in the retail market in above average condition as of current day\n",
    "* PRIMEUNIT: Identities if the painting would have a higher demand than a standard purchase\n",
    "* AcquisitionType: Identities how the painting was aquired (Auction buy, trade in, etc)\n",
    "* AUCGUART: The level guarantee provided by auction for the painting (Green light - Guaranteed/arbitratable, Yellow Light - caution/issue, red light - sold as is)\n",
    "* KickDate: Date the painting was kicked back to the auction\n",
    "* BYRNO: Unique number assigned to the buyer that purchased the painting.\n",
    "* VNZIP: Zipcode where the painting was purchased.\n",
    "* VNST: State where the the painting was purchased.\n",
    "* PaintingBCost: Acquisition cost paid for the painting at time of purchase.\n",
    "* IsOnlineSale: Identities if the painting was originally purchased online.\n",
    "* WarrantyCost: Warranty price (term=36month)"
   ]
  },
  {
   "cell_type": "markdown",
   "metadata": {},
   "source": [
    "## 1. Initial Data Exploration"
   ]
  },
  {
   "cell_type": "markdown",
   "metadata": {},
   "source": [
    "### 1a) load train dataset and split into train, criss-validation and test dataframes"
   ]
  },
  {
   "cell_type": "code",
   "execution_count": 45,
   "metadata": {
    "scrolled": true
   },
   "outputs": [
    {
     "name": "stdout",
     "output_type": "stream",
     "text": [
      "<class 'pandas.core.frame.DataFrame'>\n",
      "Int64Index: 30652 entries, 16887 to 790\n",
      "Data columns (total 34 columns):\n",
      "RT13Id                               30652 non-null int64\n",
      "IsBadBuy                             30652 non-null int64\n",
      "PurchDate                            30652 non-null object\n",
      "Auction                              30652 non-null object\n",
      "PaintingYear                         30652 non-null int64\n",
      "PaintingAge                          30652 non-null int64\n",
      "Artist                               30652 non-null object\n",
      "PaintingName                         30652 non-null object\n",
      "Trim                                 29607 non-null object\n",
      "SubType                              30650 non-null object\n",
      "CanvasColor                          30650 non-null object\n",
      "Market                               30649 non-null object\n",
      "FrameTypeID                          29310 non-null float64\n",
      "FrameType                            29307 non-null object\n",
      "Bids                                 30652 non-null int64\n",
      "Nationality                          30649 non-null object\n",
      "Size                                 30649 non-null object\n",
      "TopThreeNYCName                      30649 non-null object\n",
      "MMRAcquisitionAuctionAveragePrice    30646 non-null float64\n",
      "MMRAcquisitionAuctionCleanPrice      30646 non-null float64\n",
      "MMRAcquisitionRetailAveragePrice     30646 non-null float64\n",
      "MMRAcquisitonRetailCleanPrice        30646 non-null float64\n",
      "MMRCurrentAuctionAveragePrice        30521 non-null float64\n",
      "MMRCurrentAuctionCleanPrice          30521 non-null float64\n",
      "MMRCurrentRetailAveragePrice         30521 non-null float64\n",
      "MMRCurrentRetailCleanPrice           30521 non-null float64\n",
      "PRIMEUNIT                            1460 non-null object\n",
      "AUCGUART                             1460 non-null object\n",
      "BYRNO                                30652 non-null int64\n",
      "VNZIP1                               30652 non-null int64\n",
      "VNST                                 30652 non-null object\n",
      "PaintingBCost                        30652 non-null float64\n",
      "IsOnlineSale                         30652 non-null int64\n",
      "WarrantyCost                         30652 non-null int64\n",
      "dtypes: float64(10), int64(9), object(15)\n",
      "memory usage: 8.2+ MB\n",
      "None\n",
      "<class 'pandas.core.frame.DataFrame'>\n",
      "Int64Index: 10218 entries, 2873 to 22319\n",
      "Data columns (total 34 columns):\n",
      "RT13Id                               10218 non-null int64\n",
      "IsBadBuy                             10218 non-null int64\n",
      "PurchDate                            10218 non-null object\n",
      "Auction                              10218 non-null object\n",
      "PaintingYear                         10218 non-null int64\n",
      "PaintingAge                          10218 non-null int64\n",
      "Artist                               10218 non-null object\n",
      "PaintingName                         10218 non-null object\n",
      "Trim                                 9922 non-null object\n",
      "SubType                              10217 non-null object\n",
      "CanvasColor                          10217 non-null object\n",
      "Market                               10217 non-null object\n",
      "FrameTypeID                          9763 non-null float64\n",
      "FrameType                            9762 non-null object\n",
      "Bids                                 10218 non-null int64\n",
      "Nationality                          10218 non-null object\n",
      "Size                                 10218 non-null object\n",
      "TopThreeNYCName                      10218 non-null object\n",
      "MMRAcquisitionAuctionAveragePrice    10215 non-null float64\n",
      "MMRAcquisitionAuctionCleanPrice      10215 non-null float64\n",
      "MMRAcquisitionRetailAveragePrice     10215 non-null float64\n",
      "MMRAcquisitonRetailCleanPrice        10215 non-null float64\n",
      "MMRCurrentAuctionAveragePrice        10174 non-null float64\n",
      "MMRCurrentAuctionCleanPrice          10174 non-null float64\n",
      "MMRCurrentRetailAveragePrice         10174 non-null float64\n",
      "MMRCurrentRetailCleanPrice           10174 non-null float64\n",
      "PRIMEUNIT                            452 non-null object\n",
      "AUCGUART                             452 non-null object\n",
      "BYRNO                                10218 non-null int64\n",
      "VNZIP1                               10218 non-null int64\n",
      "VNST                                 10218 non-null object\n",
      "PaintingBCost                        10218 non-null float64\n",
      "IsOnlineSale                         10218 non-null int64\n",
      "WarrantyCost                         10218 non-null int64\n",
      "dtypes: float64(10), int64(9), object(15)\n",
      "memory usage: 2.7+ MB\n",
      "None\n",
      "<class 'pandas.core.frame.DataFrame'>\n",
      "Int64Index: 10218 entries, 42208 to 27439\n",
      "Data columns (total 34 columns):\n",
      "RT13Id                               10218 non-null int64\n",
      "IsBadBuy                             10218 non-null int64\n",
      "PurchDate                            10218 non-null object\n",
      "Auction                              10218 non-null object\n",
      "PaintingYear                         10218 non-null int64\n",
      "PaintingAge                          10218 non-null int64\n",
      "Artist                               10218 non-null object\n",
      "PaintingName                         10218 non-null object\n",
      "Trim                                 9866 non-null object\n",
      "SubType                              10217 non-null object\n",
      "CanvasColor                          10217 non-null object\n",
      "Market                               10217 non-null object\n",
      "FrameTypeID                          9774 non-null float64\n",
      "FrameType                            9774 non-null object\n",
      "Bids                                 10218 non-null int64\n",
      "Nationality                          10218 non-null object\n",
      "Size                                 10218 non-null object\n",
      "TopThreeNYCName                      10218 non-null object\n",
      "MMRAcquisitionAuctionAveragePrice    10216 non-null float64\n",
      "MMRAcquisitionAuctionCleanPrice      10216 non-null float64\n",
      "MMRAcquisitionRetailAveragePrice     10216 non-null float64\n",
      "MMRAcquisitonRetailCleanPrice        10216 non-null float64\n",
      "MMRCurrentAuctionAveragePrice        10171 non-null float64\n",
      "MMRCurrentAuctionCleanPrice          10171 non-null float64\n",
      "MMRCurrentRetailAveragePrice         10171 non-null float64\n",
      "MMRCurrentRetailCleanPrice           10171 non-null float64\n",
      "PRIMEUNIT                            474 non-null object\n",
      "AUCGUART                             474 non-null object\n",
      "BYRNO                                10218 non-null int64\n",
      "VNZIP1                               10218 non-null int64\n",
      "VNST                                 10218 non-null object\n",
      "PaintingBCost                        10218 non-null float64\n",
      "IsOnlineSale                         10218 non-null int64\n",
      "WarrantyCost                         10218 non-null int64\n",
      "dtypes: float64(10), int64(9), object(15)\n",
      "memory usage: 2.7+ MB\n",
      "None\n"
     ]
    }
   ],
   "source": [
    "import os\n",
    "import numpy as np\n",
    "import pandas as pd\n",
    "import os\n",
    "np.random.seed(1234)\n",
    "df = pd.read_csv('~/Desktop/Github/PaintDataSet/train_dataset.csv')\n",
    "train, cv, test = np.split(df.sample(frac=1), [int(.6*len(df)), int(.8*len(df))])\n",
    "print(train.info())\n",
    "print(cv.info())\n",
    "print(test.info())\n"
   ]
  },
  {
   "cell_type": "markdown",
   "metadata": {},
   "source": [
    "### 1b) scatterplot for current retail clean price vs current retail avg price"
   ]
  },
  {
   "cell_type": "code",
   "execution_count": 46,
   "metadata": {
    "scrolled": false
   },
   "outputs": [
    {
     "data": {
      "image/png": "[encoded data removed]",
      "text/plain": [
       "<matplotlib.figure.Figure at 0x1a24b59be0>"
      ]
     },
     "metadata": {},
     "output_type": "display_data"
    }
   ],
   "source": [
    "import matplotlib.pyplot as plt\n",
    "plt.style.use('seaborn-whitegrid')\n",
    "import numpy as np\n",
    "plt.scatter(x=df.MMRCurrentRetailCleanPrice, y=df.MMRCurrentRetailAveragePrice, marker='o');\n",
    "plt.title(\"current retail clean price vs current retail avg price\")\n",
    "plt.xlabel(\"current retail clean price\")\n",
    "plt.ylabel(\"current retail avg price\")\n",
    "plt.show()"
   ]
  },
  {
   "cell_type": "markdown",
   "metadata": {},
   "source": [
    "Current retail clean price and current retail avg price have linear relationship."
   ]
  },
  {
   "cell_type": "markdown",
   "metadata": {},
   "source": [
    "### 1c) plot distributions for the painting age, bids, warranty costs, acquisitions costs, etc."
   ]
  },
  {
   "cell_type": "code",
   "execution_count": 47,
   "metadata": {},
   "outputs": [],
   "source": [
    "%matplotlib inline\n",
    "import numpy as np\n",
    "import pandas as pd\n",
    "import seaborn as sns\n",
    "import matplotlib.pyplot as plt\n",
    "from scipy import stats"
   ]
  },
  {
   "cell_type": "code",
   "execution_count": 48,
   "metadata": {},
   "outputs": [
    {
     "data": {
      "image/png": "[encoded data removed]",
      "text/plain": [
       "<matplotlib.figure.Figure at 0x1a225735c0>"
      ]
     },
     "metadata": {},
     "output_type": "display_data"
    }
   ],
   "source": [
    "age = sns.distplot(df[\"PaintingAge\"])"
   ]
  },
  {
   "cell_type": "code",
   "execution_count": 49,
   "metadata": {},
   "outputs": [
    {
     "data": {
      "image/png": "[encoded data removed]",
      "text/plain": [
       "<matplotlib.figure.Figure at 0x1153ecac8>"
      ]
     },
     "metadata": {},
     "output_type": "display_data"
    }
   ],
   "source": [
    "bids = sns.distplot(df[\"Bids\"])"
   ]
  },
  {
   "cell_type": "code",
   "execution_count": 50,
   "metadata": {
    "scrolled": true
   },
   "outputs": [
    {
     "data": {
      "image/png": "[encoded data removed]",
      "text/plain": [
       "<matplotlib.figure.Figure at 0x115e7b2b0>"
      ]
     },
     "metadata": {},
     "output_type": "display_data"
    }
   ],
   "source": [
    "WarrantyCost = sns.distplot(df[\"WarrantyCost\"])"
   ]
  },
  {
   "cell_type": "code",
   "execution_count": 51,
   "metadata": {},
   "outputs": [
    {
     "data": {
      "image/png": "[encoded data removed]",
      "text/plain": [
       "<matplotlib.figure.Figure at 0x11581b588>"
      ]
     },
     "metadata": {},
     "output_type": "display_data"
    }
   ],
   "source": [
    "PaintingBCost = sns.distplot(df[\"PaintingBCost\"])"
   ]
  },
  {
   "cell_type": "code",
   "execution_count": 52,
   "metadata": {},
   "outputs": [
    {
     "data": {
      "image/png": "[encoded data removed]",
      "text/plain": [
       "<matplotlib.figure.Figure at 0x116315be0>"
      ]
     },
     "metadata": {},
     "output_type": "display_data"
    }
   ],
   "source": [
    "df = df.dropna(subset=['MMRAcquisitionAuctionAveragePrice'])\n",
    "df['MMRAcquisitionAuctionAveragePrice'] = df['MMRAcquisitionAuctionAveragePrice'].astype(int)\n",
    "MMRAcquisitionAuctionAveragePrice = sns.distplot(df[\"MMRAcquisitionAuctionAveragePrice\"])"
   ]
  },
  {
   "cell_type": "code",
   "execution_count": 53,
   "metadata": {},
   "outputs": [
    {
     "data": {
      "image/png": "[encoded data removed]",
      "text/plain": [
       "<matplotlib.figure.Figure at 0x1a22e1a080>"
      ]
     },
     "metadata": {},
     "output_type": "display_data"
    }
   ],
   "source": [
    "df = df.dropna(subset=['MMRAcquisitionAuctionCleanPrice'])\n",
    "df['MMRAcquisitionAuctionCleanPrice'] = df['MMRAcquisitionAuctionCleanPrice'].astype(int)\n",
    "MMRAcquisitionAuctionCleanPrice = sns.distplot(df[\"MMRAcquisitionAuctionCleanPrice\"])"
   ]
  },
  {
   "cell_type": "code",
   "execution_count": 54,
   "metadata": {},
   "outputs": [
    {
     "data": {
      "image/png": "[encoded data removed]",
      "text/plain": [
       "<matplotlib.figure.Figure at 0x1100ed2e8>"
      ]
     },
     "metadata": {},
     "output_type": "display_data"
    }
   ],
   "source": [
    "df = df.dropna(subset=['MMRAcquisitionRetailAveragePrice'])\n",
    "df['MMRAcquisitionRetailAveragePrice'] = df['MMRAcquisitionRetailAveragePrice'].astype(int)\n",
    "MMRAcquisitionRetailAveragePrice = sns.distplot(df[\"MMRAcquisitionRetailAveragePrice\"])"
   ]
  },
  {
   "cell_type": "code",
   "execution_count": 55,
   "metadata": {},
   "outputs": [
    {
     "data": {
      "image/png": "[encoded data removed]",
      "text/plain": [
       "<matplotlib.figure.Figure at 0x1172696d8>"
      ]
     },
     "metadata": {},
     "output_type": "display_data"
    }
   ],
   "source": [
    "df = df.dropna(subset=['MMRAcquisitonRetailCleanPrice'])\n",
    "df['MMRAcquisitonRetailCleanPrice'] = df['MMRAcquisitonRetailCleanPrice'].astype(int)\n",
    "MMRAcquisitonRetailCleanPrice = sns.distplot(df[\"MMRAcquisitonRetailCleanPrice\"])"
   ]
  },
  {
   "cell_type": "code",
   "execution_count": 56,
   "metadata": {},
   "outputs": [
    {
     "data": {
      "image/png": "[encoded data removed]",
      "text/plain": [
       "<matplotlib.figure.Figure at 0x1a22667ba8>"
      ]
     },
     "metadata": {},
     "output_type": "display_data"
    }
   ],
   "source": [
    "df = df.dropna(subset=['MMRCurrentAuctionAveragePrice'])\n",
    "df['MMRCurrentAuctionAveragePrice'] = df['MMRCurrentAuctionAveragePrice'].astype(int)\n",
    "MMRCurrentAuctionAveragePrice = sns.distplot(df[\"MMRCurrentAuctionAveragePrice\"])"
   ]
  },
  {
   "cell_type": "code",
   "execution_count": 57,
   "metadata": {},
   "outputs": [
    {
     "data": {
      "image/png": "[encoded data removed]",
      "text/plain": [
       "<matplotlib.figure.Figure at 0x1181d75f8>"
      ]
     },
     "metadata": {},
     "output_type": "display_data"
    }
   ],
   "source": [
    "df = df.dropna(subset=['MMRCurrentAuctionCleanPrice'])\n",
    "df['MMRCurrentAuctionCleanPrice'] = df['MMRCurrentAuctionCleanPrice'].astype(int)\n",
    "MMRCurrentAuctionCleanPrice = sns.distplot(df[\"MMRCurrentAuctionCleanPrice\"])"
   ]
  },
  {
   "cell_type": "code",
   "execution_count": 58,
   "metadata": {},
   "outputs": [
    {
     "data": {
      "image/png": "[encoded data removed]",
      "text/plain": [
       "<matplotlib.figure.Figure at 0x1170482e8>"
      ]
     },
     "metadata": {},
     "output_type": "display_data"
    }
   ],
   "source": [
    "df = df.dropna(subset=['MMRCurrentRetailAveragePrice'])\n",
    "df['MMRCurrentRetailAveragePrice'] = df['MMRCurrentRetailAveragePrice'].astype(int)\n",
    "MMRCurrentRetailAveragePrice = sns.distplot(df[\"MMRCurrentRetailAveragePrice\"])"
   ]
  },
  {
   "cell_type": "code",
   "execution_count": 59,
   "metadata": {},
   "outputs": [
    {
     "data": {
      "image/png": "[encoded data removed]",
      "text/plain": [
       "<matplotlib.figure.Figure at 0x116c79b70>"
      ]
     },
     "metadata": {},
     "output_type": "display_data"
    }
   ],
   "source": [
    "df = df.dropna(subset=['MMRCurrentRetailCleanPrice'])\n",
    "df['MMRCurrentRetailCleanPrice'] = df['MMRCurrentRetailCleanPrice'].astype(int)\n",
    "MMRCurrentRetailCleanPrice = sns.distplot(df[\"MMRCurrentRetailCleanPrice\"])"
   ]
  },
  {
   "cell_type": "markdown",
   "metadata": {},
   "source": [
    "## 2. Feature Engineering"
   ]
  },
  {
   "cell_type": "markdown",
   "metadata": {},
   "source": [
    "### 2a) Drop ID variable"
   ]
  },
  {
   "cell_type": "code",
   "execution_count": 60,
   "metadata": {},
   "outputs": [
    {
     "name": "stdout",
     "output_type": "stream",
     "text": [
      "<class 'pandas.core.frame.DataFrame'>\n",
      "Int64Index: 50866 entries, 0 to 51087\n",
      "Data columns (total 33 columns):\n",
      "IsBadBuy                             50866 non-null int64\n",
      "PurchDate                            50866 non-null object\n",
      "Auction                              50866 non-null object\n",
      "PaintingYear                         50866 non-null int64\n",
      "PaintingAge                          50866 non-null int64\n",
      "Artist                               50866 non-null object\n",
      "PaintingName                         50866 non-null object\n",
      "Trim                                 49175 non-null object\n",
      "SubType                              50862 non-null object\n",
      "CanvasColor                          50862 non-null object\n",
      "Market                               50861 non-null object\n",
      "FrameTypeID                          48627 non-null float64\n",
      "FrameType                            48623 non-null object\n",
      "Bids                                 50866 non-null int64\n",
      "Nationality                          50865 non-null object\n",
      "Size                                 50865 non-null object\n",
      "TopThreeNYCName                      50865 non-null object\n",
      "MMRAcquisitionAuctionAveragePrice    50866 non-null int64\n",
      "MMRAcquisitionAuctionCleanPrice      50866 non-null int64\n",
      "MMRAcquisitionRetailAveragePrice     50866 non-null int64\n",
      "MMRAcquisitonRetailCleanPrice        50866 non-null int64\n",
      "MMRCurrentAuctionAveragePrice        50866 non-null int64\n",
      "MMRCurrentAuctionCleanPrice          50866 non-null int64\n",
      "MMRCurrentRetailAveragePrice         50866 non-null int64\n",
      "MMRCurrentRetailCleanPrice           50866 non-null int64\n",
      "PRIMEUNIT                            2377 non-null object\n",
      "AUCGUART                             2377 non-null object\n",
      "BYRNO                                50866 non-null int64\n",
      "VNZIP1                               50866 non-null int64\n",
      "VNST                                 50866 non-null object\n",
      "PaintingBCost                        50866 non-null float64\n",
      "IsOnlineSale                         50866 non-null int64\n",
      "WarrantyCost                         50866 non-null int64\n",
      "dtypes: float64(2), int64(16), object(15)\n",
      "memory usage: 13.2+ MB\n",
      "None\n"
     ]
    }
   ],
   "source": [
    "df.drop(['RT13Id'],axis=1,inplace = True)\n",
    "print(df.info())"
   ]
  },
  {
   "cell_type": "markdown",
   "metadata": {},
   "source": [
    "### 2b) Extract the painting categories T1-T13 from Painting Name and subtype. Create new columns for above extracted categories with 1 or 0 as outcome values.\n"
   ]
  },
  {
   "cell_type": "code",
   "execution_count": 61,
   "metadata": {
    "scrolled": true
   },
   "outputs": [
    {
     "data": {
      "text/plain": [
       "0      15116\n",
       "T6     14119\n",
       "T7      7324\n",
       "T11     2954\n",
       "T5      2415\n",
       "T13     2261\n",
       "T2      2073\n",
       "T10     1630\n",
       "T8      1362\n",
       "T4       762\n",
       "T1       392\n",
       "T12      236\n",
       "T3       166\n",
       "T9        56\n",
       "Name: PaintingCategories, dtype: int64"
      ]
     },
     "execution_count": 61,
     "metadata": {},
     "output_type": "execute_result"
    }
   ],
   "source": [
    "import re\n",
    "def get_paintingcat(str1,str2):\n",
    "    r=re.compile(r\".*\\s(T+\\d{1,2}).*\")\n",
    "    if str1!= str1 or str2!= str2:\n",
    "        return 0\n",
    "    if r.match(str1):\n",
    "        return r.match(str1).group(1)\n",
    "    elif r.match(str2):\n",
    "        return r.match(str2).group(1)\n",
    "    else:\n",
    "        return 0\n",
    "df['PaintingCategories'] = df.apply(lambda x: get_paintingcat(x.PaintingName,x.SubType), axis=1)\n",
    "df['PaintingCategories'].value_counts()   \n",
    "# df1=df[['PaintingName','PaintingCategories']]\n",
    "# df1"
   ]
  },
  {
   "cell_type": "markdown",
   "metadata": {},
   "source": [
    "### 2c) The dataset describes the number of quality checks. to extract this use Painting Name. Each check is described three ways I4,I-4,I4 and I6,I-6,I 6."
   ]
  },
  {
   "cell_type": "code",
   "execution_count": 62,
   "metadata": {},
   "outputs": [
    {
     "name": "stderr",
     "output_type": "stream",
     "text": [
      "/Users/shirleyzheng/anaconda3/lib/python3.6/site-packages/ipykernel_launcher.py:1: FutureWarning: currently extract(expand=None) means expand=False (return Index/Series/DataFrame) but in a future version of pandas this will be changed to expand=True (return DataFrame)\n",
      "  \"\"\"Entry point for launching an IPython kernel.\n"
     ]
    },
    {
     "data": {
      "text/plain": [
       "0      43889\n",
       "I4      6298\n",
       "I-4      567\n",
       "I6        96\n",
       "I 4       10\n",
       "I-6        6\n",
       "Name: QualityChecks, dtype: int64"
      ]
     },
     "execution_count": 62,
     "metadata": {},
     "output_type": "execute_result"
    }
   ],
   "source": [
    "df['QualityChecks'] = df['PaintingName'].str.extract('(I\\S[4,6]|I[4,6]|I\\s[4,6])').fillna(value=0)\n",
    "df['QualityChecks'].value_counts()"
   ]
  },
  {
   "cell_type": "markdown",
   "metadata": {},
   "source": [
    "### 2d) Painting size is also encoded in painting name and subtype. For example 3.5L . Extract that using grep function."
   ]
  },
  {
   "cell_type": "code",
   "execution_count": 63,
   "metadata": {},
   "outputs": [
    {
     "data": {
      "text/plain": [
       "0       22589\n",
       "3.5L     3485\n",
       "2.4L     2696\n",
       "3.0L     2357\n",
       "2.2L     2193\n",
       "2.0L     1916\n",
       "4.2L     1759\n",
       "2.7L     1715\n",
       "3.3L     1714\n",
       "3.8L     1626\n",
       "4.7L     1318\n",
       "3.4L     1138\n",
       "3.9L      803\n",
       "3.7L      683\n",
       "4.0L      663\n",
       "4.6L      660\n",
       "5.3L      557\n",
       "5.4L      443\n",
       "2.3L      442\n",
       "5.7L      436\n",
       "1.6L      279\n",
       "4.8L      257\n",
       "4.3L      223\n",
       "2.5L      210\n",
       "3.1L      183\n",
       "1.8L      136\n",
       "5.6L      103\n",
       "2.8L       73\n",
       "5.9L       57\n",
       "1.9L       41\n",
       "6.0L       27\n",
       "1.5L       23\n",
       "1L         23\n",
       "3.2L       13\n",
       "3.6L       10\n",
       "1.7L        9\n",
       "2.9L        3\n",
       "5.2L        1\n",
       "4.5L        1\n",
       "6.2L        1\n",
       "Name: PaintingSize, dtype: int64"
      ]
     },
     "execution_count": 63,
     "metadata": {},
     "output_type": "execute_result"
    }
   ],
   "source": [
    "import re\n",
    "def get_paintingsize(str1,str2):\n",
    "    r=re.compile(r\".*\\s(.*\\dL).*\")\n",
    "    if str1!= str1 or str2!= str2:\n",
    "        return 0\n",
    "    if r.match(str1):\n",
    "        return r.match(str1).group(1)\n",
    "    elif r.match(str2):\n",
    "        return r.match(str2).group(1)\n",
    "    else:\n",
    "        return 0\n",
    "df['PaintingSize'] = df.apply(lambda x: get_paintingsize(x.PaintingName,x.SubType), axis=1)\n",
    "df['PaintingSize'] = df['PaintingSize'].replace('4-FI-2.0L', value=0)\n",
    "df['PaintingSize'] = df['PaintingSize'].replace('/3.3L', value=0)\n",
    "df['PaintingSize'].value_counts()   "
   ]
  },
  {
   "cell_type": "markdown",
   "metadata": {},
   "source": [
    "### 2e) Sub Type contains categories of the painting. Genre, History, Still Life, Real Life, Landscape, Portrait and Fine Art. Extract this information."
   ]
  },
  {
   "cell_type": "code",
   "execution_count": 64,
   "metadata": {},
   "outputs": [
    {
     "name": "stderr",
     "output_type": "stream",
     "text": [
      "/Users/shirleyzheng/anaconda3/lib/python3.6/site-packages/ipykernel_launcher.py:1: FutureWarning: currently extract(expand=None) means expand=False (return Index/Series/DataFrame) but in a future version of pandas this will be changed to expand=True (return DataFrame)\n",
      "  \"\"\"Entry point for launching an IPython kernel.\n"
     ]
    },
    {
     "data": {
      "text/plain": [
       "Genre         29643\n",
       "0             12424\n",
       "History        2858\n",
       "Portrait       2300\n",
       "Landscape      1782\n",
       "Fine Art        906\n",
       "Still Life      859\n",
       "Real Life        94\n",
       "Name: PaintingCategories, dtype: int64"
      ]
     },
     "execution_count": 64,
     "metadata": {},
     "output_type": "execute_result"
    }
   ],
   "source": [
    "df['PaintingCategories'] = df['SubType'].str.extract('(Genre|History|Still\\sLife|Real\\sLife|Landscape|Portrait|Fine\\sArt)').fillna(value=0)\n",
    "df['PaintingCategories'].value_counts()"
   ]
  },
  {
   "cell_type": "markdown",
   "metadata": {},
   "source": [
    "### 2f) Calculate ratio for prices and bids as part of feature engineering."
   ]
  },
  {
   "cell_type": "code",
   "execution_count": 65,
   "metadata": {
    "collapsed": true
   },
   "outputs": [],
   "source": [
    "df['MMRAcquisitionAuctionAveragePriceRatio'] = df['MMRAcquisitionAuctionAveragePrice']/df['Bids']\n",
    "df['MMRAcquisitionAuctionCleanPriceRatio'] = df['MMRAcquisitionAuctionCleanPrice']/df['Bids']  \n",
    "df['MMRAcquisitionRetailAveragePriceRatio'] = df['MMRAcquisitionRetailAveragePrice']/df['Bids']  \n",
    "df['MMRAcquisitonRetailCleanPriceRatio'] = df['MMRAcquisitonRetailCleanPrice']/df['Bids']  \n",
    "df['MMRCurrentAuctionAveragePriceRatio'] = df['MMRCurrentAuctionAveragePrice']/df['Bids']  \n",
    "df['MMRCurrentAuctionCleanPriceRatio'] = df['MMRCurrentAuctionCleanPrice']/df['Bids']  \n",
    "df['MMRCurrentRetailAveragePriceRatio'] = df['MMRCurrentRetailAveragePrice']/df['Bids']  \n",
    "df['MMRCurrentRetailCleanPriceRatio'] = df['MMRCurrentRetailCleanPrice']/df['Bids']  "
   ]
  },
  {
   "cell_type": "markdown",
   "metadata": {},
   "source": [
    "### 2g) Compute dummmies for factors (Artist, painting Year, CanvasColor,etc). For example convert categorical variables to dummy indicator variables."
   ]
  },
  {
   "cell_type": "code",
   "execution_count": 66,
   "metadata": {
    "collapsed": true
   },
   "outputs": [],
   "source": [
    "df_Artist = pd.get_dummies(df['Artist'])\n",
    "df_Auction = pd.get_dummies(df['Auction'])\n",
    "df_PaintingName = pd.get_dummies(df['PaintingName'])\n",
    "df_Trim = pd.get_dummies(df['Trim'])\n",
    "df_PaintingName = pd.get_dummies(df['PaintingName'])\n",
    "df_SubType = pd.get_dummies(df['SubType'])\n",
    "df_CanvasColor = pd.get_dummies(df['CanvasColor'])\n",
    "df_Market = pd.get_dummies(df['Market'])\n",
    "df_CanvasColor = pd.get_dummies(df['CanvasColor'])\n",
    "df_FrameType = pd.get_dummies(df['FrameType'])\n",
    "df_Nationality = pd.get_dummies(df['Nationality'])\n",
    "df_Size = pd.get_dummies(df['Size'])\n",
    "df_TopThreeNYCName = pd.get_dummies(df['TopThreeNYCName'])\n",
    "df_PRIMEUNIT = pd.get_dummies(df['PRIMEUNIT'])\n",
    "df_AUCGUART = pd.get_dummies(df['AUCGUART'])\n",
    "df_VNST = pd.get_dummies(df['VNST'])\n"
   ]
  },
  {
   "cell_type": "markdown",
   "metadata": {},
   "source": [
    "## 3. Additional Feature Engineering"
   ]
  },
  {
   "cell_type": "markdown",
   "metadata": {},
   "source": [
    "### 3a) Separating day, month, year from purchase date."
   ]
  },
  {
   "cell_type": "code",
   "execution_count": 67,
   "metadata": {},
   "outputs": [
    {
     "data": {
      "text/html": [
       "<div>\n",
       "<style>\n",
       "    .dataframe thead tr:only-child th {\n",
       "        text-align: right;\n",
       "    }\n",
       "\n",
       "    .dataframe thead th {\n",
       "        text-align: left;\n",
       "    }\n",
       "\n",
       "    .dataframe tbody tr th {\n",
       "        vertical-align: top;\n",
       "    }\n",
       "</style>\n",
       "<table border=\"1\" class=\"dataframe\">\n",
       "  <thead>\n",
       "    <tr style=\"text-align: right;\">\n",
       "      <th></th>\n",
       "      <th>IsBadBuy</th>\n",
       "      <th>PurchDate</th>\n",
       "      <th>Auction</th>\n",
       "      <th>PaintingYear</th>\n",
       "      <th>PaintingAge</th>\n",
       "      <th>Artist</th>\n",
       "      <th>PaintingName</th>\n",
       "      <th>Trim</th>\n",
       "      <th>SubType</th>\n",
       "      <th>CanvasColor</th>\n",
       "      <th>...</th>\n",
       "      <th>MMRAcquisitionAuctionCleanPriceRatio</th>\n",
       "      <th>MMRAcquisitionRetailAveragePriceRatio</th>\n",
       "      <th>MMRAcquisitonRetailCleanPriceRatio</th>\n",
       "      <th>MMRCurrentAuctionAveragePriceRatio</th>\n",
       "      <th>MMRCurrentAuctionCleanPriceRatio</th>\n",
       "      <th>MMRCurrentRetailAveragePriceRatio</th>\n",
       "      <th>MMRCurrentRetailCleanPriceRatio</th>\n",
       "      <th>Year</th>\n",
       "      <th>Month</th>\n",
       "      <th>Day</th>\n",
       "    </tr>\n",
       "  </thead>\n",
       "  <tbody>\n",
       "    <tr>\n",
       "      <th>0</th>\n",
       "      <td>0</td>\n",
       "      <td>4/21/10</td>\n",
       "      <td>Christie's</td>\n",
       "      <td>2007</td>\n",
       "      <td>3</td>\n",
       "      <td>Cai Jin</td>\n",
       "      <td>TUCSON T2 T7</td>\n",
       "      <td>GLS</td>\n",
       "      <td>4D other</td>\n",
       "      <td>SILVER</td>\n",
       "      <td>...</td>\n",
       "      <td>0.133509</td>\n",
       "      <td>0.161039</td>\n",
       "      <td>0.178479</td>\n",
       "      <td>0.123383</td>\n",
       "      <td>0.139510</td>\n",
       "      <td>0.170540</td>\n",
       "      <td>0.186918</td>\n",
       "      <td>10</td>\n",
       "      <td>4</td>\n",
       "      <td>21</td>\n",
       "    </tr>\n",
       "    <tr>\n",
       "      <th>1</th>\n",
       "      <td>0</td>\n",
       "      <td>4/1/09</td>\n",
       "      <td>Sotheby's</td>\n",
       "      <td>2004</td>\n",
       "      <td>5</td>\n",
       "      <td>Grandma Moses</td>\n",
       "      <td>Moses T6 3.9L T6 E</td>\n",
       "      <td>Bas</td>\n",
       "      <td>2D Landscape</td>\n",
       "      <td>SILVER</td>\n",
       "      <td>...</td>\n",
       "      <td>0.083150</td>\n",
       "      <td>0.078104</td>\n",
       "      <td>0.095922</td>\n",
       "      <td>0.063752</td>\n",
       "      <td>0.079072</td>\n",
       "      <td>0.074969</td>\n",
       "      <td>0.091526</td>\n",
       "      <td>9</td>\n",
       "      <td>4</td>\n",
       "      <td>1</td>\n",
       "    </tr>\n",
       "    <tr>\n",
       "      <th>2</th>\n",
       "      <td>0</td>\n",
       "      <td>3/31/10</td>\n",
       "      <td>Christie's</td>\n",
       "      <td>2008</td>\n",
       "      <td>2</td>\n",
       "      <td>Frida Kahlo</td>\n",
       "      <td>AURA T6</td>\n",
       "      <td>XE</td>\n",
       "      <td>4D Genre XE</td>\n",
       "      <td>SILVER</td>\n",
       "      <td>...</td>\n",
       "      <td>0.140196</td>\n",
       "      <td>0.166423</td>\n",
       "      <td>0.180902</td>\n",
       "      <td>0.121459</td>\n",
       "      <td>0.139062</td>\n",
       "      <td>0.164788</td>\n",
       "      <td>0.194174</td>\n",
       "      <td>10</td>\n",
       "      <td>3</td>\n",
       "      <td>31</td>\n",
       "    </tr>\n",
       "    <tr>\n",
       "      <th>3</th>\n",
       "      <td>1</td>\n",
       "      <td>6/16/10</td>\n",
       "      <td>Sotheby's</td>\n",
       "      <td>2003</td>\n",
       "      <td>7</td>\n",
       "      <td>Leonardo Da Vinci</td>\n",
       "      <td>MALIBU T6</td>\n",
       "      <td>Bas</td>\n",
       "      <td>4D Genre</td>\n",
       "      <td>GOLD</td>\n",
       "      <td>...</td>\n",
       "      <td>0.042761</td>\n",
       "      <td>0.069075</td>\n",
       "      <td>0.081433</td>\n",
       "      <td>0.029862</td>\n",
       "      <td>0.043045</td>\n",
       "      <td>0.067631</td>\n",
       "      <td>0.084374</td>\n",
       "      <td>10</td>\n",
       "      <td>6</td>\n",
       "      <td>16</td>\n",
       "    </tr>\n",
       "    <tr>\n",
       "      <th>4</th>\n",
       "      <td>0</td>\n",
       "      <td>11/4/10</td>\n",
       "      <td>Sotheby's</td>\n",
       "      <td>2007</td>\n",
       "      <td>3</td>\n",
       "      <td>Leonardo Da Vinci</td>\n",
       "      <td>COBALT</td>\n",
       "      <td>LS</td>\n",
       "      <td>4D Genre LS</td>\n",
       "      <td>RED</td>\n",
       "      <td>...</td>\n",
       "      <td>0.109989</td>\n",
       "      <td>0.145541</td>\n",
       "      <td>0.165504</td>\n",
       "      <td>0.083274</td>\n",
       "      <td>0.099614</td>\n",
       "      <td>0.140635</td>\n",
       "      <td>0.158958</td>\n",
       "      <td>10</td>\n",
       "      <td>11</td>\n",
       "      <td>4</td>\n",
       "    </tr>\n",
       "  </tbody>\n",
       "</table>\n",
       "<p>5 rows × 47 columns</p>\n",
       "</div>"
      ],
      "text/plain": [
       "   IsBadBuy PurchDate     Auction  PaintingYear  PaintingAge  \\\n",
       "0         0   4/21/10  Christie's          2007            3   \n",
       "1         0    4/1/09   Sotheby's          2004            5   \n",
       "2         0   3/31/10  Christie's          2008            2   \n",
       "3         1   6/16/10   Sotheby's          2003            7   \n",
       "4         0   11/4/10   Sotheby's          2007            3   \n",
       "\n",
       "              Artist        PaintingName Trim       SubType CanvasColor ...   \\\n",
       "0            Cai Jin        TUCSON T2 T7  GLS      4D other      SILVER ...    \n",
       "1      Grandma Moses  Moses T6 3.9L T6 E  Bas  2D Landscape      SILVER ...    \n",
       "2        Frida Kahlo             AURA T6   XE   4D Genre XE      SILVER ...    \n",
       "3  Leonardo Da Vinci           MALIBU T6  Bas      4D Genre        GOLD ...    \n",
       "4  Leonardo Da Vinci              COBALT   LS   4D Genre LS         RED ...    \n",
       "\n",
       "  MMRAcquisitionAuctionCleanPriceRatio  MMRAcquisitionRetailAveragePriceRatio  \\\n",
       "0                             0.133509                               0.161039   \n",
       "1                             0.083150                               0.078104   \n",
       "2                             0.140196                               0.166423   \n",
       "3                             0.042761                               0.069075   \n",
       "4                             0.109989                               0.145541   \n",
       "\n",
       "  MMRAcquisitonRetailCleanPriceRatio  MMRCurrentAuctionAveragePriceRatio  \\\n",
       "0                           0.178479                            0.123383   \n",
       "1                           0.095922                            0.063752   \n",
       "2                           0.180902                            0.121459   \n",
       "3                           0.081433                            0.029862   \n",
       "4                           0.165504                            0.083274   \n",
       "\n",
       "  MMRCurrentAuctionCleanPriceRatio MMRCurrentRetailAveragePriceRatio  \\\n",
       "0                         0.139510                          0.170540   \n",
       "1                         0.079072                          0.074969   \n",
       "2                         0.139062                          0.164788   \n",
       "3                         0.043045                          0.067631   \n",
       "4                         0.099614                          0.140635   \n",
       "\n",
       "  MMRCurrentRetailCleanPriceRatio  Year  Month  Day  \n",
       "0                        0.186918    10      4   21  \n",
       "1                        0.091526     9      4    1  \n",
       "2                        0.194174    10      3   31  \n",
       "3                        0.084374    10      6   16  \n",
       "4                        0.158958    10     11    4  \n",
       "\n",
       "[5 rows x 47 columns]"
      ]
     },
     "execution_count": 67,
     "metadata": {},
     "output_type": "execute_result"
    }
   ],
   "source": [
    "df['Year']=[d.split('/')[2] for d in df.PurchDate]\n",
    "df['Year']=df['Year'].astype(str).astype(int)\n",
    "df['Month']=[d.split('/')[0] for d in df.PurchDate]\n",
    "df['Month']=df['Month'].astype(str).astype(int)\n",
    "df['Day']=[d.split('/')[1] for d in df.PurchDate]\n",
    "df['Day']=df['Day'].astype(str).astype(int)\n",
    "df.head(5)"
   ]
  },
  {
   "cell_type": "markdown",
   "metadata": {},
   "source": [
    "### 3b) Fit model "
   ]
  },
  {
   "cell_type": "code",
   "execution_count": 68,
   "metadata": {},
   "outputs": [
    {
     "name": "stdout",
     "output_type": "stream",
     "text": [
      "<class 'pandas.core.frame.DataFrame'>\n",
      "Int64Index: 50866 entries, 0 to 51087\n",
      "Data columns (total 47 columns):\n",
      "IsBadBuy                                  50866 non-null int64\n",
      "PurchDate                                 50866 non-null object\n",
      "Auction                                   50866 non-null object\n",
      "PaintingYear                              50866 non-null int64\n",
      "PaintingAge                               50866 non-null int64\n",
      "Artist                                    50866 non-null object\n",
      "PaintingName                              50866 non-null object\n",
      "Trim                                      49175 non-null object\n",
      "SubType                                   50862 non-null object\n",
      "CanvasColor                               50862 non-null object\n",
      "Market                                    50861 non-null object\n",
      "FrameTypeID                               48627 non-null float64\n",
      "FrameType                                 48623 non-null object\n",
      "Bids                                      50866 non-null int64\n",
      "Nationality                               50865 non-null object\n",
      "Size                                      50865 non-null object\n",
      "TopThreeNYCName                           50865 non-null object\n",
      "MMRAcquisitionAuctionAveragePrice         50866 non-null int64\n",
      "MMRAcquisitionAuctionCleanPrice           50866 non-null int64\n",
      "MMRAcquisitionRetailAveragePrice          50866 non-null int64\n",
      "MMRAcquisitonRetailCleanPrice             50866 non-null int64\n",
      "MMRCurrentAuctionAveragePrice             50866 non-null int64\n",
      "MMRCurrentAuctionCleanPrice               50866 non-null int64\n",
      "MMRCurrentRetailAveragePrice              50866 non-null int64\n",
      "MMRCurrentRetailCleanPrice                50866 non-null int64\n",
      "PRIMEUNIT                                 2377 non-null object\n",
      "AUCGUART                                  2377 non-null object\n",
      "BYRNO                                     50866 non-null int64\n",
      "VNZIP1                                    50866 non-null int64\n",
      "VNST                                      50866 non-null object\n",
      "PaintingBCost                             50866 non-null float64\n",
      "IsOnlineSale                              50866 non-null int64\n",
      "WarrantyCost                              50866 non-null int64\n",
      "PaintingCategories                        50866 non-null object\n",
      "QualityChecks                             50866 non-null object\n",
      "PaintingSize                              50866 non-null object\n",
      "MMRAcquisitionAuctionAveragePriceRatio    50866 non-null float64\n",
      "MMRAcquisitionAuctionCleanPriceRatio      50866 non-null float64\n",
      "MMRAcquisitionRetailAveragePriceRatio     50866 non-null float64\n",
      "MMRAcquisitonRetailCleanPriceRatio        50866 non-null float64\n",
      "MMRCurrentAuctionAveragePriceRatio        50866 non-null float64\n",
      "MMRCurrentAuctionCleanPriceRatio          50866 non-null float64\n",
      "MMRCurrentRetailAveragePriceRatio         50866 non-null float64\n",
      "MMRCurrentRetailCleanPriceRatio           50866 non-null float64\n",
      "Year                                      50866 non-null int64\n",
      "Month                                     50866 non-null int64\n",
      "Day                                       50866 non-null int64\n",
      "dtypes: float64(10), int64(19), object(18)\n",
      "memory usage: 18.6+ MB\n",
      "None\n"
     ]
    }
   ],
   "source": [
    "print(df.info())"
   ]
  },
  {
   "cell_type": "markdown",
   "metadata": {},
   "source": [
    "### 3c) Check each feature's effect on IsBadBuy"
   ]
  },
  {
   "cell_type": "markdown",
   "metadata": {},
   "source": [
    "#### Check NA"
   ]
  },
  {
   "cell_type": "code",
   "execution_count": 69,
   "metadata": {},
   "outputs": [
    {
     "data": {
      "text/plain": [
       "IsBadBuy                                  False\n",
       "PurchDate                                 False\n",
       "Auction                                   False\n",
       "PaintingYear                              False\n",
       "PaintingAge                               False\n",
       "Artist                                    False\n",
       "PaintingName                              False\n",
       "Trim                                       True\n",
       "SubType                                    True\n",
       "CanvasColor                                True\n",
       "Market                                     True\n",
       "FrameTypeID                                True\n",
       "FrameType                                  True\n",
       "Bids                                      False\n",
       "Nationality                                True\n",
       "Size                                       True\n",
       "TopThreeNYCName                            True\n",
       "MMRAcquisitionAuctionAveragePrice         False\n",
       "MMRAcquisitionAuctionCleanPrice           False\n",
       "MMRAcquisitionRetailAveragePrice          False\n",
       "MMRAcquisitonRetailCleanPrice             False\n",
       "MMRCurrentAuctionAveragePrice             False\n",
       "MMRCurrentAuctionCleanPrice               False\n",
       "MMRCurrentRetailAveragePrice              False\n",
       "MMRCurrentRetailCleanPrice                False\n",
       "PRIMEUNIT                                  True\n",
       "AUCGUART                                   True\n",
       "BYRNO                                     False\n",
       "VNZIP1                                    False\n",
       "VNST                                      False\n",
       "PaintingBCost                             False\n",
       "IsOnlineSale                              False\n",
       "WarrantyCost                              False\n",
       "PaintingCategories                        False\n",
       "QualityChecks                             False\n",
       "PaintingSize                              False\n",
       "MMRAcquisitionAuctionAveragePriceRatio    False\n",
       "MMRAcquisitionAuctionCleanPriceRatio      False\n",
       "MMRAcquisitionRetailAveragePriceRatio     False\n",
       "MMRAcquisitonRetailCleanPriceRatio        False\n",
       "MMRCurrentAuctionAveragePriceRatio        False\n",
       "MMRCurrentAuctionCleanPriceRatio          False\n",
       "MMRCurrentRetailAveragePriceRatio         False\n",
       "MMRCurrentRetailCleanPriceRatio           False\n",
       "Year                                      False\n",
       "Month                                     False\n",
       "Day                                       False\n",
       "dtype: bool"
      ]
     },
     "execution_count": 69,
     "metadata": {},
     "output_type": "execute_result"
    }
   ],
   "source": [
    "df.isnull().any()"
   ]
  },
  {
   "cell_type": "markdown",
   "metadata": {},
   "source": [
    "#### Auction"
   ]
  },
  {
   "cell_type": "code",
   "execution_count": 70,
   "metadata": {},
   "outputs": [
    {
     "name": "stdout",
     "output_type": "stream",
     "text": [
      "      Auction  IsBadBuy\n",
      "0  Christie's  0.114197\n",
      "1       OTHER  0.119918\n",
      "2   Sotheby's  0.152854\n",
      "Before [\"Christie's\" \"Sotheby's\" 'OTHER']\n",
      "After [1 2 3]\n"
     ]
    }
   ],
   "source": [
    "print(df[['Auction', 'IsBadBuy']].groupby(['Auction'], as_index=False).mean())\n",
    "print(\"Before\", df['Auction'].unique())\n",
    "df['Auction'].unique()\n",
    "title_auction = {\"Christie's\": 1,\"Sotheby's\": 2, \"OTHER\": 3}\n",
    "df['Auction'] = df['Auction'].map(title_auction)\n",
    "print(\"After\", df['Auction'].unique())"
   ]
  },
  {
   "cell_type": "markdown",
   "metadata": {},
   "source": [
    "#### Painting Year"
   ]
  },
  {
   "cell_type": "code",
   "execution_count": 71,
   "metadata": {},
   "outputs": [
    {
     "name": "stdout",
     "output_type": "stream",
     "text": [
      "   PaintingYear  IsBadBuy\n",
      "0          2001  0.285300\n",
      "1          2002  0.243367\n",
      "2          2003  0.195189\n",
      "3          2004  0.152283\n",
      "4          2005  0.131601\n",
      "5          2006  0.093377\n",
      "6          2007  0.077713\n",
      "7          2008  0.058649\n",
      "8          2009  0.042781\n",
      "9          2010  0.000000\n"
     ]
    }
   ],
   "source": [
    "print (df[['PaintingYear', 'IsBadBuy']].groupby(['PaintingYear'], as_index=False).mean())"
   ]
  },
  {
   "cell_type": "code",
   "execution_count": 72,
   "metadata": {
    "collapsed": true
   },
   "outputs": [],
   "source": [
    "#Drop painting yeat since it's correlated with painting age.\n",
    "drop_column = ['PaintingYear']\n",
    "df.drop(drop_column, axis=1, inplace = True)"
   ]
  },
  {
   "cell_type": "markdown",
   "metadata": {},
   "source": [
    "#### Painting Age"
   ]
  },
  {
   "cell_type": "code",
   "execution_count": 73,
   "metadata": {},
   "outputs": [
    {
     "name": "stdout",
     "output_type": "stream",
     "text": [
      "   PaintingAge  IsBadBuy\n",
      "0            0  0.000000\n",
      "1            1  0.041646\n",
      "2            2  0.065901\n",
      "3            3  0.081142\n",
      "4            4  0.111572\n",
      "5            5  0.142009\n",
      "6            6  0.180466\n",
      "7            7  0.215573\n",
      "8            8  0.270701\n",
      "9            9  0.320000\n"
     ]
    }
   ],
   "source": [
    "print (df[['PaintingAge', 'IsBadBuy']].groupby(['PaintingAge'], as_index=False).mean())"
   ]
  },
  {
   "cell_type": "markdown",
   "metadata": {},
   "source": [
    "#### Artist"
   ]
  },
  {
   "cell_type": "code",
   "execution_count": 74,
   "metadata": {},
   "outputs": [
    {
     "name": "stdout",
     "output_type": "stream",
     "text": [
      "                   Artist  IsBadBuy\n",
      "0             Andy Warhol  0.130734\n",
      "1               Boticelli  0.088889\n",
      "2                 Bronzio  0.204545\n",
      "3                   Buick  0.169261\n",
      "4                 Cai Jin  0.127676\n",
      "5              Caravaggio  0.350000\n",
      "6                   Cheng  0.146652\n",
      "7            Claude Monet  0.192308\n",
      "8               El Grecko  0.296296\n",
      "9             Frida Kahlo  0.142950\n",
      "10                 Giotto  0.363636\n",
      "11               Giovanni  0.151184\n",
      "12          Grandma Moses  0.154832\n",
      "13        Jackson Pollock  0.168712\n",
      "14           Jan Van Eyck  0.115942\n",
      "15  Jean-Michel BasquiatC  0.125813\n",
      "16      Leonardo Da Vinci  0.097587\n",
      "17                Lincoln  0.287879\n",
      "18            M F Hussain  0.000000\n",
      "19           Michael Judd  0.085502\n",
      "20           Michelangelo  0.156836\n",
      "21                   Mini  0.368421\n",
      "22          Pablo Picasso  0.102283\n",
      "23                   Paul  0.000000\n",
      "24              Paul Klee  0.128713\n",
      "25                Qu Ding  0.118775\n",
      "26                Raphael  0.118473\n",
      "27                  Sohel  0.150000\n",
      "28            Tintorretto  0.500000\n",
      "29                 Titian  0.123269\n",
      "30                    Vin  0.065934\n",
      "31       Vincent Van Gogh  0.164964\n",
      "Before ['Cai Jin' 'Grandma Moses' 'Frida Kahlo' 'Leonardo Da Vinci' 'Michelangelo'\n",
      " 'Qu Ding' 'Pablo Picasso' 'Buick' 'Andy Warhol' 'Raphael'\n",
      " 'Jean-Michel BasquiatC' 'Cheng' 'Boticelli' 'Michael Judd'\n",
      " 'Vincent Van Gogh' 'Paul Klee' 'Giovanni' 'Jan Van Eyck' 'Titian'\n",
      " 'Jackson Pollock' 'Bronzio' 'Vin' 'M F Hussain' 'Lincoln' 'Claude Monet'\n",
      " 'Giotto' 'Mini' 'El Grecko' 'Sohel' 'Caravaggio' 'Paul' 'Tintorretto']\n",
      "After [ 1  2  3  4  5  6  7  8  9 10 11 12 13 14 15 16 17 18 19 20 21 22 23 24 25\n",
      " 26 27 28 29 30 31]\n"
     ]
    }
   ],
   "source": [
    "print (df[['Artist', 'IsBadBuy']].groupby(['Artist'], as_index=False).mean())\n",
    "print('Before', df['Artist'].unique())\n",
    "#map artist name\n",
    "artist_name = {\"Cai Jin\": 1, \"Grandma Moses\": 2, \"Frida Kahlo\": 3, \"Leonardo Da Vinci\": 4,\n",
    "                 \"Michelangelo\": 5, \"Qu Ding\": 6, \"Pablo Picasso\": 7, \"Buick\": 8, \"Andy Warhol\": 9,\n",
    "       \"Raphael\": 10, \"Jean-Michel BasquiatC\": 11, \"Cheng\": 12, \"Boticelli\": 13,\n",
    "       \"Michael Judd\": 14, \"Vincent Van Gogh\": 15, \"Paul Klee\": 16, \"Giovanni\": 17,\n",
    "       \"Jan Van Eyck\": 18, \"Titian\": 18, \"Jackson Pollock\": 19, \"Bronzio\": 20, \"Vin\": 21,\n",
    "       \"M F Hussain\": 22, \"Lincoln\": 23, \"Claude Monet\": 24, \"Giotto\": 25, \"Mini\": 26,\n",
    "       \"El Grecko\": 27, \"Sohel\": 28, \"Caravaggio\": 29, \"Paul\": 30, \"Tintorretto\": 31}\n",
    "df['Artist'] = df['Artist'].map(artist_name)\n",
    "print('After', df['Artist'].unique())"
   ]
  },
  {
   "cell_type": "markdown",
   "metadata": {},
   "source": [
    "#### Painting Name"
   ]
  },
  {
   "cell_type": "code",
   "execution_count": 75,
   "metadata": {},
   "outputs": [
    {
     "name": "stdout",
     "output_type": "stream",
     "text": [
      "                 PaintingName  IsBadBuy\n",
      "0       1500 RAM Real Life T1  0.121951\n",
      "1       1500 RAM Real Life T2  0.098168\n",
      "2     1500 SIERRA Real Life 2  0.093750\n",
      "3     1500 SIERRA Real Life 4  0.000000\n",
      "4        1500 SILVERADO PICKU  0.096244\n",
      "5        1500HD SILVERADO PIC  0.000000\n",
      "6       2500 RAM Real Life T1  0.000000\n",
      "7       2500 RAM Real Life T2  0.200000\n",
      "8        2500 SILVERADO PICKU  0.000000\n",
      "9     2500HD SIERRA Real Life  0.000000\n",
      "10       2500HD SILVERADO PIC  0.428571\n",
      "11                     3.2 CL  0.000000\n",
      "12       3.2 CL 3.2L V 6 NA S  0.500000\n",
      "13                     3.2 TL  0.166667\n",
      "14       3.2 TL 3.2L T6 FI DO  1.000000\n",
      "15        3.2 TL 3.2L T6 T13I  0.400000\n",
      "16                        300  0.094972\n",
      "17            300 2.7L T6 T10  0.059322\n",
      "18        300 3.5L / 6.0L V12  0.000000\n",
      "19            300 3.5L T6 T10  0.000000\n",
      "20       300 3.5L T6 T10 / SM  0.117647\n",
      "21                       300C  0.333333\n",
      "22      300C 5.7L T5 T11I / S  1.000000\n",
      "23                       300M  0.222222\n",
      "24           300M 3.5L T6 T10  0.200000\n",
      "25        300M 3.5L T6 T10 HO  0.500000\n",
      "26                       350Z  1.000000\n",
      "27       350Z T12 T6 3.5L DOH  0.000000\n",
      "28             4 RUNNER T1 T6  1.000000\n",
      "29        4 RUNNER T1 T6 3.4L  1.000000\n",
      "...                       ...       ...\n",
      "979       XB 1.5L I-4 T13I T9  0.100000\n",
      "980           XB 1.5L I4 T13I  0.142857\n",
      "981                        XD  0.000000\n",
      "982                    XG 300  0.500000\n",
      "983        XG 300 Unspecified  0.500000\n",
      "984                    XG 350  0.166667\n",
      "985     XG 350 3.5L T6 T13I /  0.000000\n",
      "986     XG 350 3.5L T6 T13I D  0.000000\n",
      "987                   XL-7 T1  0.166667\n",
      "988       XL-7 T1 2.7L T6 T12  0.000000\n",
      "989                   XL-7 T2  0.090909\n",
      "990        XL-7 T2 2.7L T6 DI  1.000000\n",
      "991       XL-7 T2 2.7L T6 T12  0.250000\n",
      "992      XL-7 T2 3.6L T6 T13I  0.000000\n",
      "993                     YARIS  0.000000\n",
      "994      YARIS 1.5L I4 T13I /  0.000000\n",
      "995               YUKON T1 T5  0.000000\n",
      "996       YUKON T1 T5 4.8L T5  0.000000\n",
      "997       YUKON T1 T5 5.3L T5  0.142857\n",
      "998               YUKON T2 T5  0.142857\n",
      "999       YUKON T2 T5 4.8L T5  0.000000\n",
      "1000      YUKON T2 T5 5.3L T5  0.125000\n",
      "1001              YUKON T3 T5  1.000000\n",
      "1002         YUKON XL 1500 T1  0.250000\n",
      "1003      YUKON XL 1500 T1 5.  0.666667\n",
      "1004         YUKON XL 1500 T2  0.200000\n",
      "1005      YUKON XL 1500 T2 5.  0.090909\n",
      "1006      YUKON XL 1500 T3 6.  0.000000\n",
      "1007                   ZEPHYR  0.200000\n",
      "1008      ZEPHYR 3.0L T6 T11I  0.333333\n",
      "\n",
      "[1009 rows x 2 columns]\n"
     ]
    }
   ],
   "source": [
    "print (df[['PaintingName', 'IsBadBuy']].groupby(['PaintingName'], as_index=False).mean())\n",
    "#Drop painting name since it's messy.\n",
    "drop_column = ['PaintingName']\n",
    "df.drop(drop_column, axis=1, inplace = True)"
   ]
  },
  {
   "cell_type": "markdown",
   "metadata": {},
   "source": [
    "#### Trim"
   ]
  },
  {
   "cell_type": "code",
   "execution_count": 76,
   "metadata": {},
   "outputs": [
    {
     "name": "stdout",
     "output_type": "stream",
     "text": [
      "    Trim  IsBadBuy\n",
      "0      1  0.075000\n",
      "1    150  0.146226\n",
      "2      2  0.156648\n",
      "3    250  0.000000\n",
      "4      3  0.123188\n",
      "5    3 R  0.000000\n",
      "6    Adv  0.100000\n",
      "7    Bas  0.122708\n",
      "8      C  0.500000\n",
      "9     CE  0.091463\n",
      "10    CX  0.125786\n",
      "11   CXL  0.118421\n",
      "12   CXS  0.000000\n",
      "13   Car  0.333333\n",
      "14   Cin  0.333333\n",
      "15   Cla  0.130699\n",
      "16   Cus  0.191781\n",
      "17    DE  0.000000\n",
      "18    DS  0.000000\n",
      "19    DX  0.277778\n",
      "20   Den  0.500000\n",
      "21   Dur  0.500000\n",
      "22    ES  0.131213\n",
      "23    EX  0.122691\n",
      "24   EX-  0.000000\n",
      "25   Edd  0.164557\n",
      "26   Edg  0.151515\n",
      "27   Ent  0.000000\n",
      "28   Exe  0.333333\n",
      "29   FX4  0.333333\n",
      "..   ...       ...\n",
      "101  Spy  0.307692\n",
      "102  Sta  0.117647\n",
      "103   T5  0.000000\n",
      "104  Tou  0.135135\n",
      "105  Ult  0.000000\n",
      "106   VP  0.210526\n",
      "107  Val  0.117647\n",
      "108  W/T  0.102564\n",
      "109    X  0.111111\n",
      "110   XE  0.078571\n",
      "111   XL  0.139159\n",
      "112  XLS  0.229730\n",
      "113  XLT  0.190939\n",
      "114   XR  0.000000\n",
      "115  XRS  0.000000\n",
      "116   XS  0.500000\n",
      "117  Z24  1.000000\n",
      "118  Z71  0.114286\n",
      "119  ZR2  0.333333\n",
      "120  ZTS  0.255319\n",
      "121  ZTW  0.000000\n",
      "122  ZX2  0.333333\n",
      "123  ZX3  0.167598\n",
      "124  ZX4  0.164414\n",
      "125  ZX5  0.148649\n",
      "126  ZXW  0.150000\n",
      "127   eC  0.000000\n",
      "128   eL  0.000000\n",
      "129    i  0.119048\n",
      "130    s  0.195946\n",
      "\n",
      "[131 rows x 2 columns]\n"
     ]
    }
   ],
   "source": [
    "print (df[['Trim', 'IsBadBuy']].groupby(['Trim'], as_index=False).mean())\n",
    "#Drop trim name since there are too little value.\n",
    "drop_column = ['Trim']\n",
    "df.drop(drop_column, axis=1, inplace = True)"
   ]
  },
  {
   "cell_type": "markdown",
   "metadata": {},
   "source": [
    "#### SubType"
   ]
  },
  {
   "cell_type": "code",
   "execution_count": 77,
   "metadata": {},
   "outputs": [
    {
     "name": "stdout",
     "output_type": "stream",
     "text": [
      "                                      SubType  IsBadBuy\n",
      "0                       2D Fine Art 2.3L EDGE  0.000000\n",
      "1                         2D Fine Art 2.3L XL  0.000000\n",
      "2                            2D Fine Art 3.0L  0.000000\n",
      "3                 2D Fine Art 3.0L DUAL SPORT  0.000000\n",
      "4             2D Fine Art 3.0L DUAL SPORT FFV  0.000000\n",
      "5                       2D Fine Art 3.0L EDGE  0.250000\n",
      "6                         2D Fine Art 3.0L SE  0.000000\n",
      "7                         2D Fine Art 3.0L XL  0.000000\n",
      "8                        2D Fine Art 3.0L XLT  0.666667\n",
      "9                       2D Fine Art 4.0L EDGE  0.000000\n",
      "10                                   2D Genre  0.000000\n",
      "11                                2D Genre GX  0.000000\n",
      "12                         2D HARTOP other GT  0.000000\n",
      "13                               2D HATCHBACK  0.217391\n",
      "14                            2D HATCHBACK GS  0.000000\n",
      "15                           2D HATCHBACK ZX3  0.166667\n",
      "16                        2D HATCKBACK SI 5SP  0.000000\n",
      "17                             2D LIFTBACK GT  0.250000\n",
      "18                               2D Landscape  0.175066\n",
      "19                           2D Landscape 5SP  0.500000\n",
      "20                    2D Landscape Commercial  0.000000\n",
      "21                        2D Landscape DX 5SP  0.000000\n",
      "22                 2D Landscape DX Commercial  0.500000\n",
      "23   2D Landscape DX VALUE PACKAGE Commercial  0.000000\n",
      "24                        2D Landscape EX 5SP  0.166667\n",
      "25                        2D Landscape EX 6SP  0.000000\n",
      "26                 2D Landscape EX Commercial  0.137255\n",
      "27                            2D Landscape GL  0.041667\n",
      "28                           2D Landscape GL1  0.000000\n",
      "29                           2D Landscape GL2  0.210526\n",
      "..                                        ...       ...\n",
      "753                               Portrait EX  0.000000\n",
      "754                             Portrait EX-L  0.000000\n",
      "755                               SPORT Other  0.036585\n",
      "756                       SPORT Other 7 Other  0.000000\n",
      "757                       Still Life CAB 3.7L  0.120690\n",
      "758                   Still Life CAB 3.7L SLT  0.166667\n",
      "759                 Still Life CAB 3.7L SPORT  0.000000\n",
      "760                    Still Life CAB 3.7L ST  0.000000\n",
      "761                   Still Life CAB 3.7L SXT  0.000000\n",
      "762                   Still Life CAB 3.9L SLT  0.375000\n",
      "763                 Still Life CAB 3.9L SPORT  1.000000\n",
      "764                       Still Life CAB 4.7L  0.061224\n",
      "765              Still Life CAB 4.7L BIG HORN  0.285714\n",
      "766                   Still Life CAB 4.7L FFV  0.000000\n",
      "767          Still Life CAB 4.7L FFV BIG HORN  0.000000\n",
      "768               Still Life CAB 4.7L FFV SLT  0.100000\n",
      "769               Still Life CAB 4.7L LARAMIE  0.000000\n",
      "770                   Still Life CAB 4.7L SLT  0.113553\n",
      "771               Still Life CAB 4.7L SLT FFV  0.000000\n",
      "772                 Still Life CAB 4.7L SPORT  0.400000\n",
      "773                    Still Life CAB 4.7L ST  0.000000\n",
      "774                       Still Life CAB 5.7L  0.075949\n",
      "775              Still Life CAB 5.7L BIG HORN  0.066667\n",
      "776               Still Life CAB 5.7L LARAMIE  0.000000\n",
      "777                   Still Life CAB 5.7L SLT  0.101010\n",
      "778                       Still Life CAB 5.9L  0.333333\n",
      "779                   Still Life CAB 5.9L SLT  0.294118\n",
      "780                 Still Life CAB 5.9L SPORT  0.000000\n",
      "781              Vincent Van Gogh3 4D I SPORT  0.062500\n",
      "782           Vincent Van Gogh5 GRAND TOURING  0.166667\n",
      "\n",
      "[783 rows x 2 columns]\n"
     ]
    }
   ],
   "source": [
    "print (df[['SubType', 'IsBadBuy']].groupby(['SubType'], as_index=False).mean())\n",
    "#Drop SubType since there are too little value.\n",
    "drop_column = ['SubType']\n",
    "df.drop(drop_column, axis=1, inplace = True)"
   ]
  },
  {
   "cell_type": "markdown",
   "metadata": {},
   "source": [
    "#### CanvasColor"
   ]
  },
  {
   "cell_type": "code",
   "execution_count": 78,
   "metadata": {},
   "outputs": [
    {
     "name": "stdout",
     "output_type": "stream",
     "text": [
      "   CanvasColor  IsBadBuy\n",
      "0        BEIGE  0.132806\n",
      "1        BLACK  0.117869\n",
      "2         BLUE  0.115611\n",
      "3        BROWN  0.116883\n",
      "4         GOLD  0.141478\n",
      "5        GREEN  0.127698\n",
      "6         GREY  0.115065\n",
      "7       MAROON  0.134737\n",
      "8    NOT AVAIL  0.241935\n",
      "9       ORANGE  0.080420\n",
      "10       OTHER  0.135802\n",
      "11      PURPLE  0.126394\n",
      "12         RED  0.129941\n",
      "13      SILVER  0.122914\n",
      "14       WHITE  0.123737\n",
      "15      YELLOW  0.112500\n",
      "['SILVER' 'GOLD' 'RED' 'GREY' 'GREEN' 'BLACK' 'BLUE' 'WHITE' 'PURPLE'\n",
      " 'MAROON' 'OTHER' 'ORANGE' 'BEIGE' 'BROWN' 'NOT AVAIL' 'YELLOW']\n",
      "Before (50866, 43)\n",
      "Before ['SILVER' 'GOLD' 'RED' 'GREY' 'GREEN' 'BLACK' 'BLUE' 'WHITE' 'PURPLE'\n",
      " 'MAROON' 'OTHER' 'ORANGE' 'BEIGE' 'BROWN' 'NOT AVAIL' 'YELLOW']\n",
      "After [ 1  2  3  4  5  6  7  8  9 10 11 12 13 14 15 16]\n",
      "After (50866, 43)\n"
     ]
    }
   ],
   "source": [
    "print (df[['CanvasColor', 'IsBadBuy']].groupby(['CanvasColor'], as_index=False).mean())\n",
    "#fill NA\n",
    "df['CanvasColor'].fillna(\"NOT AVAIL\",inplace = True)\n",
    "print(df[\"CanvasColor\"].unique())\n",
    "\n",
    "#Mapping\n",
    "print(\"Before\", df.shape)\n",
    "print(\"Before\", df[\"CanvasColor\"].unique())\n",
    "title_canvascolor = {\"SILVER\":1, \"GOLD\":2, \"RED\":3, \"GREY\":4, \"GREEN\":5, \"BLACK\":6, \"BLUE\":7, \"WHITE\":8,\n",
    "       \"PURPLE\":9, \"MAROON\":10, \"OTHER\":11, \"ORANGE\":12, \"BEIGE\":13, \"BROWN\":14,\n",
    "       \"NOT AVAIL\":15, \"YELLOW\":16}\n",
    "df[\"CanvasColor\"] = df[\"CanvasColor\"].map(title_canvascolor)\n",
    "print(\"After\", df[\"CanvasColor\"].unique())\n",
    "print(\"After\", df.shape)"
   ]
  },
  {
   "cell_type": "markdown",
   "metadata": {},
   "source": [
    "#### Market"
   ]
  },
  {
   "cell_type": "code",
   "execution_count": 79,
   "metadata": {},
   "outputs": [
    {
     "name": "stdout",
     "output_type": "stream",
     "text": [
      "           Market  IsBadBuy\n",
      "0      Commercial  0.123548\n",
      "1  Non Commercial  0.114809\n",
      "['Commercial' 'Non Commercial']\n"
     ]
    }
   ],
   "source": [
    "print (df[['Market', 'IsBadBuy']].groupby(['Market'], as_index=False).mean())\n",
    "#Fill NA\n",
    "df['Market'].fillna(df['Market'].mode()[0], inplace = True)\n",
    "print(df[\"Market\"].unique())\n",
    "\n",
    "#mapping\n"
   ]
  },
  {
   "cell_type": "code",
   "execution_count": 80,
   "metadata": {},
   "outputs": [
    {
     "name": "stdout",
     "output_type": "stream",
     "text": [
      "After [1 2]\n"
     ]
    }
   ],
   "source": [
    "title_canvascolor = {\"Commercial\":1, \"Non Commercial\":2}\n",
    "df[\"Market\"] = df[\"Market\"].map(title_canvascolor)\n",
    "print(\"After\", df[\"Market\"].unique())\n"
   ]
  },
  {
   "cell_type": "markdown",
   "metadata": {},
   "source": [
    "#### FrameTypeID"
   ]
  },
  {
   "cell_type": "code",
   "execution_count": 81,
   "metadata": {},
   "outputs": [
    {
     "name": "stdout",
     "output_type": "stream",
     "text": [
      "   FrameTypeID  IsBadBuy\n",
      "0          0.0  0.000000\n",
      "1          1.0  0.108536\n",
      "2          2.0  0.081480\n",
      "3          3.0  0.118421\n",
      "[ 1.  2.  3.  0.]\n"
     ]
    }
   ],
   "source": [
    "print (df[['FrameTypeID', 'IsBadBuy']].groupby(['FrameTypeID'], as_index=False).mean())\n",
    "#fill na\n",
    "df['FrameTypeID'].fillna(df['FrameTypeID'].mode()[0], inplace = True)\n",
    "print(df[\"FrameTypeID\"].unique())\n",
    "\n",
    "#drop frame type\n",
    "#drop_column = ['FrameType']\n",
    "#df.drop(drop_column, axis=1, inplace = True)"
   ]
  },
  {
   "cell_type": "markdown",
   "metadata": {},
   "source": [
    "#### Bids"
   ]
  },
  {
   "cell_type": "code",
   "execution_count": 82,
   "metadata": {},
   "outputs": [
    {
     "name": "stdout",
     "output_type": "stream",
     "text": [
      "         Bids  IsBadBuy\n",
      "0        4825       1.0\n",
      "1        5368       0.0\n",
      "2        9446       1.0\n",
      "3        9878       0.0\n",
      "4       10095       1.0\n",
      "5       10643       0.0\n",
      "6       11662       1.0\n",
      "7       12628       0.0\n",
      "8       12926       0.0\n",
      "9       13445       1.0\n",
      "10      13924       1.0\n",
      "11      14187       0.0\n",
      "12      14474       0.0\n",
      "13      14519       0.0\n",
      "14      14547       0.0\n",
      "15      14961       1.0\n",
      "16      15249       0.0\n",
      "17      15409       1.0\n",
      "18      15655       0.0\n",
      "19      15743       1.0\n",
      "20      15894       0.0\n",
      "21      16713       0.0\n",
      "22      16833       0.0\n",
      "23      17281       0.0\n",
      "24      17538       0.0\n",
      "25      18923       0.0\n",
      "26      19070       0.0\n",
      "27      19200       0.0\n",
      "28      19430       0.0\n",
      "29      19534       0.0\n",
      "...       ...       ...\n",
      "32570  108811       0.0\n",
      "32571  108831       0.0\n",
      "32572  108910       1.0\n",
      "32573  109018       0.0\n",
      "32574  109025       0.0\n",
      "32575  109060       0.0\n",
      "32576  109133       0.0\n",
      "32577  109151       0.0\n",
      "32578  109217       0.0\n",
      "32579  109300       0.0\n",
      "32580  109323       1.0\n",
      "32581  109366       0.0\n",
      "32582  109399       0.0\n",
      "32583  109408       0.0\n",
      "32584  109451       0.0\n",
      "32585  109549       1.0\n",
      "32586  109728       1.0\n",
      "32587  109734       0.0\n",
      "32588  109848       1.0\n",
      "32589  109888       0.0\n",
      "32590  109909       0.0\n",
      "32591  109967       0.0\n",
      "32592  110022       0.0\n",
      "32593  110071       0.0\n",
      "32594  110119       0.0\n",
      "32595  110318       1.0\n",
      "32596  112029       0.0\n",
      "32597  112056       0.0\n",
      "32598  115026       1.0\n",
      "32599  115717       1.0\n",
      "\n",
      "[32600 rows x 2 columns]\n",
      "       CategoricalBids  IsBadBuy\n",
      "0  (4714.108, 27003.4]  0.134454\n",
      "1   (27003.4, 49181.8]  0.079540\n",
      "2   (49181.8, 71360.2]  0.104755\n",
      "3   (71360.2, 93538.6]  0.137133\n",
      "4  (93538.6, 115717.0]  0.197437\n"
     ]
    }
   ],
   "source": [
    "print (df[['Bids', 'IsBadBuy']].groupby(['Bids'], as_index=False).mean())\n",
    "#categorize bids into 10 range\n",
    "bids_avg = df['Bids'].mean()\n",
    "Bids_std = df['Bids'].std()  \n",
    "df['Bids'] = df['Bids'].astype(int)   \n",
    "df['CategoricalBids'] = pd.cut(df['Bids'], 5)\n",
    "print (df[['CategoricalBids', 'IsBadBuy']].groupby(['CategoricalBids'], as_index=False).mean())\n",
    "# mapping \n",
    "# df.loc[(df['CategoricalBids'] > 4714.108) &(df['CategoricalBids'] <= 27003.4), 'CategoricalBids'] = 1\n",
    "# df.loc[(df['CategoricalBids'] > 27003.4) & (df['CategoricalBids'] <= 49181.8), 'CategoricalBids'] = 2\n",
    "# df.loc[(df['CategoricalBids'] > 49181.8) & (df['CategoricalBids'] <= 71360.2), 'CategoricalBids'] = 3\n",
    "# df.loc[(df['CategoricalBids'] > 71360.2) & (df['CategoricalBids'] <= 93538.6), 'CategoricalBids'] = 4\n",
    "# df.loc[(df['CategoricalBids'] > 93538.6) & (df['CategoricalBids'] <= 115717.0),'CategoricalBids'] = 5\n",
    "# print(\"After\", df[\"CategoricalBids\"].unique())"
   ]
  },
  {
   "cell_type": "markdown",
   "metadata": {},
   "source": [
    "#### Nationality"
   ]
  },
  {
   "cell_type": "code",
   "execution_count": 83,
   "metadata": {},
   "outputs": [
    {
     "name": "stdout",
     "output_type": "stream",
     "text": [
      "      Nationality  IsBadBuy\n",
      "0        AMERICAN  0.121467\n",
      "1           OTHER  0.137931\n",
      "2     OTHER ASIAN  0.133239\n",
      "3  TOP LINE ASIAN  0.129344\n",
      "['OTHER ASIAN' 'AMERICAN' 'TOP LINE ASIAN' 'OTHER']\n"
     ]
    }
   ],
   "source": [
    "print (df[['Nationality', 'IsBadBuy']].groupby(['Nationality'], as_index=False).mean())\n",
    "#fill NA\n",
    "df['Nationality'].fillna(\"OTHER\", inplace = True)\n",
    "print(df[\"Nationality\"].unique())\n"
   ]
  },
  {
   "cell_type": "code",
   "execution_count": 84,
   "metadata": {},
   "outputs": [
    {
     "name": "stdout",
     "output_type": "stream",
     "text": [
      "After [1 2 3 4]\n"
     ]
    }
   ],
   "source": [
    "#mapping\n",
    "nationality = {\"OTHER ASIAN\":1, \"AMERICAN\":2, \"TOP LINE ASIAN\":3, \"OTHER\":4}\n",
    "df[\"Nationality\"] = df[\"Nationality\"].map(nationality)\n",
    "print(\"After\", df[\"Nationality\"].unique())"
   ]
  },
  {
   "cell_type": "markdown",
   "metadata": {},
   "source": [
    "#### Size"
   ]
  },
  {
   "cell_type": "code",
   "execution_count": 85,
   "metadata": {},
   "outputs": [
    {
     "name": "stdout",
     "output_type": "stream",
     "text": [
      "            Size  IsBadBuy\n",
      "0        COMPACT  0.158836\n",
      "1      CROSSOVER  0.101954\n",
      "2       Enlarged  0.127849\n",
      "3          LARGE  0.090894\n",
      "4   LARGE Canvas  0.109297\n",
      "5    LARGE other  0.158841\n",
      "6         MEDIUM  0.116092\n",
      "7   MEDIUM other  0.149956\n",
      "8   SMALL Canvas  0.136752\n",
      "9    SMALL other  0.138834\n",
      "10     SPECIALTY  0.089219\n",
      "11        Shrink  0.192101\n",
      "['SMALL other' 'Shrink' 'MEDIUM' 'COMPACT' 'MEDIUM other' 'Enlarged'\n",
      " 'LARGE' 'CROSSOVER' 'LARGE Canvas' 'SPECIALTY' 'SMALL Canvas'\n",
      " 'LARGE other' nan]\n",
      "['SMALL other' 'Shrink' 'MEDIUM' 'COMPACT' 'MEDIUM other' 'Enlarged'\n",
      " 'LARGE' 'CROSSOVER' 'LARGE Canvas' 'SPECIALTY' 'SMALL Canvas'\n",
      " 'LARGE other']\n"
     ]
    }
   ],
   "source": [
    "print (df[['Size', 'IsBadBuy']].groupby(['Size'], as_index=False).mean())\n",
    "print(df[\"Size\"].unique())\n",
    "#fill na\n",
    "df['Size'].fillna(df['Size'].mode()[0], inplace = True)\n",
    "print(df[\"Size\"].unique())"
   ]
  },
  {
   "cell_type": "code",
   "execution_count": 86,
   "metadata": {},
   "outputs": [
    {
     "name": "stdout",
     "output_type": "stream",
     "text": [
      "After [ 1  2  3  4  5  6  7  8  9 10 11 12]\n"
     ]
    }
   ],
   "source": [
    "#mapping\n",
    "size = {\"SMALL other\":1, \"Shrink\":2, \"MEDIUM\":3, \"COMPACT\":4, \"MEDIUM other\":5, \"Enlarged\":6,\n",
    " \"LARGE\":7, \"CROSSOVER\":8, \"LARGE Canvas\":9, \"SPECIALTY\":10, \"SMALL Canvas\":11,\n",
    " \"LARGE other\":12}\n",
    "df[\"Size\"] = df[\"Size\"].map(size)\n",
    "print(\"After\", df[\"Size\"].unique())"
   ]
  },
  {
   "cell_type": "markdown",
   "metadata": {},
   "source": [
    "#### TopThreeNYCName"
   ]
  },
  {
   "cell_type": "code",
   "execution_count": 87,
   "metadata": {},
   "outputs": [
    {
     "name": "stdout",
     "output_type": "stream",
     "text": [
      "        TopThreeNYCName  IsBadBuy\n",
      "0           Andy Warhol  0.116349\n",
      "1         Grandma Moses  0.156925\n",
      "2  Jean-Michel Basquiat  0.109097\n",
      "3                 OTHER  0.132120\n",
      "['OTHER' 'Grandma Moses' 'Jean-Michel Basquiat' 'Andy Warhol' nan]\n"
     ]
    }
   ],
   "source": [
    "print (df[['TopThreeNYCName', 'IsBadBuy']].groupby(['TopThreeNYCName'], as_index=False).mean())\n",
    "print(df[\"TopThreeNYCName\"].unique())"
   ]
  },
  {
   "cell_type": "code",
   "execution_count": 88,
   "metadata": {},
   "outputs": [
    {
     "name": "stdout",
     "output_type": "stream",
     "text": [
      "['OTHER' 'Grandma Moses' 'Jean-Michel Basquiat' 'Andy Warhol']\n"
     ]
    }
   ],
   "source": [
    "#fill na\n",
    "df['TopThreeNYCName'].fillna(\"OTHER\", inplace = True)\n",
    "print(df[\"TopThreeNYCName\"].unique())"
   ]
  },
  {
   "cell_type": "code",
   "execution_count": 89,
   "metadata": {},
   "outputs": [
    {
     "name": "stdout",
     "output_type": "stream",
     "text": [
      "After [1 2 3 4]\n"
     ]
    }
   ],
   "source": [
    "#mapping\n",
    "size = {\"OTHER\":1, \"Grandma Moses\":2, \"Jean-Michel Basquiat\":3, \"Andy Warhol\":4}\n",
    "df[\"TopThreeNYCName\"] = df[\"TopThreeNYCName\"].map(size)\n",
    "print(\"After\", df[\"TopThreeNYCName\"].unique())"
   ]
  },
  {
   "cell_type": "markdown",
   "metadata": {},
   "source": [
    "#### PRIMEUNIT"
   ]
  },
  {
   "cell_type": "code",
   "execution_count": 90,
   "metadata": {},
   "outputs": [
    {
     "name": "stdout",
     "output_type": "stream",
     "text": [
      "['OTHER' 'NO' 'YES']\n",
      "  PRIMEUNIT  IsBadBuy\n",
      "0        NO  0.037259\n",
      "1     OTHER  0.127369\n",
      "2       YES  0.119048\n",
      "['OTHER' 'NO' 'YES']\n",
      "After [1 2 3]\n"
     ]
    }
   ],
   "source": [
    "#fill na\n",
    "df['PRIMEUNIT'].fillna(\"OTHER\", inplace = True)\n",
    "print(df[\"PRIMEUNIT\"].unique())\n",
    "print (df[['PRIMEUNIT', 'IsBadBuy']].groupby(['PRIMEUNIT'], as_index=False).mean())\n",
    "print(df[\"PRIMEUNIT\"].unique())\n",
    "#mapping\n",
    "cat = {\"OTHER\":1, \"NO\":2, \"YES\":3}\n",
    "df[\"PRIMEUNIT\"] = df[\"PRIMEUNIT\"].map(cat)\n",
    "print(\"After\", df[\"PRIMEUNIT\"].unique())"
   ]
  },
  {
   "cell_type": "markdown",
   "metadata": {},
   "source": [
    "#### AUCGUART"
   ]
  },
  {
   "cell_type": "code",
   "execution_count": 91,
   "metadata": {},
   "outputs": [
    {
     "name": "stdout",
     "output_type": "stream",
     "text": [
      "['OTHER' 'GREEN' 'RED']\n",
      "  AUCGUART  IsBadBuy\n",
      "0    GREEN  0.037005\n",
      "1    OTHER  0.127369\n",
      "2      RED  0.113208\n",
      "['OTHER' 'GREEN' 'RED']\n",
      "After [1 2 3]\n"
     ]
    }
   ],
   "source": [
    "#fill na\n",
    "df['AUCGUART'].fillna(\"OTHER\", inplace = True)\n",
    "print(df[\"AUCGUART\"].unique())\n",
    "print (df[['AUCGUART', 'IsBadBuy']].groupby(['AUCGUART'], as_index=False).mean())\n",
    "print(df[\"AUCGUART\"].unique())\n",
    "#mapping\n",
    "COLOR = {\"OTHER\":1, \"GREEN\":2, \"RED\":3}\n",
    "df[\"AUCGUART\"] = df[\"AUCGUART\"].map(COLOR)\n",
    "print(\"After\", df[\"AUCGUART\"].unique())"
   ]
  },
  {
   "cell_type": "markdown",
   "metadata": {},
   "source": [
    "#### BYRNO"
   ]
  },
  {
   "cell_type": "code",
   "execution_count": 92,
   "metadata": {},
   "outputs": [
    {
     "name": "stdout",
     "output_type": "stream",
     "text": [
      "    BYRNO  IsBadBuy\n",
      "0     835  0.121680\n",
      "1    1031  0.050000\n",
      "2    1035  0.000000\n",
      "3    1041  0.142857\n",
      "4    1045  0.166667\n",
      "5    1051  0.056604\n",
      "6    1055  0.000000\n",
      "7    1081  0.066667\n",
      "8    1082  0.000000\n",
      "9    1085  0.205128\n",
      "10   1086  0.000000\n",
      "11   1121  0.166667\n",
      "12   1125  0.000000\n",
      "13   1141  0.066667\n",
      "14   1151  0.043478\n",
      "15   1152  0.250000\n",
      "16   1156  0.000000\n",
      "17   1191  0.135135\n",
      "18   1231  0.154412\n",
      "19   1235  0.089783\n",
      "20   3453  0.119425\n",
      "21   3582  1.000000\n",
      "22   5546  0.097276\n",
      "23   8172  0.118029\n",
      "24   8655  0.132249\n",
      "25  10310  0.181818\n",
      "26  10315  0.102362\n",
      "27  10410  0.000000\n",
      "28  10420  0.000000\n",
      "29  10425  0.000000\n",
      "..    ...       ...\n",
      "41  18880  0.149088\n",
      "42  18881  0.092105\n",
      "43  19064  0.132404\n",
      "44  19619  0.120375\n",
      "45  19638  0.108880\n",
      "46  19662  0.126654\n",
      "47  20207  0.122693\n",
      "48  20234  0.100068\n",
      "49  20392  0.180723\n",
      "50  20740  0.155213\n",
      "51  20833  0.173759\n",
      "52  20928  0.096810\n",
      "53  21047  0.166667\n",
      "54  21053  0.134585\n",
      "55  21973  0.120489\n",
      "56  22808  0.139876\n",
      "57  22916  0.135714\n",
      "58  23359  0.168385\n",
      "59  23657  0.122530\n",
      "60  25100  0.126626\n",
      "61  52117  0.125576\n",
      "62  52492  0.140316\n",
      "63  52598  0.109375\n",
      "64  52644  0.142857\n",
      "65  52646  0.145228\n",
      "66  53245  0.211538\n",
      "67  99740  0.131915\n",
      "68  99750  0.032241\n",
      "69  99760  1.000000\n",
      "70  99761  0.058144\n",
      "\n",
      "[71 rows x 2 columns]\n",
      "[ 8655 22808 20928 21053 22916 21973 19064 20234 19619 20833  5546 18880\n",
      "  3453 18822 18881  8172 20740 25100 17675 52644 19638 99761  1051   835\n",
      " 99750 19662 99740 20207 23359  1231 52598 17212 18111 52492 16044 16926\n",
      " 52117  1235  1045  1035 20392  1156 52646 10430  1031 23657  1141 11410\n",
      " 10410  1121  1151  1191 21047 10315  1081 53245 11210  1085 10420 10310\n",
      "  1055  1152  1082 18091 99760  1041  3582 16369  1125  1086 10425]\n"
     ]
    }
   ],
   "source": [
    "print (df[['BYRNO', 'IsBadBuy']].groupby(['BYRNO'], as_index=False).mean())\n",
    "print(df[\"BYRNO\"].unique())\n",
    "# df = df.dropna(subset=['BYRNO'])\n",
    "# df['BYRNO'] = df['BYRNO'].astype(int)\n",
    "# BYRNO = sns.distplot(df[\"BYRNO\"])"
   ]
  },
  {
   "cell_type": "markdown",
   "metadata": {},
   "source": [
    "#### Prices"
   ]
  },
  {
   "cell_type": "code",
   "execution_count": 93,
   "metadata": {
    "collapsed": true
   },
   "outputs": [],
   "source": [
    "#Fill NA\n",
    "df['MMRAcquisitionAuctionAveragePrice'].fillna(df['MMRAcquisitionAuctionAveragePrice'].median(), inplace = True)\n",
    "df['MMRAcquisitionAuctionCleanPrice'].fillna(df['MMRAcquisitionAuctionCleanPrice'].median(), inplace = True)\n",
    "df['MMRAcquisitionRetailAveragePrice'].fillna(df['MMRAcquisitionRetailAveragePrice'].median(), inplace = True)\n",
    "df['MMRAcquisitonRetailCleanPrice'].fillna(df['MMRAcquisitonRetailCleanPrice'].median(), inplace = True)\n",
    "df['MMRCurrentAuctionAveragePrice'].fillna(df['MMRCurrentAuctionAveragePrice'].median(), inplace = True)\n",
    "df['MMRCurrentAuctionCleanPrice'].fillna(df['MMRCurrentAuctionCleanPrice'].median(), inplace = True)\n",
    "df['MMRCurrentRetailAveragePrice'].fillna(df['MMRCurrentRetailAveragePrice'].median(), inplace = True)\n",
    "df['MMRCurrentRetailCleanPrice'].fillna(df['MMRCurrentRetailCleanPrice'].median(), inplace = True)"
   ]
  },
  {
   "cell_type": "markdown",
   "metadata": {},
   "source": [
    "#### Zipcode & State"
   ]
  },
  {
   "cell_type": "code",
   "execution_count": 94,
   "metadata": {},
   "outputs": [
    {
     "name": "stdout",
     "output_type": "stream",
     "text": [
      "   VNST  IsBadBuy\n",
      "0    AL  0.137014\n",
      "1    AR  0.218182\n",
      "2    AZ  0.111525\n",
      "3    CA  0.132308\n",
      "4    CO  0.123482\n",
      "5    FL  0.109851\n",
      "6    GA  0.104590\n",
      "7    IA  0.148876\n",
      "8    ID  0.118881\n",
      "9    IL  0.149502\n",
      "10   IN  0.142045\n",
      "11   KY  0.073620\n",
      "12   LA  0.141079\n",
      "13   MA  0.166667\n",
      "14   MD  0.144785\n",
      "15   MI  0.100000\n",
      "16   MN  0.057143\n",
      "17   MO  0.115672\n",
      "18   MS  0.096317\n",
      "19   NC  0.117130\n",
      "20   NE  0.066667\n",
      "21   NH  0.089552\n",
      "22   NJ  0.120000\n",
      "23   NM  0.109756\n",
      "24   NV  0.162500\n",
      "25   NY  0.000000\n",
      "26   OH  0.078853\n",
      "27   OK  0.095879\n",
      "28   OR  0.064286\n",
      "29   PA  0.168285\n",
      "30   SC  0.143288\n",
      "31   TN  0.107605\n",
      "32   TX  0.136292\n",
      "33   UT  0.123311\n",
      "34   VA  0.155788\n",
      "35   WA  0.076923\n",
      "36   WV  0.108911\n",
      "['TX' 'LA' 'FL' 'AZ' 'CO' 'VA' 'OK' 'GA' 'UT' 'SC' 'NC' 'CA' 'TN' 'IN' 'NE'\n",
      " 'MO' 'IL' 'MD' 'PA' 'NH' 'NV' 'NJ' 'AL' 'IA' 'NM' 'OH' 'WV' 'OR' 'ID' 'MS'\n",
      " 'KY' 'WA' 'MN' 'NY' 'AR' 'MA' 'MI']\n"
     ]
    }
   ],
   "source": [
    "#USE VNST\n",
    "print (df[['VNST', 'IsBadBuy']].groupby(['VNST'], as_index=False).mean())\n",
    "print(df[\"VNST\"].unique())"
   ]
  },
  {
   "cell_type": "code",
   "execution_count": 95,
   "metadata": {},
   "outputs": [
    {
     "name": "stdout",
     "output_type": "stream",
     "text": [
      "After [ 1  2  3  4  5  6  7  8  9 10 11 12 13 14 15 16 17 18 19 20 21 22 23 24 25\n",
      " 26 27 28 29 30 31 32 33 34 35 36 37]\n"
     ]
    }
   ],
   "source": [
    "#mapping\n",
    "st = {\"TX\":1, \"LA\":2, \"FL\":3, \"AZ\":4, \"CO\":5, \"VA\":6, \"OK\":7, \"GA\":8, \"UT\":9, \"SC\":10, \"NC\":11, \"CA\":12, \"TN\":13, \"IN\":14, \"NE\":15,\n",
    " \"MO\":16, \"IL\":17, \"MD\":18, \"PA\":19, \"NH\":20, \"NV\":21, \"NJ\":22, \"AL\":23, \"IA\":24, \"NM\":25, \"OH\":26, \"WV\":27, \"OR\":28, \"ID\":29, \"MS\":30,\n",
    " \"KY\":31, \"WA\":32, \"MN\":33, \"NY\":34, \"AR\":35, \"MA\":36, \"MI\":37}\n",
    "df[\"VNST\"] = df[\"VNST\"].map(st)\n",
    "print(\"After\", df[\"VNST\"].unique())"
   ]
  },
  {
   "cell_type": "markdown",
   "metadata": {},
   "source": [
    "#### PaintingCategories, QualityChecks,PaintingSize         "
   ]
  },
  {
   "cell_type": "code",
   "execution_count": 96,
   "metadata": {},
   "outputs": [
    {
     "name": "stdout",
     "output_type": "stream",
     "text": [
      "  PaintingCategories  IsBadBuy\n",
      "0                  0  0.135866\n",
      "1           Fine Art  0.121413\n",
      "2              Genre  0.115879\n",
      "3            History  0.120364\n",
      "4          Landscape  0.164983\n",
      "5           Portrait  0.125217\n",
      "6          Real Life  0.117021\n",
      "7         Still Life  0.114086\n",
      "[0 'Landscape' 'Genre' 'Portrait' 'Real Life' 'Still Life' 'Fine Art'\n",
      " 'History']\n",
      "After [0 1 2 3 4 5 6 7]\n"
     ]
    }
   ],
   "source": [
    "print (df[[\"PaintingCategories\", \"IsBadBuy\"]].groupby([\"PaintingCategories\"], as_index=False).mean())\n",
    "print(df[\"PaintingCategories\"].unique())\n",
    "#mapping\n",
    "cat = {0:0, \"Landscape\":1, \"Genre\":2, \"Portrait\":3, \"Real Life\":4, \"Still Life\":5, \"Fine Art\":6, \"History\":7}\n",
    "df[\"PaintingCategories\"] = df[\"PaintingCategories\"].map(cat)\n",
    "print(\"After\", df[\"PaintingCategories\"].unique())"
   ]
  },
  {
   "cell_type": "code",
   "execution_count": 97,
   "metadata": {},
   "outputs": [
    {
     "name": "stdout",
     "output_type": "stream",
     "text": [
      "  QualityChecks  IsBadBuy\n",
      "0             0  0.124131\n",
      "1           I 4  0.300000\n",
      "2           I-4  0.153439\n",
      "3           I-6  0.333333\n",
      "4            I4  0.114481\n",
      "5            I6  0.072917\n",
      "[0 'I4' 'I-4' 'I6' 'I 4' 'I-6']\n",
      "After [0 1 2 3 4 5]\n"
     ]
    }
   ],
   "source": [
    "print (df[[\"QualityChecks\", \"IsBadBuy\"]].groupby([\"QualityChecks\"], as_index=False).mean())\n",
    "print(df[\"QualityChecks\"].unique())\n",
    "#mapping\n",
    "cat = {0:0, \"I4\":1, \"I-4\":2, \"I6\":3, \"I 4\":4, \"I-6\":5}\n",
    "df[\"QualityChecks\"] = df[\"QualityChecks\"].map(cat)\n",
    "print(\"After\", df[\"QualityChecks\"].unique())"
   ]
  },
  {
   "cell_type": "code",
   "execution_count": 98,
   "metadata": {},
   "outputs": [
    {
     "name": "stdout",
     "output_type": "stream",
     "text": [
      "   PaintingSize  IsBadBuy\n",
      "0             0  0.129930\n",
      "1          1.5L  0.086957\n",
      "2          1.6L  0.172043\n",
      "3          1.7L  0.000000\n",
      "4          1.8L  0.117647\n",
      "5          1.9L  0.170732\n",
      "6            1L  0.043478\n",
      "7          2.0L  0.129958\n",
      "8          2.2L  0.100319\n",
      "9          2.3L  0.106335\n",
      "10         2.4L  0.118694\n",
      "11         2.5L  0.152381\n",
      "12         2.7L  0.071720\n",
      "13         2.8L  0.054795\n",
      "14         2.9L  0.000000\n",
      "15         3.0L  0.141281\n",
      "16         3.1L  0.267760\n",
      "17         3.2L  0.307692\n",
      "18         3.3L  0.113186\n",
      "19         3.4L  0.154657\n",
      "20         3.5L  0.070301\n",
      "21         3.6L  0.100000\n",
      "22         3.7L  0.108346\n",
      "23         3.8L  0.137761\n",
      "24         3.9L  0.103362\n",
      "25         4.0L  0.224736\n",
      "26         4.2L  0.119386\n",
      "27         4.3L  0.121076\n",
      "28         4.5L  0.000000\n",
      "29         4.6L  0.174242\n",
      "30         4.7L  0.106980\n",
      "31         4.8L  0.081712\n",
      "32         5.2L  0.000000\n",
      "33         5.3L  0.118492\n",
      "34         5.4L  0.221219\n",
      "35         5.6L  0.067961\n",
      "36         5.7L  0.064220\n",
      "37         5.9L  0.228070\n",
      "38         6.0L  0.185185\n",
      "39         6.2L  1.000000\n",
      "[0 '3.9L' '4.2L' '2.0L' '3.3L' '3.5L' '3.0L' '4.0L' '2.4L' '5.3L' '2.2L'\n",
      " '4.7L' '3.7L' '3.4L' '5.4L' '3.8L' '2.7L' '1.8L' '5.7L' '4.8L' '2.3L'\n",
      " '4.6L' '2.5L' '2.8L' '5.6L' '1.6L' '3.1L' '5.9L' '4.3L' '6.0L' '1.9L'\n",
      " '3.6L' '1.5L' '1L' '1.7L' '2.9L' '4.5L' '3.2L' '6.2L' '5.2L']\n",
      "After [0 3 4 2 5 1 6]\n"
     ]
    }
   ],
   "source": [
    "print (df[[\"PaintingSize\", \"IsBadBuy\"]].groupby([\"PaintingSize\"], as_index=False).mean())\n",
    "print(df[\"PaintingSize\"].unique())\n",
    "#mapping\n",
    "cat = {0:0, \"3.9L\":3, \"4.2L\":4, \"2.0L\":2, \"3.3L\":3, \"3.5L\":3, \"3.0L\":3, \"4.0L\":4, \"2.4L\":2, \"5.3L\":5, \"2.2L\":2,\n",
    " \"4.7L\":4, \"3.7L\":3, \"3.4L\":3, \"5.4L\":5, \"3.8L\":3, \"2.7L\":2, \"1.8L\":1, \"5.7L\":5, \"4.8L\":4, \"2.3L\":2,\n",
    " \"4.6L\":4, \"2.5L\":2, \"2.8L\":2, \"5.6L\":5, \"1.6L\":1, \"3.1L\":3, \"5.9L\":5, \"4.3L\":4, \"6.0L\":6, \"1.9L\":1,\n",
    " \"3.6L\":3, \"1.5L\":1, \"1L\":1, \"1.7L\":1, \"2.9L\":2, \"4.5L\":4, \"3.2L\":3, \"6.2L\":6, \"5.2L\":5}\n",
    "df[\"PaintingSize\"] = df[\"PaintingSize\"].map(cat)\n",
    "print(\"After\", df[\"PaintingSize\"].unique())"
   ]
  },
  {
   "cell_type": "code",
   "execution_count": 99,
   "metadata": {
    "collapsed": true
   },
   "outputs": [],
   "source": [
    "#drop zipcode\n",
    "drop_column = ['PurchDate','FrameType']\n",
    "df.drop(drop_column, axis=1, inplace = True)"
   ]
  },
  {
   "cell_type": "code",
   "execution_count": 100,
   "metadata": {},
   "outputs": [
    {
     "name": "stdout",
     "output_type": "stream",
     "text": [
      "<class 'pandas.core.frame.DataFrame'>\n",
      "Int64Index: 50866 entries, 0 to 51087\n",
      "Data columns (total 42 columns):\n",
      "IsBadBuy                                  50866 non-null int64\n",
      "Auction                                   50866 non-null int64\n",
      "PaintingAge                               50866 non-null int64\n",
      "Artist                                    50866 non-null int64\n",
      "CanvasColor                               50866 non-null int64\n",
      "Market                                    50866 non-null int64\n",
      "FrameTypeID                               50866 non-null float64\n",
      "Bids                                      50866 non-null int64\n",
      "Nationality                               50866 non-null int64\n",
      "Size                                      50866 non-null int64\n",
      "TopThreeNYCName                           50866 non-null int64\n",
      "MMRAcquisitionAuctionAveragePrice         50866 non-null int64\n",
      "MMRAcquisitionAuctionCleanPrice           50866 non-null int64\n",
      "MMRAcquisitionRetailAveragePrice          50866 non-null int64\n",
      "MMRAcquisitonRetailCleanPrice             50866 non-null int64\n",
      "MMRCurrentAuctionAveragePrice             50866 non-null int64\n",
      "MMRCurrentAuctionCleanPrice               50866 non-null int64\n",
      "MMRCurrentRetailAveragePrice              50866 non-null int64\n",
      "MMRCurrentRetailCleanPrice                50866 non-null int64\n",
      "PRIMEUNIT                                 50866 non-null int64\n",
      "AUCGUART                                  50866 non-null int64\n",
      "BYRNO                                     50866 non-null int64\n",
      "VNZIP1                                    50866 non-null int64\n",
      "VNST                                      50866 non-null int64\n",
      "PaintingBCost                             50866 non-null float64\n",
      "IsOnlineSale                              50866 non-null int64\n",
      "WarrantyCost                              50866 non-null int64\n",
      "PaintingCategories                        50866 non-null int64\n",
      "QualityChecks                             50866 non-null int64\n",
      "PaintingSize                              50866 non-null int64\n",
      "MMRAcquisitionAuctionAveragePriceRatio    50866 non-null float64\n",
      "MMRAcquisitionAuctionCleanPriceRatio      50866 non-null float64\n",
      "MMRAcquisitionRetailAveragePriceRatio     50866 non-null float64\n",
      "MMRAcquisitonRetailCleanPriceRatio        50866 non-null float64\n",
      "MMRCurrentAuctionAveragePriceRatio        50866 non-null float64\n",
      "MMRCurrentAuctionCleanPriceRatio          50866 non-null float64\n",
      "MMRCurrentRetailAveragePriceRatio         50866 non-null float64\n",
      "MMRCurrentRetailCleanPriceRatio           50866 non-null float64\n",
      "Year                                      50866 non-null int64\n",
      "Month                                     50866 non-null int64\n",
      "Day                                       50866 non-null int64\n",
      "CategoricalBids                           50866 non-null category\n",
      "dtypes: category(1), float64(10), int64(31)\n",
      "memory usage: 16.3 MB\n",
      "None\n"
     ]
    }
   ],
   "source": [
    "print(df.info())"
   ]
  },
  {
   "cell_type": "code",
   "execution_count": 101,
   "metadata": {
    "collapsed": true
   },
   "outputs": [],
   "source": [
    "#drop CategoricalBids!!!\n",
    "drop_column = ['CategoricalBids']\n",
    "df.drop(drop_column, axis=1, inplace = True)"
   ]
  },
  {
   "cell_type": "markdown",
   "metadata": {},
   "source": [
    "## 4. Fit Model"
   ]
  },
  {
   "cell_type": "code",
   "execution_count": 102,
   "metadata": {},
   "outputs": [
    {
     "name": "stdout",
     "output_type": "stream",
     "text": [
      "<class 'pandas.core.frame.DataFrame'>\n",
      "Int64Index: 40757 entries, 1 to 51087\n",
      "Data columns (total 42 columns):\n",
      "IsBadBuy                                  40757 non-null int64\n",
      "Auction                                   40757 non-null int64\n",
      "PaintingAge                               40757 non-null int64\n",
      "Artist                                    40757 non-null int64\n",
      "CanvasColor                               40757 non-null int64\n",
      "Market                                    40757 non-null int64\n",
      "FrameTypeID                               40757 non-null float64\n",
      "Bids                                      40757 non-null int64\n",
      "Nationality                               40757 non-null int64\n",
      "Size                                      40757 non-null int64\n",
      "TopThreeNYCName                           40757 non-null int64\n",
      "MMRAcquisitionAuctionAveragePrice         40757 non-null int64\n",
      "MMRAcquisitionAuctionCleanPrice           40757 non-null int64\n",
      "MMRAcquisitionRetailAveragePrice          40757 non-null int64\n",
      "MMRAcquisitonRetailCleanPrice             40757 non-null int64\n",
      "MMRCurrentAuctionAveragePrice             40757 non-null int64\n",
      "MMRCurrentAuctionCleanPrice               40757 non-null int64\n",
      "MMRCurrentRetailAveragePrice              40757 non-null int64\n",
      "MMRCurrentRetailCleanPrice                40757 non-null int64\n",
      "PRIMEUNIT                                 40757 non-null int64\n",
      "AUCGUART                                  40757 non-null int64\n",
      "BYRNO                                     40757 non-null int64\n",
      "VNZIP1                                    40757 non-null int64\n",
      "VNST                                      40757 non-null int64\n",
      "PaintingBCost                             40757 non-null float64\n",
      "IsOnlineSale                              40757 non-null int64\n",
      "WarrantyCost                              40757 non-null int64\n",
      "PaintingCategories                        40757 non-null int64\n",
      "QualityChecks                             40757 non-null int64\n",
      "PaintingSize                              40757 non-null int64\n",
      "MMRAcquisitionAuctionAveragePriceRatio    40757 non-null float64\n",
      "MMRAcquisitionAuctionCleanPriceRatio      40757 non-null float64\n",
      "MMRAcquisitionRetailAveragePriceRatio     40757 non-null float64\n",
      "MMRAcquisitonRetailCleanPriceRatio        40757 non-null float64\n",
      "MMRCurrentAuctionAveragePriceRatio        40757 non-null float64\n",
      "MMRCurrentAuctionCleanPriceRatio          40757 non-null float64\n",
      "MMRCurrentRetailAveragePriceRatio         40757 non-null float64\n",
      "MMRCurrentRetailCleanPriceRatio           40757 non-null float64\n",
      "Year                                      40757 non-null int64\n",
      "Month                                     40757 non-null int64\n",
      "Day                                       40757 non-null int64\n",
      "split                                     40757 non-null float64\n",
      "dtypes: float64(11), int64(31)\n",
      "memory usage: 13.4 MB\n",
      "None\n",
      "<class 'pandas.core.frame.DataFrame'>\n",
      "Int64Index: 10109 entries, 0 to 51077\n",
      "Data columns (total 42 columns):\n",
      "IsBadBuy                                  10109 non-null int64\n",
      "Auction                                   10109 non-null int64\n",
      "PaintingAge                               10109 non-null int64\n",
      "Artist                                    10109 non-null int64\n",
      "CanvasColor                               10109 non-null int64\n",
      "Market                                    10109 non-null int64\n",
      "FrameTypeID                               10109 non-null float64\n",
      "Bids                                      10109 non-null int64\n",
      "Nationality                               10109 non-null int64\n",
      "Size                                      10109 non-null int64\n",
      "TopThreeNYCName                           10109 non-null int64\n",
      "MMRAcquisitionAuctionAveragePrice         10109 non-null int64\n",
      "MMRAcquisitionAuctionCleanPrice           10109 non-null int64\n",
      "MMRAcquisitionRetailAveragePrice          10109 non-null int64\n",
      "MMRAcquisitonRetailCleanPrice             10109 non-null int64\n",
      "MMRCurrentAuctionAveragePrice             10109 non-null int64\n",
      "MMRCurrentAuctionCleanPrice               10109 non-null int64\n",
      "MMRCurrentRetailAveragePrice              10109 non-null int64\n",
      "MMRCurrentRetailCleanPrice                10109 non-null int64\n",
      "PRIMEUNIT                                 10109 non-null int64\n",
      "AUCGUART                                  10109 non-null int64\n",
      "BYRNO                                     10109 non-null int64\n",
      "VNZIP1                                    10109 non-null int64\n",
      "VNST                                      10109 non-null int64\n",
      "PaintingBCost                             10109 non-null float64\n",
      "IsOnlineSale                              10109 non-null int64\n",
      "WarrantyCost                              10109 non-null int64\n",
      "PaintingCategories                        10109 non-null int64\n",
      "QualityChecks                             10109 non-null int64\n",
      "PaintingSize                              10109 non-null int64\n",
      "MMRAcquisitionAuctionAveragePriceRatio    10109 non-null float64\n",
      "MMRAcquisitionAuctionCleanPriceRatio      10109 non-null float64\n",
      "MMRAcquisitionRetailAveragePriceRatio     10109 non-null float64\n",
      "MMRAcquisitonRetailCleanPriceRatio        10109 non-null float64\n",
      "MMRCurrentAuctionAveragePriceRatio        10109 non-null float64\n",
      "MMRCurrentAuctionCleanPriceRatio          10109 non-null float64\n",
      "MMRCurrentRetailAveragePriceRatio         10109 non-null float64\n",
      "MMRCurrentRetailCleanPriceRatio           10109 non-null float64\n",
      "Year                                      10109 non-null int64\n",
      "Month                                     10109 non-null int64\n",
      "Day                                       10109 non-null int64\n",
      "split                                     10109 non-null float64\n",
      "dtypes: float64(11), int64(31)\n",
      "memory usage: 3.3 MB\n",
      "None\n"
     ]
    }
   ],
   "source": [
    "#print (df.info())\n",
    "#train, test = np.split(df.sample(frac=1), [int(.8*len(df))])\n",
    "#print(train.info())\n",
    "#print(cv.info())\n",
    "#print(test.info())\n",
    "df['split'] = np.random.randn(df.shape[0], 1)\n",
    "msk = np.random.rand(len(df)) <= 0.8\n",
    "train = df[msk]\n",
    "test = df[~msk]\n",
    "print(train.info())\n",
    "print(test.info())"
   ]
  },
  {
   "cell_type": "code",
   "execution_count": null,
   "metadata": {},
   "outputs": [],
   "source": [
    "import pandas as pd\n",
    "import numpy as np\n",
    "import matplotlib.pyplot as plt\n",
    "import seaborn as sns\n",
    "%matplotlib inline\n",
    "\n",
    "from collections import Counter\n",
    "\n",
    "from sklearn.ensemble import RandomForestClassifier, AdaBoostClassifier, GradientBoostingClassifier, ExtraTreesClassifier, VotingClassifier\n",
    "from sklearn.discriminant_analysis import LinearDiscriminantAnalysis\n",
    "from sklearn.linear_model import LogisticRegression\n",
    "from sklearn.neighbors import KNeighborsClassifier\n",
    "from sklearn.tree import DecisionTreeClassifier\n",
    "from sklearn.neural_network import MLPClassifier\n",
    "from sklearn.svm import SVC\n",
    "from sklearn.model_selection import GridSearchCV, cross_val_score, StratifiedKFold, learning_curve\n",
    "\n",
    "## Separate train dataset and test dataset\n",
    "test.drop(labels=[\"IsBadBuy\"],axis = 1,inplace=True)\n",
    "\n",
    "## Separate train features and label \n",
    "train[\"IsBadBuy\"] = train[\"IsBadBuy\"].astype(int)\n",
    "Y_train = train[\"IsBadBuy\"]\n",
    "X_train = train.drop(labels = [\"IsBadBuy\"],axis = 1)\n",
    "\n",
    "kfold = StratifiedKFold(n_splits=10)\n",
    "random_state = 2\n",
    "classifiers = []\n",
    "classifiers.append(SVC(random_state=random_state))\n",
    "classifiers.append(DecisionTreeClassifier(random_state=random_state))\n",
    "classifiers.append(AdaBoostClassifier(DecisionTreeClassifier(random_state=random_state),random_state=random_state,learning_rate=0.1))\n",
    "classifiers.append(RandomForestClassifier(random_state=random_state))\n",
    "classifiers.append(ExtraTreesClassifier(random_state=random_state))\n",
    "classifiers.append(GradientBoostingClassifier(random_state=random_state))\n",
    "classifiers.append(MLPClassifier(random_state=random_state))\n",
    "classifiers.append(KNeighborsClassifier())\n",
    "classifiers.append(LogisticRegression(random_state = random_state))\n",
    "classifiers.append(LinearDiscriminantAnalysis())\n",
    "\n",
    "cv_results = []\n",
    "for classifier in classifiers :\n",
    "    cv_results.append(cross_val_score(classifier, X_train, y = Y_train, scoring = \"accuracy\", cv = kfold, n_jobs=4))\n",
    "\n",
    "cv_means = []\n",
    "cv_std = []\n",
    "for cv_result in cv_results:\n",
    "    cv_means.append(cv_result.mean())\n",
    "    cv_std.append(cv_result.std())\n",
    "\n",
    "#cv_res = pd.DataFrame({\"CrossValMeans\":cv_means,\"CrossValerrors\": cv_std,\"Algorithm\":[\"SVC\",\"DecisionTree\",\"AdaBoost\",\n",
    "#\"RandomForest\",\"ExtraTrees\",\"GradientBoosting\",\"MultipleLayerPerceptron\",\"KNeighboors\",\"LogisticRegression\",\"LinearDiscriminantAnalysis\"]})\n",
    "\n",
    "cv_res = pd.loc({\"CrossValMeans\":cv_means,\"CrossValerrors\": cv_std,\"Algorithm\":[\"SVC\",\"DecisionTree\",\"AdaBoost\",\n",
    "\"RandomForest\",\"ExtraTrees\",\"GradientBoosting\",\"MultipleLayerPerceptron\",\"KNeighboors\",\"LogisticRegression\",\"LinearDiscriminantAnalysis\"]})\n",
    "\n",
    "g = sns.barplot(\"CrossValMeans\",\"Algorithm\",data = cv_res, palette=\"Set3\",orient = \"h\",**{'xerr':cv_std})\n",
    "g.set_xlabel(\"Mean Accuracy\")\n",
    "g = g.set_title(\"Cross validation scores\")\n"
   ]
  },
  {
   "cell_type": "markdown",
   "metadata": {},
   "source": [
    "### Try use SVC, AdaBoost, RandomForest, ExtraTrees and GradientBoosting"
   ]
  },
  {
   "cell_type": "code",
   "execution_count": null,
   "metadata": {},
   "outputs": [],
   "source": [
    "### META MODELING  WITH ADABOOST, RF, EXTRATREES and GRADIENTBOOSTING\n",
    "\n",
    "# Adaboost\n",
    "DTC = DecisionTreeClassifier()\n",
    "\n",
    "adaDTC = AdaBoostClassifier(DTC, random_state=7)\n",
    "\n",
    "ada_param_grid = {\"base_estimator__criterion\" : [\"gini\", \"entropy\"],\n",
    "              \"base_estimator__splitter\" :   [\"best\", \"random\"],\n",
    "              \"algorithm\" : [\"SAMME\",\"SAMME.R\"],\n",
    "              \"n_estimators\" :[1,2],\n",
    "              \"learning_rate\":  [0.0001, 0.001, 0.01, 0.1, 0.2, 0.3,1.5]}\n",
    "\n",
    "gsadaDTC = GridSearchCV(adaDTC,param_grid = ada_param_grid, cv=kfold, scoring=\"accuracy\", n_jobs= 4, verbose = 1)\n",
    "\n",
    "gsadaDTC.fit(X_train,Y_train)\n",
    "\n",
    "ada_best = gsadaDTC.best_estimator_"
   ]
  },
  {
   "cell_type": "code",
   "execution_count": null,
   "metadata": {},
   "outputs": [],
   "source": [
    "gsadaDTC.best_score_"
   ]
  },
  {
   "cell_type": "code",
   "execution_count": null,
   "metadata": {},
   "outputs": [],
   "source": [
    "#ExtraTrees \n",
    "ExtC = ExtraTreesClassifier()\n",
    "\n",
    "\n",
    "## Search grid for optimal parameters\n",
    "ex_param_grid = {\"max_depth\": [None],\n",
    "              \"max_features\": [1, 3, 10],\n",
    "              \"min_samples_split\": [2, 3, 10],\n",
    "              \"min_samples_leaf\": [1, 3, 10],\n",
    "              \"bootstrap\": [False],\n",
    "              \"n_estimators\" :[100,300],\n",
    "              \"criterion\": [\"gini\"]}\n",
    "\n",
    "\n",
    "gsExtC = GridSearchCV(ExtC,param_grid = ex_param_grid, cv=kfold, scoring=\"accuracy\", n_jobs= 4, verbose = 1)\n",
    "\n",
    "gsExtC.fit(X_train,Y_train)\n",
    "\n",
    "ExtC_best = gsExtC.best_estimator_\n",
    "\n",
    "# Best score\n",
    "gsExtC.best_score_"
   ]
  },
  {
   "cell_type": "code",
   "execution_count": null,
   "metadata": {},
   "outputs": [],
   "source": [
    "# RFC Parameters tunning \n",
    "RFC = RandomForestClassifier()\n",
    "\n",
    "\n",
    "## Search grid for optimal parameters\n",
    "rf_param_grid = {\"max_depth\": [None],\n",
    "              \"max_features\": [1, 3, 10],\n",
    "              \"min_samples_split\": [2, 3, 10],\n",
    "              \"min_samples_leaf\": [1, 3, 10],\n",
    "              \"bootstrap\": [False],\n",
    "              \"n_estimators\" :[100,300],\n",
    "              \"criterion\": [\"gini\"]}\n",
    "\n",
    "\n",
    "gsRFC = GridSearchCV(RFC,param_grid = rf_param_grid, cv=kfold, scoring=\"accuracy\", n_jobs= 4, verbose = 1)\n",
    "\n",
    "gsRFC.fit(X_train,Y_train)\n",
    "\n",
    "RFC_best = gsRFC.best_estimator_\n",
    "\n",
    "# Best score\n",
    "gsRFC.best_score_"
   ]
  },
  {
   "cell_type": "code",
   "execution_count": null,
   "metadata": {},
   "outputs": [],
   "source": [
    "# Gradient boosting tunning\n",
    "\n",
    "GBC = GradientBoostingClassifier()\n",
    "gb_param_grid = {'loss' : [\"deviance\"],\n",
    "              'n_estimators' : [100,200,300],\n",
    "              'learning_rate': [0.1, 0.05, 0.01],\n",
    "              'max_depth': [4, 8],\n",
    "              'min_samples_leaf': [100,150],\n",
    "              'max_features': [0.3, 0.1] \n",
    "              }\n",
    "\n",
    "gsGBC = GridSearchCV(GBC,param_grid = gb_param_grid, cv=kfold, scoring=\"accuracy\", n_jobs= 4, verbose = 1)\n",
    "\n",
    "gsGBC.fit(X_train,Y_train)\n",
    "\n",
    "GBC_best = gsGBC.best_estimator_\n",
    "\n",
    "# Best score\n",
    "gsGBC.best_score_"
   ]
  },
  {
   "cell_type": "code",
   "execution_count": null,
   "metadata": {},
   "outputs": [],
   "source": [
    "### SVC classifier\n",
    "SVMC = SVC(probability=True)\n",
    "svc_param_grid = {'kernel': ['rbf'], \n",
    "                  'gamma': [ 0.001, 0.01, 0.1, 1],\n",
    "                  'C': [1, 10, 50, 100,200,300, 1000]}\n",
    "\n",
    "gsSVMC = GridSearchCV(SVMC,param_grid = svc_param_grid, cv=kfold, scoring=\"accuracy\", n_jobs= 4, verbose = 1)\n",
    "\n",
    "gsSVMC.fit(X_train,Y_train)\n",
    "\n",
    "SVMC_best = gsSVMC.best_estimator_\n",
    "\n",
    "# Best score\n",
    "gsSVMC.best_score_"
   ]
  },
  {
   "cell_type": "code",
   "execution_count": 76,
   "metadata": {},
   "outputs": [
    {
     "data": {
      "image/png": "[encoded data removed]",
      "text/plain": [
       "<matplotlib.figure.Figure at 0x11533fba8>"
      ]
     },
     "metadata": {},
     "output_type": "display_data"
    }
   ],
   "source": [
    "import numpy as np\n",
    "def plot_learning_curve(estimator, title, X, y, ylim=None, cv=None,\n",
    "                        n_jobs=-1, train_sizes=np.linspace(.1, 1.0, 5)):\n",
    "    \"\"\"Generate a simple plot of the test and training learning curve\"\"\"\n",
    "    plt.figure()\n",
    "    plt.title(title)\n",
    "    if ylim is not None:\n",
    "        plt.ylim(*ylim)\n",
    "    plt.xlabel(\"Training examples\")\n",
    "    plt.ylabel(\"Score\")\n",
    "    train_sizes, train_scores, test_scores = learning_curve(\n",
    "        estimator, X, y, cv=cv, n_jobs=n_jobs, train_sizes=train_sizes)\n",
    "    train_scores_mean = np.mean(train_scores, axis=1)\n",
    "    train_scores_std = np.std(train_scores, axis=1)\n",
    "    test_scores_mean = np.mean(test_scores, axis=1)\n",
    "    test_scores_std = np.std(test_scores, axis=1)\n",
    "    plt.grid()\n",
    "\n",
    "    plt.fill_between(train_sizes, train_scores_mean - train_scores_std,\n",
    "                     train_scores_mean + train_scores_std, alpha=0.1,\n",
    "                     color=\"r\")\n",
    "    plt.fill_between(train_sizes, test_scores_mean - test_scores_std,\n",
    "                     test_scores_mean + test_scores_std, alpha=0.1, color=\"g\")\n",
    "    plt.plot(train_sizes, train_scores_mean, 'o-', color=\"r\",\n",
    "             label=\"Training score\")\n",
    "    plt.plot(train_sizes, test_scores_mean, 'o-', color=\"g\",\n",
    "             label=\"Cross-validation score\")\n",
    "\n",
    "    plt.legend(loc=\"best\")\n",
    "    return plt\n",
    "\n",
    "g = plot_learning_curve(gsExtC.best_estimator_,\"ExtraTrees learning curves\",X_train,Y_train,cv=kfold)"
   ]
  },
  {
   "cell_type": "code",
   "execution_count": 77,
   "metadata": {},
   "outputs": [
    {
     "data": {
      "image/png": "[encoded data removed]",
      "text/plain": [
       "<matplotlib.figure.Figure at 0x11531cba8>"
      ]
     },
     "metadata": {},
     "output_type": "display_data"
    }
   ],
   "source": [
    "g = plot_learning_curve(gsRFC.best_estimator_,\"RF learning curves\",X_train,Y_train,cv=kfold)"
   ]
  }
 ],
 "metadata": {
  "kernelspec": {
   "display_name": "Python 3",
   "language": "python",
   "name": "python3"
  },
  "language_info": {
   "codemirror_mode": {
    "name": "ipython",
    "version": 3
   },
   "file_extension": ".py",
   "mimetype": "text/x-python",
   "name": "python",
   "nbconvert_exporter": "python",
   "pygments_lexer": "ipython3",
   "version": "3.6.3"
  }
 },
 "nbformat": 4,
 "nbformat_minor": 2
}
