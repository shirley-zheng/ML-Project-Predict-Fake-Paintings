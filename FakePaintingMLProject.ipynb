{
 "cells": [
  {
   "cell_type": "markdown",
   "metadata": {},
   "source": [
    "## Question 1 "
   ]
  },
  {
   "cell_type": "markdown",
   "metadata": {},
   "source": [
    "### 1a) load train dataset and split into train, cross-validation and test dataframes"
   ]
  },
  {
   "cell_type": "code",
   "execution_count": 1,
   "metadata": {
    "scrolled": true
   },
   "outputs": [
    {
     "name": "stdout",
     "output_type": "stream",
     "text": [
      "<class 'pandas.core.frame.DataFrame'>\n",
      "RangeIndex: 51088 entries, 0 to 51087\n",
      "Data columns (total 34 columns):\n",
      "RT13Id                               51088 non-null int64\n",
      "IsBadBuy                             51088 non-null int64\n",
      "PurchDate                            51088 non-null object\n",
      "Auction                              51088 non-null object\n",
      "PaintingYear                         51088 non-null int64\n",
      "PaintingAge                          51088 non-null int64\n",
      "Artist                               51088 non-null object\n",
      "PaintingName                         51088 non-null object\n",
      "Trim                                 49395 non-null object\n",
      "SubType                              51084 non-null object\n",
      "CanvasColor                          51084 non-null object\n",
      "Market                               51083 non-null object\n",
      "FrameTypeID                          48847 non-null float64\n",
      "FrameType                            48843 non-null object\n",
      "Bids                                 51088 non-null int64\n",
      "Nationality                          51085 non-null object\n",
      "Size                                 51085 non-null object\n",
      "TopThreeNYCName                      51085 non-null object\n",
      "MMRAcquisitionAuctionAveragePrice    51077 non-null float64\n",
      "MMRAcquisitionAuctionCleanPrice      51077 non-null float64\n",
      "MMRAcquisitionRetailAveragePrice     51077 non-null float64\n",
      "MMRAcquisitonRetailCleanPrice        51077 non-null float64\n",
      "MMRCurrentAuctionAveragePrice        50866 non-null float64\n",
      "MMRCurrentAuctionCleanPrice          50866 non-null float64\n",
      "MMRCurrentRetailAveragePrice         50866 non-null float64\n",
      "MMRCurrentRetailCleanPrice           50866 non-null float64\n",
      "PRIMEUNIT                            2386 non-null object\n",
      "AUCGUART                             2386 non-null object\n",
      "BYRNO                                51088 non-null int64\n",
      "VNZIP1                               51088 non-null int64\n",
      "VNST                                 51088 non-null object\n",
      "PaintingBCost                        51088 non-null float64\n",
      "IsOnlineSale                         51088 non-null int64\n",
      "WarrantyCost                         51088 non-null int64\n",
      "dtypes: float64(10), int64(9), object(15)\n",
      "memory usage: 13.3+ MB\n",
      "None\n",
      "<class 'pandas.core.frame.DataFrame'>\n",
      "RangeIndex: 21895 entries, 0 to 21894\n",
      "Data columns (total 33 columns):\n",
      "RT13Id                               21895 non-null int64\n",
      "PurchDate                            21895 non-null object\n",
      "Auction                              21895 non-null object\n",
      "PaintingYear                         21895 non-null int64\n",
      "PaintingAge                          21895 non-null int64\n",
      "Artist                               21895 non-null object\n",
      "PaintingName                         21895 non-null object\n",
      "Trim                                 21228 non-null object\n",
      "SubType                              21891 non-null object\n",
      "CanvasColor                          21891 non-null object\n",
      "Market                               21891 non-null object\n",
      "FrameTypeID                          20967 non-null float64\n",
      "FrameType                            20966 non-null object\n",
      "Bids                                 21895 non-null int64\n",
      "Nationality                          21893 non-null object\n",
      "Size                                 21893 non-null object\n",
      "TopThreeNYCName                      21893 non-null object\n",
      "MMRAcquisitionAuctionAveragePrice    21888 non-null float64\n",
      "MMRAcquisitionAuctionCleanPrice      21888 non-null float64\n",
      "MMRAcquisitionRetailAveragePrice     21888 non-null float64\n",
      "MMRAcquisitonRetailCleanPrice        21888 non-null float64\n",
      "MMRCurrentAuctionAveragePrice        21802 non-null float64\n",
      "MMRCurrentAuctionCleanPrice          21802 non-null float64\n",
      "MMRCurrentRetailAveragePrice         21802 non-null float64\n",
      "MMRCurrentRetailCleanPrice           21802 non-null float64\n",
      "PRIMEUNIT                            1033 non-null object\n",
      "AUCGUART                             1033 non-null object\n",
      "BYRNO                                21895 non-null int64\n",
      "VNZIP1                               21895 non-null int64\n",
      "VNST                                 21895 non-null object\n",
      "PaintingBCost                        21895 non-null float64\n",
      "IsOnlineSale                         21895 non-null int64\n",
      "WarrantyCost                         21895 non-null int64\n",
      "dtypes: float64(10), int64(8), object(15)\n",
      "memory usage: 5.5+ MB\n",
      "None\n"
     ]
    }
   ],
   "source": [
    "import os\n",
    "import numpy as np\n",
    "import pandas as pd\n",
    "import os\n",
    "np.random.seed(1234)\n",
    "train_ds = pd.read_csv('~/Desktop/Final_Project/train_dataset.csv')\n",
    "test_ds = pd.read_csv('~/Desktop/Final_Project/test_dataset.csv')\n",
    "IDtest = test_ds[\"RT13Id\"]\n",
    "print(train_ds.info())\n",
    "print(test_ds.info())\n",
    "\n",
    "#Split into train, cv, and test \n",
    "#train_t, cv_t, test_t = np.split(train.sample(frac=1), [int(.6*len(train_ds)), int(.8*len(train_ds))])"
   ]
  },
  {
   "cell_type": "markdown",
   "metadata": {},
   "source": [
    "#### join train and test"
   ]
  },
  {
   "cell_type": "code",
   "execution_count": 2,
   "metadata": {
    "collapsed": true
   },
   "outputs": [],
   "source": [
    "train_len = len(train_ds)\n",
    "df = pd.concat(objs=[train_ds, test_ds], axis = 0).reset_index(drop=True)"
   ]
  },
  {
   "cell_type": "markdown",
   "metadata": {},
   "source": [
    "### 1b) scatterplot for current retail clean price vs current retail avg price"
   ]
  },
  {
   "cell_type": "markdown",
   "metadata": {},
   "source": [
    "### Answer: The relationship is linear."
   ]
  },
  {
   "cell_type": "code",
   "execution_count": 3,
   "metadata": {
    "scrolled": true
   },
   "outputs": [
    {
     "data": {
      "image/png": "[encoded data removed]",
      "text/plain": [
       "<matplotlib.figure.Figure at 0x110928b70>"
      ]
     },
     "metadata": {},
     "output_type": "display_data"
    }
   ],
   "source": [
    "%matplotlib inline\n",
    "import matplotlib.pyplot as plt\n",
    "plt.style.use('seaborn-whitegrid')\n",
    "import numpy as np\n",
    "plt.scatter(x=df.MMRCurrentRetailCleanPrice, y=df.MMRCurrentRetailAveragePrice, marker='o');\n",
    "plt.title(\"current retail clean price vs current retail avg price\")\n",
    "plt.xlabel(\"current retail clean price\")\n",
    "plt.ylabel(\"current retail avg price\")\n",
    "plt.show()"
   ]
  },
  {
   "cell_type": "markdown",
   "metadata": {},
   "source": [
    "### 1c) plot distributions for the painting age, bids, warranty costs, acquisitions costs, etc."
   ]
  },
  {
   "cell_type": "code",
   "execution_count": 4,
   "metadata": {},
   "outputs": [
    {
     "data": {
      "image/png": "[encoded data removed]",
      "text/plain": [
       "<matplotlib.figure.Figure at 0x10d034b70>"
      ]
     },
     "metadata": {},
     "output_type": "display_data"
    }
   ],
   "source": [
    "#Answer: Painting age, warranty costs and painting B cost are right skewed, and the acquisition and current prices are all left skewed.  \n",
    "import numpy as np\n",
    "import pandas as pd\n",
    "import seaborn as sns\n",
    "import matplotlib.pyplot as plt\n",
    "from scipy import stats\n",
    "age = sns.distplot(df[\"PaintingAge\"])"
   ]
  },
  {
   "cell_type": "code",
   "execution_count": 5,
   "metadata": {},
   "outputs": [
    {
     "data": {
      "image/png": "[encoded data removed]",
      "text/plain": [
       "<matplotlib.figure.Figure at 0x110928d68>"
      ]
     },
     "metadata": {},
     "output_type": "display_data"
    }
   ],
   "source": [
    "bids = sns.distplot(df[\"Bids\"])"
   ]
  },
  {
   "cell_type": "code",
   "execution_count": 6,
   "metadata": {
    "scrolled": true
   },
   "outputs": [
    {
     "data": {
      "image/png": "[encoded data removed]",
      "text/plain": [
       "<matplotlib.figure.Figure at 0x1a1e8c97f0>"
      ]
     },
     "metadata": {},
     "output_type": "display_data"
    }
   ],
   "source": [
    "WarrantyCost = sns.distplot(df[\"WarrantyCost\"])"
   ]
  },
  {
   "cell_type": "code",
   "execution_count": 7,
   "metadata": {
    "scrolled": true
   },
   "outputs": [
    {
     "data": {
      "image/png": "[encoded data removed]",
      "text/plain": [
       "<matplotlib.figure.Figure at 0x1a1ee33860>"
      ]
     },
     "metadata": {},
     "output_type": "display_data"
    }
   ],
   "source": [
    "PaintingBCost = sns.distplot(df[\"PaintingBCost\"])"
   ]
  },
  {
   "cell_type": "code",
   "execution_count": 8,
   "metadata": {
    "collapsed": true,
    "scrolled": true
   },
   "outputs": [],
   "source": [
    "#df = df.dropna(subset=['MMRAcquisitionAuctionAveragePrice'])\n",
    "#df['MMRAcquisitionAuctionAveragePrice'] = df['MMRAcquisitionAuctionAveragePrice'].astype(int)\n",
    "#MMRAcquisitionAuctionAveragePrice = sns.distplot(df[\"MMRAcquisitionAuctionAveragePrice\"])"
   ]
  },
  {
   "cell_type": "code",
   "execution_count": 9,
   "metadata": {
    "collapsed": true
   },
   "outputs": [],
   "source": [
    "#df = df.dropna(subset=['MMRAcquisitionAuctionCleanPrice'])\n",
    "#df['MMRAcquisitionAuctionCleanPrice'] = df['MMRAcquisitionAuctionCleanPrice'].astype(int)\n",
    "#MMRAcquisitionAuctionCleanPrice = sns.distplot(df[\"MMRAcquisitionAuctionCleanPrice\"])"
   ]
  },
  {
   "cell_type": "code",
   "execution_count": 10,
   "metadata": {
    "collapsed": true
   },
   "outputs": [],
   "source": [
    "#df = df.dropna(subset=['MMRAcquisitionRetailAveragePrice'])\n",
    "#df['MMRAcquisitionRetailAveragePrice'] = df['MMRAcquisitionRetailAveragePrice'].astype(int)\n",
    "#MMRAcquisitionRetailAveragePrice = sns.distplot(df[\"MMRAcquisitionRetailAveragePrice\"])"
   ]
  },
  {
   "cell_type": "code",
   "execution_count": 11,
   "metadata": {
    "collapsed": true
   },
   "outputs": [],
   "source": [
    "#df = df.dropna(subset=['MMRAcquisitonRetailCleanPrice'])\n",
    "#df['MMRAcquisitonRetailCleanPrice'] = df['MMRAcquisitonRetailCleanPrice'].astype(int)\n",
    "#MMRAcquisitonRetailCleanPrice = sns.distplot(df[\"MMRAcquisitonRetailCleanPrice\"])"
   ]
  },
  {
   "cell_type": "code",
   "execution_count": 12,
   "metadata": {
    "collapsed": true
   },
   "outputs": [],
   "source": [
    "#df = df.dropna(subset=['MMRCurrentAuctionAveragePrice'])\n",
    "#df['MMRCurrentAuctionAveragePrice'] = df['MMRCurrentAuctionAveragePrice'].astype(int)\n",
    "#MMRCurrentAuctionAveragePrice = sns.distplot(df[\"MMRCurrentAuctionAveragePrice\"])"
   ]
  },
  {
   "cell_type": "code",
   "execution_count": 13,
   "metadata": {
    "collapsed": true
   },
   "outputs": [],
   "source": [
    "#df = df.dropna(subset=['MMRCurrentAuctionCleanPrice'])\n",
    "#df['MMRCurrentAuctionCleanPrice'] = df['MMRCurrentAuctionCleanPrice'].astype(int)\n",
    "#MMRCurrentAuctionCleanPrice = sns.distplot(df[\"MMRCurrentAuctionCleanPrice\"])"
   ]
  },
  {
   "cell_type": "code",
   "execution_count": 14,
   "metadata": {
    "collapsed": true
   },
   "outputs": [],
   "source": [
    "#df = df.dropna(subset=['MMRCurrentRetailAveragePrice'])\n",
    "#df['MMRCurrentRetailAveragePrice'] = df['MMRCurrentRetailAveragePrice'].astype(int)\n",
    "#MMRCurrentRetailAveragePrice = sns.distplot(df[\"MMRCurrentRetailAveragePrice\"])"
   ]
  },
  {
   "cell_type": "code",
   "execution_count": 15,
   "metadata": {
    "collapsed": true
   },
   "outputs": [],
   "source": [
    "#df = df.dropna(subset=['MMRCurrentRetailCleanPrice'])\n",
    "#df['MMRCurrentRetailCleanPrice'] = df['MMRCurrentRetailCleanPrice'].astype(int)\n",
    "#MMRCurrentRetailCleanPrice = sns.distplot(df[\"MMRCurrentRetailCleanPrice\"])"
   ]
  },
  {
   "cell_type": "markdown",
   "metadata": {},
   "source": [
    "## Question 2. feature engineering"
   ]
  },
  {
   "cell_type": "markdown",
   "metadata": {},
   "source": [
    "### 2a) Drop ID "
   ]
  },
  {
   "cell_type": "code",
   "execution_count": 16,
   "metadata": {},
   "outputs": [
    {
     "name": "stdout",
     "output_type": "stream",
     "text": [
      "<class 'pandas.core.frame.DataFrame'>\n",
      "RangeIndex: 72983 entries, 0 to 72982\n",
      "Data columns (total 33 columns):\n",
      "AUCGUART                             3419 non-null object\n",
      "Artist                               72983 non-null object\n",
      "Auction                              72983 non-null object\n",
      "BYRNO                                72983 non-null int64\n",
      "Bids                                 72983 non-null int64\n",
      "CanvasColor                          72975 non-null object\n",
      "FrameType                            69809 non-null object\n",
      "FrameTypeID                          69814 non-null float64\n",
      "IsBadBuy                             51088 non-null float64\n",
      "IsOnlineSale                         72983 non-null int64\n",
      "MMRAcquisitionAuctionAveragePrice    72965 non-null float64\n",
      "MMRAcquisitionAuctionCleanPrice      72965 non-null float64\n",
      "MMRAcquisitionRetailAveragePrice     72965 non-null float64\n",
      "MMRAcquisitonRetailCleanPrice        72965 non-null float64\n",
      "MMRCurrentAuctionAveragePrice        72668 non-null float64\n",
      "MMRCurrentAuctionCleanPrice          72668 non-null float64\n",
      "MMRCurrentRetailAveragePrice         72668 non-null float64\n",
      "MMRCurrentRetailCleanPrice           72668 non-null float64\n",
      "Market                               72974 non-null object\n",
      "Nationality                          72978 non-null object\n",
      "PRIMEUNIT                            3419 non-null object\n",
      "PaintingAge                          72983 non-null int64\n",
      "PaintingBCost                        72983 non-null float64\n",
      "PaintingName                         72983 non-null object\n",
      "PaintingYear                         72983 non-null int64\n",
      "PurchDate                            72983 non-null object\n",
      "Size                                 72978 non-null object\n",
      "SubType                              72975 non-null object\n",
      "TopThreeNYCName                      72978 non-null object\n",
      "Trim                                 70623 non-null object\n",
      "VNST                                 72983 non-null object\n",
      "VNZIP1                               72983 non-null int64\n",
      "WarrantyCost                         72983 non-null int64\n",
      "dtypes: float64(11), int64(7), object(15)\n",
      "memory usage: 18.4+ MB\n",
      "None\n"
     ]
    }
   ],
   "source": [
    "df.drop(['RT13Id'],axis=1,inplace = True)\n",
    "print(df.info())"
   ]
  },
  {
   "cell_type": "markdown",
   "metadata": {},
   "source": [
    "### 2b) Extract the painting categories T1-T13 from Painting Name and subtype. Create new columns for above extracted categories with 1 or 0 as outcome values.\n"
   ]
  },
  {
   "cell_type": "code",
   "execution_count": 17,
   "metadata": {
    "scrolled": true
   },
   "outputs": [
    {
     "data": {
      "text/plain": [
       "0      21456\n",
       "T6     20314\n",
       "T7     10693\n",
       "T11     4188\n",
       "T5      3457\n",
       "T13     3264\n",
       "T2      2994\n",
       "T10     2345\n",
       "T8      1909\n",
       "T4      1129\n",
       "T1       571\n",
       "T12      344\n",
       "T3       240\n",
       "T9        79\n",
       "Name: PaintingCategories, dtype: int64"
      ]
     },
     "execution_count": 17,
     "metadata": {},
     "output_type": "execute_result"
    }
   ],
   "source": [
    "import re\n",
    "def get_paintingcat(str1,str2):\n",
    "    r=re.compile(r\".*\\s(T+\\d{1,2}).*\")\n",
    "    if str1!= str1 or str2!= str2:\n",
    "        return 0\n",
    "    if r.match(str1):\n",
    "        return r.match(str1).group(1)\n",
    "    elif r.match(str2):\n",
    "        return r.match(str2).group(1)\n",
    "    else:\n",
    "        return 0\n",
    "df['PaintingCategories'] = df.apply(lambda x: get_paintingcat(x.PaintingName,x.SubType), axis=1)\n",
    "df['PaintingCategories'].value_counts()   \n",
    "# df1=df[['PaintingName','PaintingCategories']]\n",
    "# df1"
   ]
  },
  {
   "cell_type": "markdown",
   "metadata": {},
   "source": [
    "### 2c) The dataset describes the number of quality checks. to extract this use Painting Name. Each check is described three ways I4,I-4,I4 and I6,I-6,I 6."
   ]
  },
  {
   "cell_type": "code",
   "execution_count": 18,
   "metadata": {},
   "outputs": [
    {
     "name": "stderr",
     "output_type": "stream",
     "text": [
      "/Users/shirleyzheng/anaconda3/lib/python3.6/site-packages/ipykernel_launcher.py:1: FutureWarning: currently extract(expand=None) means expand=False (return Index/Series/DataFrame) but in a future version of pandas this will be changed to expand=True (return DataFrame)\n",
      "  \"\"\"Entry point for launching an IPython kernel.\n"
     ]
    },
    {
     "data": {
      "text/plain": [
       "0      62957\n",
       "I4      9070\n",
       "I-4      804\n",
       "I6       128\n",
       "I 4       14\n",
       "I-6       10\n",
       "Name: QualityChecks, dtype: int64"
      ]
     },
     "execution_count": 18,
     "metadata": {},
     "output_type": "execute_result"
    }
   ],
   "source": [
    "df['QualityChecks'] = df['PaintingName'].str.extract('(I\\S[4,6]|I[4,6]|I\\s[4,6])').fillna(value=0)\n",
    "df['QualityChecks'].value_counts()"
   ]
  },
  {
   "cell_type": "markdown",
   "metadata": {},
   "source": [
    "### 2d) Painting size is also encoded in painting name and subtype. For example 3.5L . Extract that using grep function."
   ]
  },
  {
   "cell_type": "code",
   "execution_count": 19,
   "metadata": {},
   "outputs": [
    {
     "data": {
      "text/plain": [
       "0       32215\n",
       "3.5L     5047\n",
       "2.4L     3953\n",
       "3.0L     3449\n",
       "2.2L     3192\n",
       "2.0L     2710\n",
       "4.2L     2474\n",
       "3.3L     2455\n",
       "2.7L     2442\n",
       "3.8L     2297\n",
       "4.7L     1907\n",
       "3.4L     1657\n",
       "3.9L     1233\n",
       "3.7L      989\n",
       "4.0L      961\n",
       "4.6L      935\n",
       "5.3L      790\n",
       "2.3L      653\n",
       "5.4L      627\n",
       "5.7L      613\n",
       "1.6L      392\n",
       "4.8L      360\n",
       "4.3L      312\n",
       "2.5L      293\n",
       "3.1L      261\n",
       "1.8L      188\n",
       "5.6L      165\n",
       "2.8L      100\n",
       "5.9L       86\n",
       "1.9L       62\n",
       "1.5L       42\n",
       "6.0L       38\n",
       "1L         31\n",
       "3.6L       16\n",
       "3.2L       15\n",
       "1.7L       10\n",
       "2.9L        6\n",
       "8.1L        2\n",
       "5.2L        2\n",
       "4.5L        2\n",
       "6.2L        1\n",
       "Name: PaintingSize, dtype: int64"
      ]
     },
     "execution_count": 19,
     "metadata": {},
     "output_type": "execute_result"
    }
   ],
   "source": [
    "import re\n",
    "def get_paintingsize(str1,str2):\n",
    "    r=re.compile(r\".*\\s(.*\\dL).*\")\n",
    "    if str1!= str1 or str2!= str2:\n",
    "        return 0\n",
    "    if r.match(str1):\n",
    "        return r.match(str1).group(1)\n",
    "    elif r.match(str2):\n",
    "        return r.match(str2).group(1)\n",
    "    else:\n",
    "        return 0\n",
    "df['PaintingSize'] = df.apply(lambda x: get_paintingsize(x.PaintingName,x.SubType), axis=1)\n",
    "df['PaintingSize'] = df['PaintingSize'].replace('4-FI-2.0L', value=0)\n",
    "df['PaintingSize'] = df['PaintingSize'].replace('/3.3L', value=0)\n",
    "df['PaintingSize'].value_counts()   "
   ]
  },
  {
   "cell_type": "markdown",
   "metadata": {},
   "source": [
    "### 2e) Sub Type contains categories of the painting. Genre, History, Still Life, Real Life, Landscape, Portrait and Fine Art. Extract this information."
   ]
  },
  {
   "cell_type": "code",
   "execution_count": 20,
   "metadata": {},
   "outputs": [
    {
     "name": "stderr",
     "output_type": "stream",
     "text": [
      "/Users/shirleyzheng/anaconda3/lib/python3.6/site-packages/ipykernel_launcher.py:1: FutureWarning: currently extract(expand=None) means expand=False (return Index/Series/DataFrame) but in a future version of pandas this will be changed to expand=True (return DataFrame)\n",
      "  \"\"\"Entry point for launching an IPython kernel.\n"
     ]
    },
    {
     "data": {
      "text/plain": [
       "Genre         42228\n",
       "0             18129\n",
       "History        4162\n",
       "Portrait       3296\n",
       "Landscape      2517\n",
       "Fine Art       1296\n",
       "Still Life     1230\n",
       "Real Life       125\n",
       "Name: PaintingCategories, dtype: int64"
      ]
     },
     "execution_count": 20,
     "metadata": {},
     "output_type": "execute_result"
    }
   ],
   "source": [
    "df['PaintingCategories'] = df['SubType'].str.extract('(Genre|History|Still\\sLife|Real\\sLife|Landscape|Portrait|Fine\\sArt)').fillna(value=0)\n",
    "df['PaintingCategories'].value_counts()"
   ]
  },
  {
   "cell_type": "markdown",
   "metadata": {},
   "source": [
    "### 2f) Calculate ratio for prices and bids as part of feature engineering. (will execute in later sections)"
   ]
  },
  {
   "cell_type": "code",
   "execution_count": 21,
   "metadata": {
    "collapsed": true
   },
   "outputs": [],
   "source": [
    "# df['MMRAcquisitionAuctionAveragePriceRatio'] = df['MMRAcquisitionAuctionAveragePrice']/df['Bids']\n",
    "# df['MMRAcquisitionAuctionCleanPriceRatio'] = df['MMRAcquisitionAuctionCleanPrice']/df['Bids']  \n",
    "# df['MMRAcquisitionRetailAveragePriceRatio'] = df['MMRAcquisitionRetailAveragePrice']/df['Bids']  \n",
    "# df['MMRAcquisitonRetailCleanPriceRatio'] = df['MMRAcquisitonRetailCleanPrice']/df['Bids']  \n",
    "# df['MMRCurrentAuctionAveragePriceRatio'] = df['MMRCurrentAuctionAveragePrice']/df['Bids']  \n",
    "# df['MMRCurrentAuctionCleanPriceRatio'] = df['MMRCurrentAuctionCleanPrice']/df['Bids']  \n",
    "# df['MMRCurrentRetailAveragePriceRatio'] = df['MMRCurrentRetailAveragePrice']/df['Bids']  \n",
    "# df['MMRCurrentRetailCleanPriceRatio'] = df['MMRCurrentRetailCleanPrice']/df['Bids']  "
   ]
  },
  {
   "cell_type": "markdown",
   "metadata": {},
   "source": [
    "### 2g) Compute dummmies for factors (Artist, painting Year, CanvasColor,etc). For example convert categorical variables to dummy indicator variables. (will execute in later sections)"
   ]
  },
  {
   "cell_type": "code",
   "execution_count": 22,
   "metadata": {
    "collapsed": true
   },
   "outputs": [],
   "source": [
    "# df_Artist = pd.get_dummies(df['Artist'])\n",
    "# df_Auction = pd.get_dummies(df['Auction'])\n",
    "# df_PaintingName = pd.get_dummies(df['PaintingName'])\n",
    "# df_Trim = pd.get_dummies(df['Trim'])\n",
    "# df_PaintingName = pd.get_dummies(df['PaintingName'])\n",
    "# df_SubType = pd.get_dummies(df['SubType'])\n",
    "# df_CanvasColor = pd.get_dummies(df['CanvasColor'])\n",
    "# df_Market = pd.get_dummies(df['Market'])\n",
    "# df_CanvasColor = pd.get_dummies(df['CanvasColor'])\n",
    "# df_FrameType = pd.get_dummies(df['FrameType'])\n",
    "# df_Nationality = pd.get_dummies(df['Nationality'])\n",
    "# df_Size = pd.get_dummies(df['Size'])\n",
    "# df_TopThreeNYCName = pd.get_dummies(df['TopThreeNYCName'])\n",
    "# df_PRIMEUNIT = pd.get_dummies(df['PRIMEUNIT'])\n",
    "# df_AUCGUART = pd.get_dummies(df['AUCGUART'])\n",
    "# df_VNST = pd.get_dummies(df['VNST'])\n"
   ]
  },
  {
   "cell_type": "markdown",
   "metadata": {},
   "source": [
    "## Qiestion 3. More feature engineering"
   ]
  },
  {
   "cell_type": "markdown",
   "metadata": {},
   "source": [
    "### Separating day, month, year from purchase date."
   ]
  },
  {
   "cell_type": "code",
   "execution_count": 23,
   "metadata": {},
   "outputs": [
    {
     "data": {
      "text/html": [
       "<div>\n",
       "<style>\n",
       "    .dataframe thead tr:only-child th {\n",
       "        text-align: right;\n",
       "    }\n",
       "\n",
       "    .dataframe thead th {\n",
       "        text-align: left;\n",
       "    }\n",
       "\n",
       "    .dataframe tbody tr th {\n",
       "        vertical-align: top;\n",
       "    }\n",
       "</style>\n",
       "<table border=\"1\" class=\"dataframe\">\n",
       "  <thead>\n",
       "    <tr style=\"text-align: right;\">\n",
       "      <th></th>\n",
       "      <th>AUCGUART</th>\n",
       "      <th>Artist</th>\n",
       "      <th>Auction</th>\n",
       "      <th>BYRNO</th>\n",
       "      <th>Bids</th>\n",
       "      <th>CanvasColor</th>\n",
       "      <th>FrameType</th>\n",
       "      <th>FrameTypeID</th>\n",
       "      <th>IsBadBuy</th>\n",
       "      <th>IsOnlineSale</th>\n",
       "      <th>...</th>\n",
       "      <th>Trim</th>\n",
       "      <th>VNST</th>\n",
       "      <th>VNZIP1</th>\n",
       "      <th>WarrantyCost</th>\n",
       "      <th>PaintingCategories</th>\n",
       "      <th>QualityChecks</th>\n",
       "      <th>PaintingSize</th>\n",
       "      <th>Year</th>\n",
       "      <th>Month</th>\n",
       "      <th>Day</th>\n",
       "    </tr>\n",
       "  </thead>\n",
       "  <tbody>\n",
       "    <tr>\n",
       "      <th>0</th>\n",
       "      <td>NaN</td>\n",
       "      <td>Cai Jin</td>\n",
       "      <td>Christie's</td>\n",
       "      <td>8655</td>\n",
       "      <td>79987</td>\n",
       "      <td>SILVER</td>\n",
       "      <td>Metal</td>\n",
       "      <td>1.0</td>\n",
       "      <td>0.0</td>\n",
       "      <td>0</td>\n",
       "      <td>...</td>\n",
       "      <td>GLS</td>\n",
       "      <td>TX</td>\n",
       "      <td>75236</td>\n",
       "      <td>920</td>\n",
       "      <td>0</td>\n",
       "      <td>0</td>\n",
       "      <td>0</td>\n",
       "      <td>10</td>\n",
       "      <td>4</td>\n",
       "      <td>21</td>\n",
       "    </tr>\n",
       "    <tr>\n",
       "      <th>1</th>\n",
       "      <td>NaN</td>\n",
       "      <td>Grandma Moses</td>\n",
       "      <td>Sotheby's</td>\n",
       "      <td>22808</td>\n",
       "      <td>81660</td>\n",
       "      <td>SILVER</td>\n",
       "      <td>Metal</td>\n",
       "      <td>1.0</td>\n",
       "      <td>0.0</td>\n",
       "      <td>0</td>\n",
       "      <td>...</td>\n",
       "      <td>Bas</td>\n",
       "      <td>LA</td>\n",
       "      <td>71119</td>\n",
       "      <td>853</td>\n",
       "      <td>Landscape</td>\n",
       "      <td>0</td>\n",
       "      <td>3.9L</td>\n",
       "      <td>9</td>\n",
       "      <td>4</td>\n",
       "      <td>1</td>\n",
       "    </tr>\n",
       "    <tr>\n",
       "      <th>2</th>\n",
       "      <td>NaN</td>\n",
       "      <td>Frida Kahlo</td>\n",
       "      <td>Christie's</td>\n",
       "      <td>20928</td>\n",
       "      <td>81978</td>\n",
       "      <td>SILVER</td>\n",
       "      <td>Metal</td>\n",
       "      <td>1.0</td>\n",
       "      <td>0.0</td>\n",
       "      <td>0</td>\n",
       "      <td>...</td>\n",
       "      <td>XE</td>\n",
       "      <td>FL</td>\n",
       "      <td>32824</td>\n",
       "      <td>1373</td>\n",
       "      <td>Genre</td>\n",
       "      <td>0</td>\n",
       "      <td>0</td>\n",
       "      <td>10</td>\n",
       "      <td>3</td>\n",
       "      <td>31</td>\n",
       "    </tr>\n",
       "    <tr>\n",
       "      <th>3</th>\n",
       "      <td>NaN</td>\n",
       "      <td>Leonardo Da Vinci</td>\n",
       "      <td>Sotheby's</td>\n",
       "      <td>21053</td>\n",
       "      <td>77524</td>\n",
       "      <td>GOLD</td>\n",
       "      <td>NaN</td>\n",
       "      <td>NaN</td>\n",
       "      <td>1.0</td>\n",
       "      <td>0</td>\n",
       "      <td>...</td>\n",
       "      <td>Bas</td>\n",
       "      <td>AZ</td>\n",
       "      <td>85226</td>\n",
       "      <td>2508</td>\n",
       "      <td>Genre</td>\n",
       "      <td>0</td>\n",
       "      <td>0</td>\n",
       "      <td>10</td>\n",
       "      <td>6</td>\n",
       "      <td>16</td>\n",
       "    </tr>\n",
       "    <tr>\n",
       "      <th>4</th>\n",
       "      <td>NaN</td>\n",
       "      <td>Leonardo Da Vinci</td>\n",
       "      <td>Sotheby's</td>\n",
       "      <td>22916</td>\n",
       "      <td>58506</td>\n",
       "      <td>RED</td>\n",
       "      <td>Wood</td>\n",
       "      <td>2.0</td>\n",
       "      <td>0.0</td>\n",
       "      <td>0</td>\n",
       "      <td>...</td>\n",
       "      <td>LS</td>\n",
       "      <td>CO</td>\n",
       "      <td>80817</td>\n",
       "      <td>671</td>\n",
       "      <td>Genre</td>\n",
       "      <td>0</td>\n",
       "      <td>0</td>\n",
       "      <td>10</td>\n",
       "      <td>11</td>\n",
       "      <td>4</td>\n",
       "    </tr>\n",
       "  </tbody>\n",
       "</table>\n",
       "<p>5 rows × 39 columns</p>\n",
       "</div>"
      ],
      "text/plain": [
       "  AUCGUART             Artist     Auction  BYRNO   Bids CanvasColor FrameType  \\\n",
       "0      NaN            Cai Jin  Christie's   8655  79987      SILVER     Metal   \n",
       "1      NaN      Grandma Moses   Sotheby's  22808  81660      SILVER     Metal   \n",
       "2      NaN        Frida Kahlo  Christie's  20928  81978      SILVER     Metal   \n",
       "3      NaN  Leonardo Da Vinci   Sotheby's  21053  77524        GOLD       NaN   \n",
       "4      NaN  Leonardo Da Vinci   Sotheby's  22916  58506         RED      Wood   \n",
       "\n",
       "   FrameTypeID  IsBadBuy  IsOnlineSale ...  Trim  VNST  VNZIP1  WarrantyCost  \\\n",
       "0          1.0       0.0             0 ...   GLS    TX   75236           920   \n",
       "1          1.0       0.0             0 ...   Bas    LA   71119           853   \n",
       "2          1.0       0.0             0 ...    XE    FL   32824          1373   \n",
       "3          NaN       1.0             0 ...   Bas    AZ   85226          2508   \n",
       "4          2.0       0.0             0 ...    LS    CO   80817           671   \n",
       "\n",
       "   PaintingCategories  QualityChecks  PaintingSize  Year Month Day  \n",
       "0                   0              0             0    10     4  21  \n",
       "1           Landscape              0          3.9L     9     4   1  \n",
       "2               Genre              0             0    10     3  31  \n",
       "3               Genre              0             0    10     6  16  \n",
       "4               Genre              0             0    10    11   4  \n",
       "\n",
       "[5 rows x 39 columns]"
      ]
     },
     "execution_count": 23,
     "metadata": {},
     "output_type": "execute_result"
    }
   ],
   "source": [
    "df['Year']=[d.split('/')[2] for d in df.PurchDate]\n",
    "df['Year']=df['Year'].astype(str).astype(int)\n",
    "df['Month']=[d.split('/')[0] for d in df.PurchDate]\n",
    "df['Month']=df['Month'].astype(str).astype(int)\n",
    "df['Day']=[d.split('/')[1] for d in df.PurchDate]\n",
    "df['Day']=df['Day'].astype(str).astype(int)\n",
    "df.head(5)"
   ]
  },
  {
   "cell_type": "markdown",
   "metadata": {},
   "source": [
    "### Fit model "
   ]
  },
  {
   "cell_type": "code",
   "execution_count": 24,
   "metadata": {},
   "outputs": [
    {
     "name": "stdout",
     "output_type": "stream",
     "text": [
      "<class 'pandas.core.frame.DataFrame'>\n",
      "RangeIndex: 72983 entries, 0 to 72982\n",
      "Data columns (total 39 columns):\n",
      "AUCGUART                             3419 non-null object\n",
      "Artist                               72983 non-null object\n",
      "Auction                              72983 non-null object\n",
      "BYRNO                                72983 non-null int64\n",
      "Bids                                 72983 non-null int64\n",
      "CanvasColor                          72975 non-null object\n",
      "FrameType                            69809 non-null object\n",
      "FrameTypeID                          69814 non-null float64\n",
      "IsBadBuy                             51088 non-null float64\n",
      "IsOnlineSale                         72983 non-null int64\n",
      "MMRAcquisitionAuctionAveragePrice    72965 non-null float64\n",
      "MMRAcquisitionAuctionCleanPrice      72965 non-null float64\n",
      "MMRAcquisitionRetailAveragePrice     72965 non-null float64\n",
      "MMRAcquisitonRetailCleanPrice        72965 non-null float64\n",
      "MMRCurrentAuctionAveragePrice        72668 non-null float64\n",
      "MMRCurrentAuctionCleanPrice          72668 non-null float64\n",
      "MMRCurrentRetailAveragePrice         72668 non-null float64\n",
      "MMRCurrentRetailCleanPrice           72668 non-null float64\n",
      "Market                               72974 non-null object\n",
      "Nationality                          72978 non-null object\n",
      "PRIMEUNIT                            3419 non-null object\n",
      "PaintingAge                          72983 non-null int64\n",
      "PaintingBCost                        72983 non-null float64\n",
      "PaintingName                         72983 non-null object\n",
      "PaintingYear                         72983 non-null int64\n",
      "PurchDate                            72983 non-null object\n",
      "Size                                 72978 non-null object\n",
      "SubType                              72975 non-null object\n",
      "TopThreeNYCName                      72978 non-null object\n",
      "Trim                                 70623 non-null object\n",
      "VNST                                 72983 non-null object\n",
      "VNZIP1                               72983 non-null int64\n",
      "WarrantyCost                         72983 non-null int64\n",
      "PaintingCategories                   72983 non-null object\n",
      "QualityChecks                        72983 non-null object\n",
      "PaintingSize                         72983 non-null object\n",
      "Year                                 72983 non-null int64\n",
      "Month                                72983 non-null int64\n",
      "Day                                  72983 non-null int64\n",
      "dtypes: float64(11), int64(10), object(18)\n",
      "memory usage: 21.7+ MB\n",
      "None\n"
     ]
    }
   ],
   "source": [
    "print(df.info())"
   ]
  },
  {
   "cell_type": "markdown",
   "metadata": {},
   "source": [
    "#### Check each feature's effect on IsBadBuy"
   ]
  },
  {
   "cell_type": "markdown",
   "metadata": {},
   "source": [
    "#### Check NA"
   ]
  },
  {
   "cell_type": "code",
   "execution_count": 25,
   "metadata": {},
   "outputs": [
    {
     "data": {
      "text/plain": [
       "AUCGUART                              True\n",
       "Artist                               False\n",
       "Auction                              False\n",
       "BYRNO                                False\n",
       "Bids                                 False\n",
       "CanvasColor                           True\n",
       "FrameType                             True\n",
       "FrameTypeID                           True\n",
       "IsBadBuy                              True\n",
       "IsOnlineSale                         False\n",
       "MMRAcquisitionAuctionAveragePrice     True\n",
       "MMRAcquisitionAuctionCleanPrice       True\n",
       "MMRAcquisitionRetailAveragePrice      True\n",
       "MMRAcquisitonRetailCleanPrice         True\n",
       "MMRCurrentAuctionAveragePrice         True\n",
       "MMRCurrentAuctionCleanPrice           True\n",
       "MMRCurrentRetailAveragePrice          True\n",
       "MMRCurrentRetailCleanPrice            True\n",
       "Market                                True\n",
       "Nationality                           True\n",
       "PRIMEUNIT                             True\n",
       "PaintingAge                          False\n",
       "PaintingBCost                        False\n",
       "PaintingName                         False\n",
       "PaintingYear                         False\n",
       "PurchDate                            False\n",
       "Size                                  True\n",
       "SubType                               True\n",
       "TopThreeNYCName                       True\n",
       "Trim                                  True\n",
       "VNST                                 False\n",
       "VNZIP1                               False\n",
       "WarrantyCost                         False\n",
       "PaintingCategories                   False\n",
       "QualityChecks                        False\n",
       "PaintingSize                         False\n",
       "Year                                 False\n",
       "Month                                False\n",
       "Day                                  False\n",
       "dtype: bool"
      ]
     },
     "execution_count": 25,
     "metadata": {},
     "output_type": "execute_result"
    }
   ],
   "source": [
    "df.isnull().any()"
   ]
  },
  {
   "cell_type": "markdown",
   "metadata": {},
   "source": [
    "#### Auction"
   ]
  },
  {
   "cell_type": "code",
   "execution_count": 26,
   "metadata": {},
   "outputs": [
    {
     "name": "stdout",
     "output_type": "stream",
     "text": [
      "      Auction  IsBadBuy\n",
      "0  Christie's  0.114286\n",
      "1       OTHER  0.119407\n",
      "2   Sotheby's  0.152584\n",
      "Before [\"Christie's\" \"Sotheby's\" 'OTHER']\n",
      "After [1 2 3]\n"
     ]
    }
   ],
   "source": [
    "print (df[['Auction', 'IsBadBuy']].groupby(['Auction'], as_index=False).mean())\n",
    "print(\"Before\", df['Auction'].unique())\n",
    "df['Auction'].unique()\n",
    "title_auction = {\"Christie's\": 1,\"Sotheby's\": 2, \"OTHER\": 3}\n",
    "df['Auction'] = df['Auction'].map(title_auction)\n",
    "print(\"After\", df['Auction'].unique())"
   ]
  },
  {
   "cell_type": "markdown",
   "metadata": {},
   "source": [
    "####  Painting Year - to drop"
   ]
  },
  {
   "cell_type": "code",
   "execution_count": 27,
   "metadata": {},
   "outputs": [
    {
     "name": "stdout",
     "output_type": "stream",
     "text": [
      "   PaintingYear  IsBadBuy\n",
      "0          2001  0.284200\n",
      "1          2002  0.243277\n",
      "2          2003  0.194799\n",
      "3          2004  0.152439\n",
      "4          2005  0.131479\n",
      "5          2006  0.093576\n",
      "6          2007  0.077721\n",
      "7          2008  0.058056\n",
      "8          2009  0.041667\n",
      "9          2010  0.000000\n"
     ]
    }
   ],
   "source": [
    "print (df[['PaintingYear', 'IsBadBuy']].groupby(['PaintingYear'], as_index=False).mean())\n",
    "#Drop painting yeat since it's correlated with painting age.\n",
    "df.drop(['PaintingYear'], axis=1, inplace = True)"
   ]
  },
  {
   "cell_type": "markdown",
   "metadata": {},
   "source": [
    "#### Painting Age"
   ]
  },
  {
   "cell_type": "code",
   "execution_count": 28,
   "metadata": {},
   "outputs": [
    {
     "name": "stdout",
     "output_type": "stream",
     "text": [
      "   PaintingAge  IsBadBuy\n",
      "0            0  0.000000\n",
      "1            1  0.040528\n",
      "2            2  0.065925\n",
      "3            3  0.081367\n",
      "4            4  0.111458\n",
      "5            5  0.142309\n",
      "6            6  0.180114\n",
      "7            7  0.215549\n",
      "8            8  0.270013\n",
      "9            9  0.320000\n"
     ]
    }
   ],
   "source": [
    "print (df[['PaintingAge', 'IsBadBuy']].groupby(['PaintingAge'], as_index=False).mean())"
   ]
  },
  {
   "cell_type": "markdown",
   "metadata": {},
   "source": [
    "#### Artist"
   ]
  },
  {
   "cell_type": "code",
   "execution_count": 29,
   "metadata": {},
   "outputs": [
    {
     "name": "stdout",
     "output_type": "stream",
     "text": [
      "                    Artist  IsBadBuy\n",
      "0              Andy Warhol  0.129759\n",
      "1                Boticelli  0.088889\n",
      "2                  Bronzio  0.209040\n",
      "3                    Buick  0.170213\n",
      "4                  Cai Jin  0.127072\n",
      "5               Caravaggio  0.350000\n",
      "6                    Cheng  0.146497\n",
      "7             Claude Monet  0.192308\n",
      "8                El Grecko  0.296296\n",
      "9              Frida Kahlo  0.142487\n",
      "10                  Giotto  0.363636\n",
      "11                Giovanni  0.149819\n",
      "12           Grandma Moses  0.154669\n",
      "13         Jackson Pollock  0.168453\n",
      "14            Jan Van Eyck  0.115942\n",
      "15   Jean-Michel BasquiatC  0.125000\n",
      "16       Leonardo Da Vinci  0.097452\n",
      "17                 Lincoln  0.287879\n",
      "18             M F Hussain  0.000000\n",
      "19            Michael Judd  0.085396\n",
      "20  Michael Judd Boticelli       NaN\n",
      "21            Michelangelo  0.156401\n",
      "22                    Mini  0.368421\n",
      "23           Pablo Picasso  0.102697\n",
      "24                    Paul  0.000000\n",
      "25               Paul Klee  0.128713\n",
      "26                 Qu Ding  0.119223\n",
      "27                 Raphael  0.118340\n",
      "28                   Sohel  0.142857\n",
      "29             Tintorretto  0.500000\n",
      "30                  Titian  0.123269\n",
      "31                     Vin  0.065934\n",
      "32        Vincent Van Gogh  0.163768\n",
      "Before ['Cai Jin' 'Grandma Moses' 'Frida Kahlo' 'Leonardo Da Vinci' 'Michelangelo'\n",
      " 'Qu Ding' 'Pablo Picasso' 'Buick' 'Andy Warhol' 'Raphael'\n",
      " 'Jean-Michel BasquiatC' 'Cheng' 'Boticelli' 'Michael Judd'\n",
      " 'Vincent Van Gogh' 'Paul Klee' 'Giovanni' 'Jan Van Eyck' 'Titian'\n",
      " 'Jackson Pollock' 'Bronzio' 'Vin' 'M F Hussain' 'Lincoln' 'Claude Monet'\n",
      " 'Giotto' 'Mini' 'El Grecko' 'Sohel' 'Caravaggio' 'Paul' 'Tintorretto'\n",
      " 'Michael Judd Boticelli']\n",
      "After [ 1  2  3  4  5  6  7  8  9 10 11 12 13 14 15 16 17 18 19 20 21 22 23 24 25\n",
      " 26 27 28 29 30 31 32]\n"
     ]
    }
   ],
   "source": [
    "print (df[['Artist', 'IsBadBuy']].groupby(['Artist'], as_index=False).mean())\n",
    "print('Before', df['Artist'].unique())\n",
    "#map artist name\n",
    "artist_name = {\"Cai Jin\": 1, \"Grandma Moses\": 2, \"Frida Kahlo\": 3, \"Leonardo Da Vinci\": 4,\n",
    "                 \"Michelangelo\": 5, \"Qu Ding\": 6, \"Pablo Picasso\": 7, \"Buick\": 8, \"Andy Warhol\": 9,\n",
    "       \"Raphael\": 10, \"Jean-Michel BasquiatC\": 11, \"Cheng\": 12, \"Boticelli\": 13,\n",
    "       \"Michael Judd\": 14, \"Vincent Van Gogh\": 15, \"Paul Klee\": 16, \"Giovanni\": 17,\n",
    "       \"Jan Van Eyck\": 18, \"Titian\": 18, \"Jackson Pollock\": 19, \"Bronzio\": 20, \"Vin\": 21,\n",
    "       \"M F Hussain\": 22, \"Lincoln\": 23, \"Claude Monet\": 24, \"Giotto\": 25, \"Mini\": 26,\n",
    "       \"El Grecko\": 27, \"Sohel\": 28, \"Caravaggio\": 29, \"Paul\": 30, \"Tintorretto\": 31,\"Michael Judd Boticelli\": 32}\n",
    "df['Artist'] = df['Artist'].map(artist_name)\n",
    "print('After', df['Artist'].unique())"
   ]
  },
  {
   "cell_type": "markdown",
   "metadata": {},
   "source": [
    "#### Painting Name - to drop"
   ]
  },
  {
   "cell_type": "code",
   "execution_count": 30,
   "metadata": {},
   "outputs": [
    {
     "name": "stdout",
     "output_type": "stream",
     "text": [
      "                 PaintingName  IsBadBuy\n",
      "0       1500 RAM Real Life T1  0.121951\n",
      "1       1500 RAM Real Life T2  0.098168\n",
      "2     1500 SIERRA Real Life 2  0.092784\n",
      "3     1500 SIERRA Real Life 4  0.000000\n",
      "4        1500 SILVERADO PICKU  0.096244\n",
      "5     1500HD SIERRA Real Life       NaN\n",
      "6        1500HD SILVERADO PIC  0.000000\n",
      "7       2500 RAM Real Life T1  0.000000\n",
      "8       2500 RAM Real Life T2  0.200000\n",
      "9        2500 SILVERADO PICKU  0.000000\n",
      "10    2500HD SIERRA Real Life  0.000000\n",
      "11       2500HD SILVERADO PIC  0.428571\n",
      "12                     3.2 CL  0.000000\n",
      "13       3.2 CL 3.2L V 6 NA S  0.500000\n",
      "14                     3.2 TL  0.166667\n",
      "15       3.2 TL 3.2L T6 FI DO  1.000000\n",
      "16        3.2 TL 3.2L T6 T13I  0.400000\n",
      "17                        300  0.094972\n",
      "18            300 2.7L T6 T10  0.059322\n",
      "19        300 3.5L / 6.0L V12  0.000000\n",
      "20            300 3.5L T6 T10  0.000000\n",
      "21       300 3.5L T6 T10 / SM  0.117647\n",
      "22                       300C  0.333333\n",
      "23          300C 5.7L T5 T11I       NaN\n",
      "24      300C 5.7L T5 T11I / S  1.000000\n",
      "25                       300M  0.222222\n",
      "26           300M 3.5L T6 T10  0.200000\n",
      "27        300M 3.5L T6 T10 HO  0.500000\n",
      "28                       350Z  1.000000\n",
      "29           350Z 3.5L T6 T10       NaN\n",
      "...                       ...       ...\n",
      "1033          XB 1.5L I4 T13I  0.142857\n",
      "1034                       XD  0.000000\n",
      "1035                   XG 300  0.500000\n",
      "1036       XG 300 Unspecified  0.500000\n",
      "1037                   XG 350  0.166667\n",
      "1038    XG 350 3.5L T6 T13I /  0.000000\n",
      "1039    XG 350 3.5L T6 T13I D  0.000000\n",
      "1040                  XL-7 T1  0.166667\n",
      "1041      XL-7 T1 2.7L T6 T10       NaN\n",
      "1042      XL-7 T1 2.7L T6 T12  0.000000\n",
      "1043                  XL-7 T2  0.090909\n",
      "1044       XL-7 T2 2.7L T6 DI  1.000000\n",
      "1045      XL-7 T2 2.7L T6 T12  0.250000\n",
      "1046     XL-7 T2 3.6L T6 T13I  0.000000\n",
      "1047                    YARIS  0.000000\n",
      "1048     YARIS 1.5L I4 T13I /  0.000000\n",
      "1049              YUKON T1 T5  0.000000\n",
      "1050      YUKON T1 T5 4.8L T5  0.000000\n",
      "1051      YUKON T1 T5 5.3L T5  0.142857\n",
      "1052              YUKON T2 T5  0.142857\n",
      "1053      YUKON T2 T5 4.8L T5  0.000000\n",
      "1054      YUKON T2 T5 5.3L T5  0.125000\n",
      "1055              YUKON T3 T5  1.000000\n",
      "1056         YUKON XL 1500 T1  0.250000\n",
      "1057      YUKON XL 1500 T1 5.  0.666667\n",
      "1058         YUKON XL 1500 T2  0.200000\n",
      "1059      YUKON XL 1500 T2 5.  0.090909\n",
      "1060      YUKON XL 1500 T3 6.  0.000000\n",
      "1061                   ZEPHYR  0.200000\n",
      "1062      ZEPHYR 3.0L T6 T11I  0.333333\n",
      "\n",
      "[1063 rows x 2 columns]\n"
     ]
    }
   ],
   "source": [
    "print (df[['PaintingName', 'IsBadBuy']].groupby(['PaintingName'], as_index=False).mean())\n",
    "#Drop painting name since it's messy.\n",
    "drop_column = ['PaintingName']\n",
    "df.drop(drop_column, axis=1, inplace = True)"
   ]
  },
  {
   "cell_type": "markdown",
   "metadata": {},
   "source": [
    "#### Trim - to drop"
   ]
  },
  {
   "cell_type": "code",
   "execution_count": 31,
   "metadata": {},
   "outputs": [
    {
     "name": "stdout",
     "output_type": "stream",
     "text": [
      "    Trim  IsBadBuy\n",
      "0      1  0.075000\n",
      "1    150  0.146226\n",
      "2      2  0.156080\n",
      "3    250  0.000000\n",
      "4      3  0.122302\n",
      "5    3 R  0.000000\n",
      "6    Adv  0.098039\n",
      "7    Bas  0.122866\n",
      "8      C  0.500000\n",
      "9     CE  0.091463\n",
      "10    CX  0.125786\n",
      "11   CXL  0.118421\n",
      "12   CXS  0.000000\n",
      "13   Car  0.333333\n",
      "14   Cin  0.333333\n",
      "15   Cla  0.129129\n",
      "16   Cus  0.194570\n",
      "17    DE  0.000000\n",
      "18    DS  0.000000\n",
      "19    DX  0.277778\n",
      "20   Den  0.500000\n",
      "21   Dur  0.500000\n",
      "22    ES  0.131213\n",
      "23    EX  0.122530\n",
      "24   EX-  0.000000\n",
      "25   Edd  0.164557\n",
      "26   Edg  0.151515\n",
      "27   Ent  0.000000\n",
      "28   Exe  0.333333\n",
      "29   FX4  0.333333\n",
      "..   ...       ...\n",
      "104  Sta  0.117647\n",
      "105   T5  0.000000\n",
      "106  Tou  0.134961\n",
      "107  Ult  0.000000\n",
      "108   VP  0.210526\n",
      "109  Val  0.117647\n",
      "110  W/T  0.102564\n",
      "111    X  0.111111\n",
      "112   XE  0.078571\n",
      "113   XL  0.138264\n",
      "114  XLS  0.229730\n",
      "115  XLT  0.190733\n",
      "116   XR  0.000000\n",
      "117  XRS  0.000000\n",
      "118   XS  0.500000\n",
      "119  Xsp       NaN\n",
      "120  Z24  1.000000\n",
      "121  Z71  0.114286\n",
      "122  ZR2  0.333333\n",
      "123  ZTS  0.255319\n",
      "124  ZTW  0.000000\n",
      "125  ZX2  0.333333\n",
      "126  ZX3  0.166667\n",
      "127  ZX4  0.164045\n",
      "128  ZX5  0.148649\n",
      "129  ZXW  0.150000\n",
      "130   eC  0.000000\n",
      "131   eL  0.000000\n",
      "132    i  0.117647\n",
      "133    s  0.195946\n",
      "\n",
      "[134 rows x 2 columns]\n",
      "['GLS' 'Bas' 'XE' 'LS' 'SXT' 'SE' 'LT' 0 'XLT' 'Cus' 'LX' '150' 'ST' 'SEL'\n",
      " 'Lim' 'EX' '2' 'SLE' 'Lar' 'Cla' 'Kin' 'Tou' 'SLT' 'ZX3' 'ZXW' 'S' 'LTZ'\n",
      " 'i' 'Val' 'Spo' 'GL' 'Adv' 'XL' 'ES' 'Z71' 'GTC' 'CXL' 'SL' 'LE' 'ZX4'\n",
      " 'GT' '3' 'Edd' 'SES' 's' 'XLS' 'CX' 'Nor' 'GS' 'OZ' 'W/T' 'ZX5' 'SS' 'Edg'\n",
      " 'L30' 'ZTS' 'DX' 'SR5' 'Max' 'R/T' 'FX4' 'Lux' 'eL' 'Sta' 'CE' 'Si' 'GTP'\n",
      " 'L20' '1' '250' 'SL2' 'SX' 'STX' 'SC1' 'ST6' 'LXi' 'VP' 'DS' 'XR' 'Pro'\n",
      " 'XS' 'Ral' 'SC2' 'L10' 'CXS' 'JLS' 'Pre' 'DE' 'GX' 'GLE' 'LW3' 'GXE' 'SVT'\n",
      " 'SL1' 'Her' 'Hig' 'GTS' 'Ren' 'Spe' 'Den' 'SE-' '3 R' 'RS' 'ZX2' 'Spy'\n",
      " 'Plu' 'ZR2' 'EX-' 'LW2' 'XRS' 'C' 'RT' 'Cin' 'Exe' 'Ove' 'Hyb' 'ZTW' 'X'\n",
      " 'Z24' 'Har' 'L' 'Maz' 'L 3' 'GXP' 'LL' 'eC' 'Car' 'Sig' 'T5' 'Dur' 'Ult'\n",
      " 'Ent' 'Xsp' 'Out' 'JLX']\n"
     ]
    }
   ],
   "source": [
    "print (df[['Trim', 'IsBadBuy']].groupby(['Trim'], as_index=False).mean())\n",
    "df['Trim'].fillna(0,inplace = True)\n",
    "print(df[\"Trim\"].unique())\n",
    "#Drop trim name since there are too little value.\n",
    "#df.drop(['Trim'], axis=1, inplace = True)"
   ]
  },
  {
   "cell_type": "markdown",
   "metadata": {},
   "source": [
    "#### SubType - to drop"
   ]
  },
  {
   "cell_type": "code",
   "execution_count": 32,
   "metadata": {},
   "outputs": [
    {
     "name": "stdout",
     "output_type": "stream",
     "text": [
      "                                      SubType  IsBadBuy\n",
      "0                       2D Fine Art 2.3L EDGE  0.000000\n",
      "1                         2D Fine Art 2.3L XL  0.000000\n",
      "2                            2D Fine Art 3.0L  0.000000\n",
      "3                 2D Fine Art 3.0L DUAL SPORT  0.000000\n",
      "4             2D Fine Art 3.0L DUAL SPORT FFV  0.000000\n",
      "5                       2D Fine Art 3.0L EDGE  0.250000\n",
      "6                         2D Fine Art 3.0L SE  0.000000\n",
      "7                         2D Fine Art 3.0L XL  0.000000\n",
      "8                        2D Fine Art 3.0L XLT  0.666667\n",
      "9                       2D Fine Art 4.0L EDGE  0.000000\n",
      "10                        2D Fine Art 4.0L XL       NaN\n",
      "11                                   2D Genre  0.000000\n",
      "12                                2D Genre GX  0.000000\n",
      "13                         2D HARTOP other GT  0.000000\n",
      "14                               2D HATCHBACK  0.212766\n",
      "15                            2D HATCHBACK GS  0.000000\n",
      "16                            2D HATCHBACK GT       NaN\n",
      "17                             2D HATCHBACK S       NaN\n",
      "18                           2D HATCHBACK ZX3  0.166667\n",
      "19                        2D HATCKBACK SI 5SP  0.000000\n",
      "20                             2D LIFTBACK GT  0.250000\n",
      "21                               2D Landscape  0.175066\n",
      "22                           2D Landscape 5SP  0.500000\n",
      "23                    2D Landscape Commercial  0.000000\n",
      "24                        2D Landscape DX 5SP  0.000000\n",
      "25                 2D Landscape DX Commercial  0.500000\n",
      "26   2D Landscape DX VALUE PACKAGE Commercial  0.000000\n",
      "27                        2D Landscape EX 5SP  0.166667\n",
      "28                        2D Landscape EX 6SP  0.000000\n",
      "29                 2D Landscape EX Commercial  0.137255\n",
      "..                                        ...       ...\n",
      "826                       SPORT Other 7 Other  0.000000\n",
      "827                       Still Life CAB 3.7L  0.120690\n",
      "828                   Still Life CAB 3.7L SLT  0.166667\n",
      "829                 Still Life CAB 3.7L SPORT  0.000000\n",
      "830                    Still Life CAB 3.7L ST  0.000000\n",
      "831                   Still Life CAB 3.7L SXT  0.000000\n",
      "832                   Still Life CAB 3.9L SLT  0.375000\n",
      "833                 Still Life CAB 3.9L SPORT  1.000000\n",
      "834                       Still Life CAB 4.7L  0.061224\n",
      "835              Still Life CAB 4.7L BIG HORN  0.285714\n",
      "836                   Still Life CAB 4.7L FFV  0.000000\n",
      "837          Still Life CAB 4.7L FFV BIG HORN  0.000000\n",
      "838          Still Life CAB 4.7L FFV LONESTAR       NaN\n",
      "839               Still Life CAB 4.7L FFV SLT  0.100000\n",
      "840               Still Life CAB 4.7L LARAMIE  0.000000\n",
      "841                   Still Life CAB 4.7L SLT  0.113553\n",
      "842               Still Life CAB 4.7L SLT FFV  0.000000\n",
      "843                 Still Life CAB 4.7L SPORT  0.400000\n",
      "844                    Still Life CAB 4.7L ST  0.000000\n",
      "845                       Still Life CAB 5.7L  0.075949\n",
      "846              Still Life CAB 5.7L BIG HORN  0.066667\n",
      "847               Still Life CAB 5.7L LARAMIE  0.000000\n",
      "848                   Still Life CAB 5.7L SLT  0.101010\n",
      "849                       Still Life CAB 5.9L  0.333333\n",
      "850                   Still Life CAB 5.9L SLT  0.294118\n",
      "851                 Still Life CAB 5.9L SPORT  0.000000\n",
      "852                    Vincent Van Gogh3 4D I  0.000000\n",
      "853              Vincent Van Gogh3 4D I SPORT  0.062500\n",
      "854      Vincent Van Gogh3 4D I TOURING VALUE       NaN\n",
      "855           Vincent Van Gogh5 GRAND TOURING  0.166667\n",
      "\n",
      "[856 rows x 2 columns]\n"
     ]
    }
   ],
   "source": [
    "print (df[['SubType', 'IsBadBuy']].groupby(['SubType'], as_index=False).mean())\n",
    "#Drop SubType since there are too little value.\n",
    "df.drop(['SubType'], axis=1, inplace = True)"
   ]
  },
  {
   "cell_type": "markdown",
   "metadata": {},
   "source": [
    "#### CanvasColor"
   ]
  },
  {
   "cell_type": "code",
   "execution_count": 33,
   "metadata": {},
   "outputs": [
    {
     "name": "stdout",
     "output_type": "stream",
     "text": [
      "   CanvasColor  IsBadBuy\n",
      "0        BEIGE  0.133858\n",
      "1        BLACK  0.117537\n",
      "2         BLUE  0.115588\n",
      "3        BROWN  0.116505\n",
      "4         GOLD  0.140976\n",
      "5        GREEN  0.127460\n",
      "6         GREY  0.114907\n",
      "7       MAROON  0.134642\n",
      "8    NOT AVAIL  0.230769\n",
      "9       ORANGE  0.080420\n",
      "10       OTHER  0.134969\n",
      "11      PURPLE  0.129151\n",
      "12         RED  0.129500\n",
      "13      SILVER  0.123095\n",
      "14       WHITE  0.123463\n",
      "15      YELLOW  0.112500\n",
      "['SILVER' 'GOLD' 'RED' 'GREY' 'GREEN' 'BLACK' 'BLUE' 'WHITE' 'PURPLE'\n",
      " 'MAROON' 'OTHER' 'ORANGE' 'BEIGE' 'BROWN' 'NOT AVAIL' 'YELLOW']\n",
      "Before (72983, 36)\n",
      "Before ['SILVER' 'GOLD' 'RED' 'GREY' 'GREEN' 'BLACK' 'BLUE' 'WHITE' 'PURPLE'\n",
      " 'MAROON' 'OTHER' 'ORANGE' 'BEIGE' 'BROWN' 'NOT AVAIL' 'YELLOW']\n",
      "After [ 1  2  3  4  5  6  7  8  9 10 11 12 13 14 15 16]\n",
      "After (72983, 36)\n"
     ]
    }
   ],
   "source": [
    "print (df[['CanvasColor', 'IsBadBuy']].groupby(['CanvasColor'], as_index=False).mean())\n",
    "#fill NA\n",
    "df['CanvasColor'].fillna(\"NOT AVAIL\",inplace = True)\n",
    "print(df[\"CanvasColor\"].unique())\n",
    "\n",
    "#Mapping\n",
    "print(\"Before\", df.shape)\n",
    "print(\"Before\", df[\"CanvasColor\"].unique())\n",
    "title_canvascolor = {\"SILVER\":1, \"GOLD\":2, \"RED\":3, \"GREY\":4, \"GREEN\":5, \"BLACK\":6, \"BLUE\":7, \"WHITE\":8,\n",
    "       \"PURPLE\":9, \"MAROON\":10, \"OTHER\":11, \"ORANGE\":12, \"BEIGE\":13, \"BROWN\":14,\n",
    "       \"NOT AVAIL\":15, \"YELLOW\":16}\n",
    "df[\"CanvasColor\"] = df[\"CanvasColor\"].map(title_canvascolor)\n",
    "print(\"After\", df[\"CanvasColor\"].unique())\n",
    "print(\"After\", df.shape)"
   ]
  },
  {
   "cell_type": "markdown",
   "metadata": {},
   "source": [
    "#### Market"
   ]
  },
  {
   "cell_type": "code",
   "execution_count": 34,
   "metadata": {},
   "outputs": [
    {
     "name": "stdout",
     "output_type": "stream",
     "text": [
      "           Market  IsBadBuy\n",
      "0      Commercial  0.123425\n",
      "1  Non Commercial  0.114618\n",
      "['Commercial' 'Non Commercial']\n"
     ]
    }
   ],
   "source": [
    "print (df[['Market', 'IsBadBuy']].groupby(['Market'], as_index=False).mean())\n",
    "#Fill NA\n",
    "df['Market'].fillna(df['Market'].mode()[0], inplace = True)\n",
    "print(df[\"Market\"].unique())\n",
    "\n",
    "#mapping\n"
   ]
  },
  {
   "cell_type": "code",
   "execution_count": 35,
   "metadata": {},
   "outputs": [
    {
     "name": "stdout",
     "output_type": "stream",
     "text": [
      "After [1 2]\n"
     ]
    }
   ],
   "source": [
    "title_canvascolor = {\"Commercial\":1, \"Non Commercial\":2}\n",
    "df[\"Market\"] = df[\"Market\"].map(title_canvascolor)\n",
    "print(\"After\", df[\"Market\"].unique())\n"
   ]
  },
  {
   "cell_type": "markdown",
   "metadata": {},
   "source": [
    "#### FrameTypeID & FrameType - to drop"
   ]
  },
  {
   "cell_type": "code",
   "execution_count": 36,
   "metadata": {},
   "outputs": [
    {
     "name": "stdout",
     "output_type": "stream",
     "text": [
      "   FrameTypeID  IsBadBuy\n",
      "0          0.0  0.000000\n",
      "1          1.0  0.108508\n",
      "2          2.0  0.081521\n",
      "3          3.0  0.118199\n",
      "[ 1.  2.  3.  0.]\n"
     ]
    }
   ],
   "source": [
    "print (df[['FrameTypeID', 'IsBadBuy']].groupby(['FrameTypeID'], as_index=False).mean())\n",
    "#fill na\n",
    "df['FrameTypeID'].fillna(df['FrameTypeID'].mode()[0], inplace = True)\n",
    "print(df[\"FrameTypeID\"].unique())\n",
    "\n",
    "#drop frame type\n",
    "#drop_column = ['FrameType']\n",
    "#df.drop(drop_column, axis=1, inplace = True)"
   ]
  },
  {
   "cell_type": "markdown",
   "metadata": {},
   "source": [
    "#### Bids"
   ]
  },
  {
   "cell_type": "code",
   "execution_count": 37,
   "metadata": {},
   "outputs": [
    {
     "name": "stdout",
     "output_type": "stream",
     "text": [
      "         Bids  IsBadBuy\n",
      "0        4825       1.0\n",
      "1        5368       0.0\n",
      "2        8706       NaN\n",
      "3        9446       1.0\n",
      "4        9878       0.0\n",
      "5       10095       1.0\n",
      "6       10643       0.0\n",
      "7       11662       1.0\n",
      "8       12628       0.0\n",
      "9       12926       0.0\n",
      "10      13445       1.0\n",
      "11      13924       1.0\n",
      "12      14187       0.0\n",
      "13      14474       0.0\n",
      "14      14519       0.0\n",
      "15      14547       0.0\n",
      "16      14961       1.0\n",
      "17      15249       0.0\n",
      "18      15409       1.0\n",
      "19      15655       0.0\n",
      "20      15743       1.0\n",
      "21      15894       0.0\n",
      "22      16545       NaN\n",
      "23      16574       NaN\n",
      "24      16713       0.0\n",
      "25      16833       0.0\n",
      "26      17281       0.0\n",
      "27      17502       NaN\n",
      "28      17538       0.0\n",
      "29      18440       NaN\n",
      "...       ...       ...\n",
      "39917  109260       NaN\n",
      "39918  109300       0.0\n",
      "39919  109323       1.0\n",
      "39920  109330       NaN\n",
      "39921  109348       NaN\n",
      "39922  109362       NaN\n",
      "39923  109366       0.0\n",
      "39924  109399       0.0\n",
      "39925  109408       0.0\n",
      "39926  109451       0.0\n",
      "39927  109549       1.0\n",
      "39928  109564       NaN\n",
      "39929  109662       NaN\n",
      "39930  109728       1.0\n",
      "39931  109734       0.0\n",
      "39932  109848       1.0\n",
      "39933  109888       0.0\n",
      "39934  109909       0.0\n",
      "39935  109967       0.0\n",
      "39936  110022       0.0\n",
      "39937  110055       NaN\n",
      "39938  110071       0.0\n",
      "39939  110119       0.0\n",
      "39940  110318       1.0\n",
      "39941  112029       0.0\n",
      "39942  112056       0.0\n",
      "39943  113617       NaN\n",
      "39944  114184       NaN\n",
      "39945  115026       1.0\n",
      "39946  115717       1.0\n",
      "\n",
      "[39947 rows x 2 columns]\n"
     ]
    }
   ],
   "source": [
    "print (df[['Bids', 'IsBadBuy']].groupby(['Bids'], as_index=False).mean())\n",
    "#categorize bids into 10 range\n",
    "bids_avg = df['Bids'].mean()\n",
    "Bids_std = df['Bids'].std()  \n",
    "df['Bids'] = df['Bids'].astype(int)   \n",
    "# df['CategoricalBids'] = pd.cut(df['Bids'], 4)\n",
    "# print (df[['CategoricalBids', 'IsBadBuy']].groupby(['CategoricalBids'], as_index=False).mean())\n",
    "# # mapping \n",
    "# df.loc[(df['Bids'] > 4714.108) &(df['Bids'] <= 27003.4), 'Bids'] = 1\n",
    "# df.loc[(df['Bids'] > 27003.4) & (df['Bids'] <= 49181.8), 'Bids'] = 2\n",
    "# df.loc[(df['Bids'] > 49181.8) & (df['Bids'] <= 71360.2), 'Bids'] = 3\n",
    "# df.loc[(df['Bids'] > 71360.2) & (df['Bids'] <= 93538.6), 'Bids'] = 4\n",
    "# df.loc[(df['Bids'] > 93538.6) & (df['Bids'] <= 115717.0),'Bids'] = 5\n",
    "# print(\"After\", df[\"Bids\"].unique())"
   ]
  },
  {
   "cell_type": "markdown",
   "metadata": {},
   "source": [
    "#### Nationality"
   ]
  },
  {
   "cell_type": "code",
   "execution_count": 38,
   "metadata": {},
   "outputs": [
    {
     "name": "stdout",
     "output_type": "stream",
     "text": [
      "      Nationality  IsBadBuy\n",
      "0        AMERICAN  0.121387\n",
      "1           OTHER  0.137931\n",
      "2     OTHER ASIAN  0.132911\n",
      "3  TOP LINE ASIAN  0.129094\n",
      "['OTHER ASIAN' 'AMERICAN' 'TOP LINE ASIAN' 'OTHER']\n"
     ]
    }
   ],
   "source": [
    "print (df[['Nationality', 'IsBadBuy']].groupby(['Nationality'], as_index=False).mean())\n",
    "#fill NA\n",
    "df['Nationality'].fillna(\"OTHER\", inplace = True)\n",
    "print(df[\"Nationality\"].unique())\n"
   ]
  },
  {
   "cell_type": "code",
   "execution_count": 39,
   "metadata": {},
   "outputs": [
    {
     "name": "stdout",
     "output_type": "stream",
     "text": [
      "After [1 2 3 4]\n"
     ]
    }
   ],
   "source": [
    "#mapping\n",
    "nationality = {\"OTHER ASIAN\":1, \"AMERICAN\":2, \"TOP LINE ASIAN\":3, \"OTHER\":4}\n",
    "df[\"Nationality\"] = df[\"Nationality\"].map(nationality)\n",
    "print(\"After\", df[\"Nationality\"].unique())"
   ]
  },
  {
   "cell_type": "markdown",
   "metadata": {},
   "source": [
    "#### Size"
   ]
  },
  {
   "cell_type": "code",
   "execution_count": 40,
   "metadata": {},
   "outputs": [
    {
     "name": "stdout",
     "output_type": "stream",
     "text": [
      "            Size  IsBadBuy\n",
      "0        COMPACT  0.158627\n",
      "1      CROSSOVER  0.102629\n",
      "2       Enlarged  0.128642\n",
      "3          LARGE  0.091157\n",
      "4   LARGE Canvas  0.108902\n",
      "5    LARGE other  0.158367\n",
      "6         MEDIUM  0.115824\n",
      "7   MEDIUM other  0.149629\n",
      "8   SMALL Canvas  0.136519\n",
      "9    SMALL other  0.138201\n",
      "10     SPECIALTY  0.089087\n",
      "11        Shrink  0.192101\n",
      "before ['SMALL other' 'Shrink' 'MEDIUM' 'COMPACT' 'MEDIUM other' 'Enlarged'\n",
      " 'LARGE' 'CROSSOVER' 'LARGE Canvas' 'SPECIALTY' 'SMALL Canvas'\n",
      " 'LARGE other' nan]\n",
      "['SMALL other' 'Shrink' 'MEDIUM' 'COMPACT' 'MEDIUM other' 'Enlarged'\n",
      " 'LARGE' 'CROSSOVER' 'LARGE Canvas' 'SPECIALTY' 'SMALL Canvas'\n",
      " 'LARGE other']\n"
     ]
    }
   ],
   "source": [
    "print (df[['Size', 'IsBadBuy']].groupby(['Size'], as_index=False).mean())\n",
    "print(\"before\",df[\"Size\"].unique())\n",
    "#fill na\n",
    "df['Size'].fillna(df['Size'].mode()[0], inplace = True)\n",
    "print(df[\"Size\"].unique())"
   ]
  },
  {
   "cell_type": "code",
   "execution_count": 41,
   "metadata": {},
   "outputs": [
    {
     "name": "stdout",
     "output_type": "stream",
     "text": [
      "After [ 1  2  3  4  5  6  7  8  9 10 11 12]\n"
     ]
    }
   ],
   "source": [
    "#mapping\n",
    "size = {\"SMALL other\":1, \"Shrink\":2, \"MEDIUM\":3, \"COMPACT\":4, \"MEDIUM other\":5, \"Enlarged\":6,\n",
    " \"LARGE\":7, \"CROSSOVER\":8, \"LARGE Canvas\":9, \"SPECIALTY\":10, \"SMALL Canvas\":11,\n",
    " \"LARGE other\":12}\n",
    "df[\"Size\"] = df[\"Size\"].map(size)\n",
    "print(\"After\", df[\"Size\"].unique())"
   ]
  },
  {
   "cell_type": "markdown",
   "metadata": {},
   "source": [
    "#### TopThreeNYCName"
   ]
  },
  {
   "cell_type": "code",
   "execution_count": 42,
   "metadata": {},
   "outputs": [
    {
     "name": "stdout",
     "output_type": "stream",
     "text": [
      "        TopThreeNYCName  IsBadBuy\n",
      "0           Andy Warhol  0.116188\n",
      "1         Grandma Moses  0.156746\n",
      "2  Jean-Michel Basquiat  0.109109\n",
      "3                 OTHER  0.131822\n",
      "['OTHER' 'Grandma Moses' 'Jean-Michel Basquiat' 'Andy Warhol' nan]\n"
     ]
    }
   ],
   "source": [
    "print (df[['TopThreeNYCName', 'IsBadBuy']].groupby(['TopThreeNYCName'], as_index=False).mean())\n",
    "print(df[\"TopThreeNYCName\"].unique())"
   ]
  },
  {
   "cell_type": "code",
   "execution_count": 43,
   "metadata": {},
   "outputs": [
    {
     "name": "stdout",
     "output_type": "stream",
     "text": [
      "['OTHER' 'Grandma Moses' 'Jean-Michel Basquiat' 'Andy Warhol']\n"
     ]
    }
   ],
   "source": [
    "#fill na\n",
    "df['TopThreeNYCName'].fillna(\"OTHER\", inplace = True)\n",
    "print(df[\"TopThreeNYCName\"].unique())"
   ]
  },
  {
   "cell_type": "code",
   "execution_count": 44,
   "metadata": {},
   "outputs": [
    {
     "name": "stdout",
     "output_type": "stream",
     "text": [
      "After [1 2 3 4]\n"
     ]
    }
   ],
   "source": [
    "#mapping\n",
    "size = {\"OTHER\":1, \"Grandma Moses\":2, \"Jean-Michel Basquiat\":3, \"Andy Warhol\":4}\n",
    "df[\"TopThreeNYCName\"] = df[\"TopThreeNYCName\"].map(size)\n",
    "print(\"After\", df[\"TopThreeNYCName\"].unique())"
   ]
  },
  {
   "cell_type": "markdown",
   "metadata": {},
   "source": []
  },
  {
   "cell_type": "code",
   "execution_count": null,
   "metadata": {
    "collapsed": true
   },
   "outputs": [],
   "source": []
  },
  {
   "cell_type": "markdown",
   "metadata": {},
   "source": [
    "#### PRIMEUNIT"
   ]
  },
  {
   "cell_type": "code",
   "execution_count": 45,
   "metadata": {},
   "outputs": [
    {
     "name": "stdout",
     "output_type": "stream",
     "text": [
      "['OTHER' 'NO' 'YES']\n",
      "  PRIMEUNIT  IsBadBuy\n",
      "0        NO  0.037543\n",
      "1     OTHER  0.127223\n",
      "2       YES  0.119048\n",
      "['OTHER' 'NO' 'YES']\n",
      "After [1 2 3]\n"
     ]
    }
   ],
   "source": [
    "#fill na\n",
    "df['PRIMEUNIT'].fillna(\"OTHER\", inplace = True)\n",
    "print(df[\"PRIMEUNIT\"].unique())\n",
    "print (df[['PRIMEUNIT', 'IsBadBuy']].groupby(['PRIMEUNIT'], as_index=False).mean())\n",
    "print(df[\"PRIMEUNIT\"].unique())\n",
    "#mapping\n",
    "cat = {\"OTHER\":1, \"NO\":2, \"YES\":3}\n",
    "df[\"PRIMEUNIT\"] = df[\"PRIMEUNIT\"].map(cat)\n",
    "print(\"After\", df[\"PRIMEUNIT\"].unique())"
   ]
  },
  {
   "cell_type": "markdown",
   "metadata": {},
   "source": [
    "#### AUCGUART"
   ]
  },
  {
   "cell_type": "code",
   "execution_count": 46,
   "metadata": {},
   "outputs": [
    {
     "name": "stdout",
     "output_type": "stream",
     "text": [
      "['OTHER' 'GREEN' 'RED']\n",
      "  AUCGUART  IsBadBuy\n",
      "0    GREEN  0.037291\n",
      "1    OTHER  0.127223\n",
      "2      RED  0.113208\n",
      "['OTHER' 'GREEN' 'RED']\n",
      "After [1 2 3]\n"
     ]
    }
   ],
   "source": [
    "#fill na\n",
    "df['AUCGUART'].fillna(\"OTHER\", inplace = True)\n",
    "print(df[\"AUCGUART\"].unique())\n",
    "print (df[['AUCGUART', 'IsBadBuy']].groupby(['AUCGUART'], as_index=False).mean())\n",
    "print(df[\"AUCGUART\"].unique())\n",
    "#mapping\n",
    "COLOR = {\"OTHER\":1, \"GREEN\":2, \"RED\":3}\n",
    "df[\"AUCGUART\"] = df[\"AUCGUART\"].map(COLOR)\n",
    "print(\"After\", df[\"AUCGUART\"].unique())"
   ]
  },
  {
   "cell_type": "markdown",
   "metadata": {},
   "source": [
    "#### BYRNO"
   ]
  },
  {
   "cell_type": "code",
   "execution_count": 47,
   "metadata": {},
   "outputs": [
    {
     "name": "stdout",
     "output_type": "stream",
     "text": [
      "    BYRNO  IsBadBuy\n",
      "0     835  0.121270\n",
      "1    1031  0.050000\n",
      "2    1035  0.000000\n",
      "3    1041  0.142857\n",
      "4    1045  0.166667\n",
      "5    1051  0.056604\n",
      "6    1055  0.000000\n",
      "7    1081  0.066667\n",
      "8    1082  0.000000\n",
      "9    1085  0.205128\n",
      "10   1086  0.000000\n",
      "11   1121  0.166667\n",
      "12   1125  0.000000\n",
      "13   1141  0.066667\n",
      "14   1151  0.043478\n",
      "15   1152  0.250000\n",
      "16   1156  0.000000\n",
      "17   1157       NaN\n",
      "18   1191  0.135135\n",
      "19   1231  0.154412\n",
      "20   1235  0.089506\n",
      "21   3453  0.119506\n",
      "22   3582  1.000000\n",
      "23   5546  0.097294\n",
      "24   8172  0.118029\n",
      "25   8655  0.131876\n",
      "26  10310  0.181818\n",
      "27  10315  0.102362\n",
      "28  10410  0.000000\n",
      "29  10420  0.000000\n",
      "..    ...       ...\n",
      "44  18881  0.092245\n",
      "45  19064  0.132988\n",
      "46  19619  0.120250\n",
      "47  19638  0.108979\n",
      "48  19662  0.126534\n",
      "49  20207  0.123110\n",
      "50  20234  0.099798\n",
      "51  20392  0.180233\n",
      "52  20740  0.155030\n",
      "53  20833  0.173975\n",
      "54  20928  0.096333\n",
      "55  21047  0.166667\n",
      "56  21053  0.134755\n",
      "57  21973  0.120355\n",
      "58  22808  0.139892\n",
      "59  22916  0.136272\n",
      "60  23359  0.167579\n",
      "61  23657  0.122530\n",
      "62  25100  0.126516\n",
      "63  52117  0.125432\n",
      "64  52492  0.140316\n",
      "65  52598  0.109375\n",
      "66  52644  0.142857\n",
      "67  52646  0.145228\n",
      "68  53245  0.211538\n",
      "69  99740  0.131915\n",
      "70  99741       NaN\n",
      "71  99750  0.032224\n",
      "72  99760  1.000000\n",
      "73  99761  0.057122\n",
      "\n",
      "[74 rows x 2 columns]\n",
      "[ 8655 22808 20928 21053 22916 21973 19064 20234 19619 20833  5546 18880\n",
      "  3453 18822 18881  8172 20740 25100 17675 52644 19638 99761  1051   835\n",
      " 99750 19662 99740 20207 23359  1231 52598 17212 18111 52492 16044 16926\n",
      " 52117  1235  1045  1035 20392  1156 52646 10430  1031 23657  1141 11410\n",
      " 10410  1121  1151  1191 21047 10315  1081 53245 11210  1085 10420 10310\n",
      "  1055  1152  1082 18091 99760  1041  3582 16369  1125  1086 10425 99741\n",
      "  1157 10510]\n"
     ]
    }
   ],
   "source": [
    "print (df[['BYRNO', 'IsBadBuy']].groupby(['BYRNO'], as_index=False).mean())\n",
    "print(df[\"BYRNO\"].unique())\n",
    "df['BYRNO'].fillna(0, inplace = True)\n",
    "# df['BYRNO'].value_counts()\n",
    "#df = df.dropna(subset=['BYRNO'])\n",
    "# df['BYRNO'] = df['BYRNO'].astype(int)\n",
    "# BYRNO = sns.distplot(df[\"BYRNO\"])"
   ]
  },
  {
   "cell_type": "code",
   "execution_count": 48,
   "metadata": {
    "collapsed": true,
    "scrolled": false
   },
   "outputs": [],
   "source": [
    "# valuec = df['BYRNO'].value_counts()\n",
    "# df['BYRCounts'] = df.groupby(['BYRNO'])['BYRNO'].transform('count')\n",
    "# print(df['BYRCounts'])\n",
    "#mean = df[['BYRNO', 'IsBadBuy']].groupby(['BYRNO'], as_index=False).mean()\n",
    "#valuec = pd.DataFrame(valuec)\n",
    "# mean = pd.DataFrame(mean)\n",
    "# frames = [valuec, mean]\n",
    "# result = pd.concat(frames)"
   ]
  },
  {
   "cell_type": "markdown",
   "metadata": {},
   "source": [
    "#### Prices"
   ]
  },
  {
   "cell_type": "code",
   "execution_count": 50,
   "metadata": {
    "collapsed": true
   },
   "outputs": [],
   "source": [
    "#Fill NA\n",
    "df['MMRAcquisitionAuctionAveragePrice'].fillna(df['MMRAcquisitionAuctionAveragePrice'].median(), inplace = True)\n",
    "df['MMRAcquisitionAuctionCleanPrice'].fillna(df['MMRAcquisitionAuctionCleanPrice'].median(), inplace = True)\n",
    "df['MMRAcquisitionRetailAveragePrice'].fillna(df['MMRAcquisitionRetailAveragePrice'].median(), inplace = True)\n",
    "df['MMRAcquisitonRetailCleanPrice'].fillna(df['MMRAcquisitonRetailCleanPrice'].median(), inplace = True)\n",
    "df['MMRCurrentAuctionAveragePrice'].fillna(df['MMRCurrentAuctionAveragePrice'].median(), inplace = True)\n",
    "df['MMRCurrentAuctionCleanPrice'].fillna(df['MMRCurrentAuctionCleanPrice'].median(), inplace = True)\n",
    "df['MMRCurrentRetailAveragePrice'].fillna(df['MMRCurrentRetailAveragePrice'].median(), inplace = True)\n",
    "df['MMRCurrentRetailCleanPrice'].fillna(df['MMRCurrentRetailCleanPrice'].median(), inplace = True)"
   ]
  },
  {
   "cell_type": "markdown",
   "metadata": {},
   "source": [
    "#### Ratios"
   ]
  },
  {
   "cell_type": "code",
   "execution_count": 51,
   "metadata": {
    "collapsed": true
   },
   "outputs": [],
   "source": [
    "df['MMRAcquisitionAuctionAveragePriceRatio'] = df['MMRAcquisitionAuctionAveragePrice']/df['Bids']\n",
    "df['MMRAcquisitionAuctionCleanPriceRatio'] = df['MMRAcquisitionAuctionCleanPrice']/df['Bids']  \n",
    "df['MMRAcquisitionRetailAveragePriceRatio'] = df['MMRAcquisitionRetailAveragePrice']/df['Bids']  \n",
    "df['MMRAcquisitonRetailCleanPriceRatio'] = df['MMRAcquisitonRetailCleanPrice']/df['Bids']  \n",
    "df['MMRCurrentAuctionAveragePriceRatio'] = df['MMRCurrentAuctionAveragePrice']/df['Bids']  \n",
    "df['MMRCurrentAuctionCleanPriceRatio'] = df['MMRCurrentAuctionCleanPrice']/df['Bids']  \n",
    "df['MMRCurrentRetailAveragePriceRatio'] = df['MMRCurrentRetailAveragePrice']/df['Bids']  \n",
    "df['MMRCurrentRetailCleanPriceRatio'] = df['MMRCurrentRetailCleanPrice']/df['Bids']  "
   ]
  },
  {
   "cell_type": "markdown",
   "metadata": {},
   "source": [
    "#### Zipcode & State"
   ]
  },
  {
   "cell_type": "code",
   "execution_count": 52,
   "metadata": {},
   "outputs": [
    {
     "name": "stdout",
     "output_type": "stream",
     "text": [
      "   VNST  IsBadBuy\n",
      "0    AL  0.136735\n",
      "1    AR  0.218182\n",
      "2    AZ  0.111188\n",
      "3    CA  0.132300\n",
      "4    CO  0.123599\n",
      "5    FL  0.109764\n",
      "6    GA  0.104443\n",
      "7    IA  0.148876\n",
      "8    ID  0.118881\n",
      "9    IL  0.149502\n",
      "10   IN  0.142045\n",
      "11   KY  0.073171\n",
      "12   LA  0.138776\n",
      "13   MA  0.166667\n",
      "14   MD  0.144608\n",
      "15   MI  0.100000\n",
      "16   MN  0.057143\n",
      "17   MO  0.116883\n",
      "18   MS  0.096317\n",
      "19   NC  0.117023\n",
      "20   NE  0.066667\n",
      "21   NH  0.089552\n",
      "22   NJ  0.120000\n",
      "23   NM  0.119760\n",
      "24   NV  0.162095\n",
      "25   NY  0.000000\n",
      "26   OH  0.078853\n",
      "27   OK  0.094038\n",
      "28   OR  0.064286\n",
      "29   PA  0.167742\n",
      "30   SC  0.143477\n",
      "31   TN  0.107631\n",
      "32   TX  0.136325\n",
      "33   UT  0.123311\n",
      "34   VA  0.155844\n",
      "35   WA  0.076923\n",
      "36   WV  0.108911\n",
      "['TX' 'LA' 'FL' 'AZ' 'CO' 'VA' 'OK' 'GA' 'UT' 'SC' 'NC' 'CA' 'TN' 'IN' 'NE'\n",
      " 'MO' 'IL' 'MD' 'PA' 'NH' 'NV' 'NJ' 'AL' 'IA' 'NM' 'OH' 'WV' 'OR' 'ID' 'MS'\n",
      " 'KY' 'WA' 'MN' 'NY' 'AR' 'MA' 'MI']\n"
     ]
    }
   ],
   "source": [
    "#USE VNST\n",
    "print (df[['VNST', 'IsBadBuy']].groupby(['VNST'], as_index=False).mean())\n",
    "print(df[\"VNST\"].unique())"
   ]
  },
  {
   "cell_type": "code",
   "execution_count": 53,
   "metadata": {},
   "outputs": [
    {
     "name": "stdout",
     "output_type": "stream",
     "text": [
      "After [ 1  2  3  4  5  6  7  8  9 10 11 12 13 14 15 16 17 18 19 20 21 22 23 24 25\n",
      " 26 27 28 29 30 31 32 33 34 35 36 37]\n"
     ]
    }
   ],
   "source": [
    "#mapping\n",
    "st = {\"TX\":1, \"LA\":2, \"FL\":3, \"AZ\":4, \"CO\":5, \"VA\":6, \"OK\":7, \"GA\":8, \"UT\":9, \"SC\":10, \"NC\":11, \"CA\":12, \"TN\":13, \"IN\":14, \"NE\":15,\n",
    " \"MO\":16, \"IL\":17, \"MD\":18, \"PA\":19, \"NH\":20, \"NV\":21, \"NJ\":22, \"AL\":23, \"IA\":24, \"NM\":25, \"OH\":26, \"WV\":27, \"OR\":28, \"ID\":29, \"MS\":30,\n",
    " \"KY\":31, \"WA\":32, \"MN\":33, \"NY\":34, \"AR\":35, \"MA\":36, \"MI\":37}\n",
    "df[\"VNST\"] = df[\"VNST\"].map(st)\n",
    "print(\"After\", df[\"VNST\"].unique())"
   ]
  },
  {
   "cell_type": "markdown",
   "metadata": {},
   "source": [
    "#### PaintingCategories, QualityChecks,PaintingSize         "
   ]
  },
  {
   "cell_type": "code",
   "execution_count": 54,
   "metadata": {},
   "outputs": [
    {
     "name": "stdout",
     "output_type": "stream",
     "text": [
      "  PaintingCategories  IsBadBuy\n",
      "0                  0  0.135562\n",
      "1           Fine Art  0.120746\n",
      "2              Genre  0.115765\n",
      "3            History  0.120154\n",
      "4          Landscape  0.164798\n",
      "5           Portrait  0.126407\n",
      "6          Real Life  0.117021\n",
      "7         Still Life  0.114086\n",
      "[0 'Landscape' 'Genre' 'Portrait' 'Real Life' 'Still Life' 'Fine Art'\n",
      " 'History']\n",
      "After [0 1 2 3 4 5 6 7]\n"
     ]
    }
   ],
   "source": [
    "print (df[[\"PaintingCategories\", \"IsBadBuy\"]].groupby([\"PaintingCategories\"], as_index=False).mean())\n",
    "print(df[\"PaintingCategories\"].unique())\n",
    "#mapping\n",
    "cat = {0:0, \"Landscape\":1, \"Genre\":2, \"Portrait\":3, \"Real Life\":4, \"Still Life\":5, \"Fine Art\":6, \"History\":7}\n",
    "df[\"PaintingCategories\"] = df[\"PaintingCategories\"].map(cat)\n",
    "print(\"After\", df[\"PaintingCategories\"].unique())"
   ]
  },
  {
   "cell_type": "code",
   "execution_count": 55,
   "metadata": {},
   "outputs": [
    {
     "name": "stdout",
     "output_type": "stream",
     "text": [
      "  QualityChecks  IsBadBuy\n",
      "0             0  0.124131\n",
      "1           I 4  0.300000\n",
      "2           I-4  0.152364\n",
      "3           I-6  0.333333\n",
      "4            I4  0.113672\n",
      "5            I6  0.072165\n",
      "[0 'I4' 'I-4' 'I6' 'I 4' 'I-6']\n",
      "After [0 1 2]\n"
     ]
    }
   ],
   "source": [
    "print (df[[\"QualityChecks\", \"IsBadBuy\"]].groupby([\"QualityChecks\"], as_index=False).mean())\n",
    "print(df[\"QualityChecks\"].unique())\n",
    "#mapping\n",
    "cat = {0:0, \"I4\":1, \"I-4\":1, \"I6\":2, \"I 4\":1, \"I-6\":2}\n",
    "df[\"QualityChecks\"] = df[\"QualityChecks\"].map(cat)\n",
    "print(\"After\", df[\"QualityChecks\"].unique())"
   ]
  },
  {
   "cell_type": "code",
   "execution_count": 56,
   "metadata": {},
   "outputs": [
    {
     "name": "stdout",
     "output_type": "stream",
     "text": [
      "   PaintingSize  IsBadBuy\n",
      "0             0  0.129752\n",
      "1          1.5L  0.083333\n",
      "2          1.6L  0.170213\n",
      "3          1.7L  0.000000\n",
      "4          1.8L  0.117647\n",
      "5          1.9L  0.166667\n",
      "6            1L  0.043478\n",
      "7          2.0L  0.129283\n",
      "8          2.2L  0.100407\n",
      "9          2.3L  0.106095\n",
      "10         2.4L  0.117690\n",
      "11         2.5L  0.152381\n",
      "12         2.7L  0.072009\n",
      "13         2.8L  0.054795\n",
      "14         2.9L  0.000000\n",
      "15         3.0L  0.141127\n",
      "16         3.1L  0.267760\n",
      "17         3.2L  0.307692\n",
      "18         3.3L  0.113504\n",
      "19         3.4L  0.155052\n",
      "20         3.5L  0.070733\n",
      "21         3.6L  0.100000\n",
      "22         3.7L  0.109649\n",
      "23         3.8L  0.138226\n",
      "24         3.9L  0.104089\n",
      "25         4.0L  0.224060\n",
      "26         4.2L  0.119115\n",
      "27         4.3L  0.120536\n",
      "28         4.5L  0.000000\n",
      "29         4.6L  0.173979\n",
      "30         4.7L  0.106657\n",
      "31         4.8L  0.081395\n",
      "32         5.2L  0.000000\n",
      "33         5.3L  0.118280\n",
      "34         5.4L  0.220225\n",
      "35         5.6L  0.066038\n",
      "36         5.7L  0.064220\n",
      "37         5.9L  0.228070\n",
      "38         6.0L  0.185185\n",
      "39         6.2L  1.000000\n",
      "40         8.1L       NaN\n",
      "[0 '3.9L' '4.2L' '2.0L' '3.3L' '3.5L' '3.0L' '4.0L' '2.4L' '5.3L' '2.2L'\n",
      " '4.7L' '3.7L' '3.4L' '5.4L' '3.8L' '2.7L' '1.8L' '5.7L' '4.8L' '2.3L'\n",
      " '4.6L' '2.5L' '2.8L' '5.6L' '1.6L' '3.1L' '5.9L' '4.3L' '6.0L' '1.9L'\n",
      " '3.6L' '1.5L' '1L' '1.7L' '2.9L' '4.5L' '3.2L' '6.2L' '5.2L' '8.1L']\n",
      "After [0 3 4 2 5 1 6 8]\n"
     ]
    }
   ],
   "source": [
    "print (df[[\"PaintingSize\", \"IsBadBuy\"]].groupby([\"PaintingSize\"], as_index=False).mean())\n",
    "print(df[\"PaintingSize\"].unique())\n",
    "#mapping\n",
    "cat = {0:0, \"3.9L\":3, \"4.2L\":4, \"2.0L\":2, \"3.3L\":3, \"3.5L\":3, \"3.0L\":3, \"4.0L\":4, \"2.4L\":2, \"5.3L\":5, \"2.2L\":2,\n",
    " \"4.7L\":4, \"3.7L\":3, \"3.4L\":3, \"5.4L\":5, \"3.8L\":3, \"2.7L\":2, \"1.8L\":1, \"5.7L\":5, \"4.8L\":4, \"2.3L\":2,\n",
    " \"4.6L\":4, \"2.5L\":2, \"2.8L\":2, \"5.6L\":5, \"1.6L\":1, \"3.1L\":3, \"5.9L\":5, \"4.3L\":4, \"6.0L\":6, \"1.9L\":1,\n",
    " \"3.6L\":3, \"1.5L\":1, \"1L\":1, \"1.7L\":1, \"2.9L\":2, \"4.5L\":4, \"3.2L\":3, \"6.2L\":6, \"5.2L\":5, \"8.1L\": 8}\n",
    "df[\"PaintingSize\"] = df[\"PaintingSize\"].map(cat)\n",
    "print(\"After\", df[\"PaintingSize\"].unique())"
   ]
  },
  {
   "cell_type": "code",
   "execution_count": 57,
   "metadata": {
    "collapsed": true
   },
   "outputs": [],
   "source": [
    "#drop zipcode\n",
    "drop_column = ['PurchDate']\n",
    "df.drop(drop_column, axis=1, inplace = True)"
   ]
  },
  {
   "cell_type": "markdown",
   "metadata": {},
   "source": []
  },
  {
   "cell_type": "code",
   "execution_count": 58,
   "metadata": {},
   "outputs": [
    {
     "name": "stdout",
     "output_type": "stream",
     "text": [
      "<class 'pandas.core.frame.DataFrame'>\n",
      "RangeIndex: 72983 entries, 0 to 72982\n",
      "Data columns (total 43 columns):\n",
      "AUCGUART                                  72983 non-null int64\n",
      "Artist                                    72983 non-null int64\n",
      "Auction                                   72983 non-null int64\n",
      "BYRNO                                     72983 non-null int64\n",
      "Bids                                      72983 non-null int64\n",
      "CanvasColor                               72983 non-null int64\n",
      "FrameType                                 69809 non-null object\n",
      "FrameTypeID                               72983 non-null float64\n",
      "IsBadBuy                                  51088 non-null float64\n",
      "IsOnlineSale                              72983 non-null int64\n",
      "MMRAcquisitionAuctionAveragePrice         72983 non-null float64\n",
      "MMRAcquisitionAuctionCleanPrice           72983 non-null float64\n",
      "MMRAcquisitionRetailAveragePrice          72983 non-null float64\n",
      "MMRAcquisitonRetailCleanPrice             72983 non-null float64\n",
      "MMRCurrentAuctionAveragePrice             72983 non-null float64\n",
      "MMRCurrentAuctionCleanPrice               72983 non-null float64\n",
      "MMRCurrentRetailAveragePrice              72983 non-null float64\n",
      "MMRCurrentRetailCleanPrice                72983 non-null float64\n",
      "Market                                    72983 non-null int64\n",
      "Nationality                               72983 non-null int64\n",
      "PRIMEUNIT                                 72983 non-null int64\n",
      "PaintingAge                               72983 non-null int64\n",
      "PaintingBCost                             72983 non-null float64\n",
      "Size                                      72983 non-null int64\n",
      "TopThreeNYCName                           72983 non-null int64\n",
      "Trim                                      72983 non-null object\n",
      "VNST                                      72983 non-null int64\n",
      "VNZIP1                                    72983 non-null int64\n",
      "WarrantyCost                              72983 non-null int64\n",
      "PaintingCategories                        72983 non-null int64\n",
      "QualityChecks                             72983 non-null int64\n",
      "PaintingSize                              72983 non-null int64\n",
      "Year                                      72983 non-null int64\n",
      "Month                                     72983 non-null int64\n",
      "Day                                       72983 non-null int64\n",
      "MMRAcquisitionAuctionAveragePriceRatio    72983 non-null float64\n",
      "MMRAcquisitionAuctionCleanPriceRatio      72983 non-null float64\n",
      "MMRAcquisitionRetailAveragePriceRatio     72983 non-null float64\n",
      "MMRAcquisitonRetailCleanPriceRatio        72983 non-null float64\n",
      "MMRCurrentAuctionAveragePriceRatio        72983 non-null float64\n",
      "MMRCurrentAuctionCleanPriceRatio          72983 non-null float64\n",
      "MMRCurrentRetailAveragePriceRatio         72983 non-null float64\n",
      "MMRCurrentRetailCleanPriceRatio           72983 non-null float64\n",
      "dtypes: float64(19), int64(22), object(2)\n",
      "memory usage: 23.9+ MB\n",
      "None\n"
     ]
    }
   ],
   "source": [
    "print(df.info())"
   ]
  },
  {
   "cell_type": "code",
   "execution_count": 59,
   "metadata": {
    "collapsed": true
   },
   "outputs": [],
   "source": [
    "#drop CategoricalBids!!!\n",
    "# drop_column = ['CategoricalBids']\n",
    "# df.drop(drop_column, axis=1, inplace = True)"
   ]
  },
  {
   "cell_type": "code",
   "execution_count": 60,
   "metadata": {
    "collapsed": true
   },
   "outputs": [],
   "source": [
    "for col in df.dtypes[df.dtypes == 'object'].index:\n",
    "   for_dummy = df.pop(col)\n",
    "   df = pd.concat([df, pd.get_dummies(for_dummy, prefix=col)], axis=1)"
   ]
  },
  {
   "cell_type": "markdown",
   "metadata": {},
   "source": [
    "## Fit Model"
   ]
  },
  {
   "cell_type": "code",
   "execution_count": 61,
   "metadata": {},
   "outputs": [
    {
     "name": "stdout",
     "output_type": "stream",
     "text": [
      "(35761, 179) (15327, 179)\n"
     ]
    }
   ],
   "source": [
    "#drop_elements = ['VNST', 'PaintingSize']\n",
    "#df = df.drop(drop_elements,axis=1)\n",
    "train_ds= df[:train_len]\n",
    "test_ds = df[train_len:]\n",
    "#train_ds['IsBadBuy'] = train_ds['IsBadBuy'].fillna(0)\n",
    "np.random.seed(1111)\n",
    "train, test = np.split(train_ds.sample(frac=1), [int(.7*len(train_ds))])\n",
    "print(train.shape, test.shape)"
   ]
  },
  {
   "cell_type": "code",
   "execution_count": 62,
   "metadata": {},
   "outputs": [
    {
     "name": "stdout",
     "output_type": "stream",
     "text": [
      "<class 'pandas.core.frame.DataFrame'>\n",
      "RangeIndex: 51088 entries, 0 to 51087\n",
      "Columns: 179 entries, AUCGUART to Trim_s\n",
      "dtypes: float64(19), int64(22), uint8(138)\n",
      "memory usage: 22.7 MB\n"
     ]
    }
   ],
   "source": [
    "train_ds.info()"
   ]
  },
  {
   "cell_type": "code",
   "execution_count": 63,
   "metadata": {
    "collapsed": true
   },
   "outputs": [],
   "source": [
    "X_train = train.drop(labels=[\"IsBadBuy\"],axis=1)\n",
    "y_train = train[\"IsBadBuy\"].astype(int)\n",
    "X_test = test.drop(labels=[\"IsBadBuy\"],axis=1)\n",
    "y_test = test[\"IsBadBuy\"].astype(int)"
   ]
  },
  {
   "cell_type": "code",
   "execution_count": 64,
   "metadata": {},
   "outputs": [
    {
     "name": "stdout",
     "output_type": "stream",
     "text": [
      "len x train 35761\n",
      "len x test 15327\n",
      "len y train 35761\n",
      "len y test 15327\n"
     ]
    }
   ],
   "source": [
    "print('len x train', len(X_train))\n",
    "print('len x test', len(X_test))\n",
    "print('len y train', len(y_train))\n",
    "print('len y test', len(y_test))"
   ]
  },
  {
   "cell_type": "markdown",
   "metadata": {},
   "source": [
    "### Check the performances (accuracy) of each model"
   ]
  },
  {
   "cell_type": "code",
   "execution_count": 92,
   "metadata": {},
   "outputs": [
    {
     "data": {
      "image/png": "[encoded data removed]",
      "text/plain": [
       "<matplotlib.figure.Figure at 0x10d034f60>"
      ]
     },
     "metadata": {},
     "output_type": "display_data"
    }
   ],
   "source": [
    "import pandas as pd\n",
    "import numpy as np\n",
    "import matplotlib.pyplot as plt\n",
    "import seaborn as sns\n",
    "%matplotlib inline\n",
    "\n",
    "from collections import Counter\n",
    "\n",
    "from sklearn.ensemble import RandomForestClassifier, AdaBoostClassifier, GradientBoostingClassifier, ExtraTreesClassifier, VotingClassifier\n",
    "from sklearn.discriminant_analysis import LinearDiscriminantAnalysis\n",
    "from sklearn.linear_model import LogisticRegression\n",
    "from sklearn.neighbors import KNeighborsClassifier\n",
    "from sklearn.tree import DecisionTreeClassifier\n",
    "from sklearn.neural_network import MLPClassifier\n",
    "from sklearn.svm import SVC\n",
    "from sklearn.model_selection import GridSearchCV, cross_val_score, StratifiedKFold, learning_curve\n",
    "\n",
    "## Separate train dataset and test dataset\n",
    "test.drop(labels=[\"IsBadBuy\"],axis = 1,inplace=True)\n",
    "\n",
    "## Separate train features and label \n",
    "train[\"IsBadBuy\"] = train[\"IsBadBuy\"].astype(int)\n",
    "Y_train = train[\"IsBadBuy\"]\n",
    "X_train = train.drop(labels = [\"IsBadBuy\"],axis = 1)\n",
    "\n",
    "kfold = StratifiedKFold(n_splits=10)\n",
    "random_state = 2\n",
    "classifiers = []\n",
    "# classifiers.append(SVC(random_state=random_state))\n",
    "# classifiers.append(DecisionTreeClassifier(random_state=random_state))\n",
    "# classifiers.append(AdaBoostClassifier(DecisionTreeClassifier(random_state=random_state),random_state=random_state,learning_rate=0.1))\n",
    "classifiers.append(RandomForestClassifier(random_state=random_state))\n",
    "# classifiers.append(ExtraTreesClassifier(random_state=random_state))\n",
    "classifiers.append(GradientBoostingClassifier(random_state=random_state))\n",
    "# classifiers.append(MLPClassifier(random_state=random_state))\n",
    "# classifiers.append(KNeighborsClassifier())\n",
    "# classifiers.append(LogisticRegression(random_state = random_state))\n",
    "# classifiers.append(LinearDiscriminantAnalysis())\n",
    "\n",
    "cv_results = []\n",
    "for classifier in classifiers :\n",
    "    cv_results.append(cross_val_score(classifier, X_train, Y_train, scoring = \"accuracy\", cv = kfold, n_jobs=4))\n",
    "\n",
    "cv_means = []\n",
    "cv_std = []\n",
    "for cv_result in cv_results:\n",
    "    cv_means.append(cv_result.mean())\n",
    "    cv_std.append(cv_result.std())\n",
    "\n",
    "# cv_res = pd.DataFrame({\"CrossValMeans\":cv_means,\"CrossValerrors\": cv_std,\"Algorithm\":[\"SVC\",\"DecisionTree\",\"AdaBoost\",\n",
    "# \"RandomForest\",\"ExtraTrees\",\"GradientBoosting\",\"MultipleLayerPerceptron\",\"KNeighboors\",\"LogisticRegression\",\"LinearDiscriminantAnalysis\"]})\n",
    "\n",
    "cv_res = pd.DataFrame({\"CrossValMeans\":cv_means,\"CrossValerrors\": cv_std,\"Algorithm\":[\"RandomForest\",\"GradientBoosting\"]})\n",
    "\n",
    "g = sns.barplot(\"CrossValMeans\",\"Algorithm\",data = cv_res, palette=\"Set3\",orient = \"h\",**{'xerr':cv_std})\n",
    "g.set_xlabel(\"Mean Accuracy\")\n",
    "g = g.set_title(\"Cross validation scores\")\n"
   ]
  },
  {
   "cell_type": "markdown",
   "metadata": {},
   "source": [
    "### Method 1: use combined model of RandomForest and GradientBoosting"
   ]
  },
  {
   "cell_type": "code",
   "execution_count": 69,
   "metadata": {
    "collapsed": true
   },
   "outputs": [],
   "source": [
    "# # RFC Parameters tunning \n",
    "# RFC = RandomForestClassifier()\n",
    "\n",
    "\n",
    "# ## Search grid for optimal parameters\n",
    "# rf_param_grid = {\"max_depth\": [None],\n",
    "#               \"max_features\": [1, 3, 10],\n",
    "#               \"min_samples_split\": [2, 3, 10],\n",
    "#               \"min_samples_leaf\": [1, 3, 10],\n",
    "#               \"bootstrap\": [False],\n",
    "#               \"n_estimators\" :[100,300],\n",
    "#               \"criterion\": [\"gini\"]}\n",
    "\n",
    "\n",
    "# gsRFC = GridSearchCV(RFC,param_grid = rf_param_grid, cv=kfold, scoring=\"accuracy\", n_jobs= 4, verbose = 1)\n",
    "\n",
    "# gsRFC.fit(X_train,Y_train)\n",
    "\n",
    "# RFC_best = gsRFC.best_estimator_\n",
    "\n",
    "# # Best score\n",
    "# gsRFC.best_score_"
   ]
  },
  {
   "cell_type": "code",
   "execution_count": 70,
   "metadata": {
    "collapsed": true
   },
   "outputs": [],
   "source": [
    "# # Gradient boosting tunning\n",
    "\n",
    "# GBC = GradientBoostingClassifier()\n",
    "# gb_param_grid = {'loss' : [\"deviance\"],\n",
    "#               'n_estimators' : [100,200,300],\n",
    "#               'learning_rate': [0.1, 0.05, 0.01],\n",
    "#               'max_depth': [4, 8],\n",
    "#               'min_samples_leaf': [100,150],\n",
    "#               'max_features': [0.3, 0.1] \n",
    "#               }\n",
    "\n",
    "# gsGBC = GridSearchCV(GBC,param_grid = gb_param_grid, cv=kfold, scoring=\"accuracy\", n_jobs= 4, verbose = 1)\n",
    "\n",
    "# gsGBC.fit(X_train,Y_train)\n",
    "\n",
    "# GBC_best = gsGBC.best_estimator_\n",
    "\n",
    "# # Best score\n",
    "# gsGBC.best_score_"
   ]
  },
  {
   "cell_type": "markdown",
   "metadata": {},
   "source": [
    "### Feature Importance"
   ]
  },
  {
   "cell_type": "code",
   "execution_count": 94,
   "metadata": {},
   "outputs": [],
   "source": [
    "# nrows = ncols = 2\n",
    "# fig, axes = plt.subplots(nrows = nrows, ncols = ncols, sharex=\"all\", figsize=(15,15))\n",
    "\n",
    "# names_classifiers = [(\"RandomForest\",RFC_best),(\"GradientBoosting\",GBC_best)]\n",
    "\n",
    "# nclassifier = 0\n",
    "# for row in range(nrows):\n",
    "#     for col in range(ncols):\n",
    "#         name = names_classifiers[nclassifier][0]\n",
    "#         classifier = names_classifiers[nclassifier][1]\n",
    "#         indices = np.argsort(classifier.feature_importances_)[::-1][:40]\n",
    "#         g = sns.barplot(y=X_train.columns[indices][:40],x = classifier.feature_importances_[indices][:40] , orient='h',ax=axes[row][col])\n",
    "#         g.set_xlabel(\"Relative importance\",fontsize=12)\n",
    "#         g.set_ylabel(\"Features\",fontsize=12)\n",
    "#         g.tick_params(labelsize=9)\n",
    "#         g.set_title(name + \" feature importance\")\n",
    "#         nclassifier += 1"
   ]
  },
  {
   "cell_type": "markdown",
   "metadata": {},
   "source": [
    "## Ensemble Modeling"
   ]
  },
  {
   "cell_type": "code",
   "execution_count": 73,
   "metadata": {
    "collapsed": true
   },
   "outputs": [],
   "source": [
    "# votingC = VotingClassifier(estimators=[('rfc', RFC_best), ('gbc',GBC_best)], voting='soft', n_jobs=4)\n",
    "# votingC = votingC.fit(X_train, y_train)"
   ]
  },
  {
   "cell_type": "markdown",
   "metadata": {},
   "source": [
    "## Method 2: Random Forest Prediction (higher accuracy)"
   ]
  },
  {
   "cell_type": "markdown",
   "metadata": {},
   "source": [
    "### used optimal parameters based on the cross validation result. "
   ]
  },
  {
   "cell_type": "code",
   "execution_count": 78,
   "metadata": {},
   "outputs": [
    {
     "name": "stdout",
     "output_type": "stream",
     "text": [
      "<class 'pandas.core.frame.DataFrame'>\n",
      "RangeIndex: 21895 entries, 51088 to 72982\n",
      "Columns: 179 entries, AUCGUART to Trim_s\n",
      "dtypes: float64(19), int64(22), uint8(138)\n",
      "memory usage: 9.7 MB\n"
     ]
    }
   ],
   "source": [
    "test_ds.info()"
   ]
  },
  {
   "cell_type": "code",
   "execution_count": 79,
   "metadata": {},
   "outputs": [
    {
     "name": "stdout",
     "output_type": "stream",
     "text": [
      "<class 'pandas.core.frame.DataFrame'>\n",
      "RangeIndex: 21895 entries, 51088 to 72982\n",
      "Columns: 178 entries, AUCGUART to Trim_s\n",
      "dtypes: float64(18), int64(22), uint8(138)\n",
      "memory usage: 9.6 MB\n"
     ]
    }
   ],
   "source": [
    "test_data = test_ds.drop('IsBadBuy',axis=1)\n",
    "test_data.info()"
   ]
  },
  {
   "cell_type": "code",
   "execution_count": 91,
   "metadata": {},
   "outputs": [
    {
     "name": "stdout",
     "output_type": "stream",
     "text": [
      "Accuracy: 0.893455992693\n"
     ]
    }
   ],
   "source": [
    "from sklearn.ensemble import RandomForestClassifier\n",
    "\n",
    "#Create a Gaussian Classifier\n",
    "clf=RandomForestClassifier(criterion='entropy', min_samples_leaf=1, min_samples_split=4, n_estimators=350)\n",
    "\n",
    "#Train the model using the training sets y_pred=clf.predict(X_test)\n",
    "clf.fit(X_train,y_train)\n",
    "\n",
    "# prediction on test set\n",
    "y_pred=clf.predict(X_test)\n",
    "\n",
    "#Import scikit-learn metrics module for accuracy calculation\n",
    "from sklearn import metrics\n",
    "# Model Accuracy, how often is the classifier correct?\n",
    "print(\"Accuracy:\",metrics.accuracy_score(y_test, y_pred))"
   ]
  },
  {
   "cell_type": "markdown",
   "metadata": {},
   "source": [
    "### Prediction"
   ]
  },
  {
   "cell_type": "code",
   "execution_count": 90,
   "metadata": {},
   "outputs": [],
   "source": [
    "y_pred = clf.predict(test_data)\n",
    "len(y_pred)\n",
    "submission = pd.DataFrame({'RT13Id':IDtest, 'IsBadBuy':y_pred})\n",
    "submission.to_csv('Xiuhui_Zheng_xz2625.csv', index=False)"
   ]
  },
  {
   "cell_type": "code",
   "execution_count": 88,
   "metadata": {
    "collapsed": true
   },
   "outputs": [],
   "source": [
    "# y_pred = pd.Series(votingC.predict(test_data), name=\"IsBadBuy\")\n",
    "# len(y_pred)\n",
    "# submission = pd.concat([IDtest,y_pred],axis=1)\n",
    "# submission.to_csv('Xiuhui_Zheng_xz2625.csv', index=False)"
   ]
  },
  {
   "cell_type": "markdown",
   "metadata": {},
   "source": [
    "## Question 4.  Given more time, improved data, better com-puting power, etc . How would you improve your model in the future."
   ]
  },
  {
   "cell_type": "markdown",
   "metadata": {},
   "source": [
    "#### For this model I mainly tried 2 different methods: \n",
    "#### 1. grid search optimization on the best performance models based on the cross validation scores. Then combine the best models using voting classifier \n",
    "\n",
    "#### 2. predict using random forest model and tune the parameters based on cross validation results. \n",
    "\n",
    "#### The limitation of the first method was that it took my computer tremendous amount of time to finish the process, so it was difficult to adjust the model within limited time. So I finally used the second method to get the highest score, which was more efficient. If given more time, I would further explore the feature engineering process and create several more features based on observations from the existing data. I would also try more models and add more of them to the ensemble model to improve accuracy. In addition, I would explore more ways to improve the dataset and tune the parameters to improve the final result.  "
   ]
  },
  {
   "cell_type": "code",
   "execution_count": null,
   "metadata": {
    "collapsed": true
   },
   "outputs": [],
   "source": []
  }
 ],
 "metadata": {
  "kernelspec": {
   "display_name": "Python 3",
   "language": "python",
   "name": "python3"
  },
  "language_info": {
   "codemirror_mode": {
    "name": "ipython",
    "version": 3
   },
   "file_extension": ".py",
   "mimetype": "text/x-python",
   "name": "python",
   "nbconvert_exporter": "python",
   "pygments_lexer": "ipython3",
   "version": "3.6.3"
  }
 },
 "nbformat": 4,
 "nbformat_minor": 2
}
